{
 "cells": [
  {
   "cell_type": "code",
   "execution_count": 2,
   "id": "98b429f2-1d0c-436e-9e6f-71535593c79c",
   "metadata": {},
   "outputs": [
    {
     "name": "stdout",
     "output_type": "stream",
     "text": [
      "Defaulting to user installation because normal site-packages is not writeable\n",
      "Looking in links: /usr/share/pip-wheels\n",
      "Requirement already satisfied: requests in /opt/conda/envs/anaconda-panel-2023.05-py310/lib/python3.11/site-packages (2.29.0)\n",
      "Requirement already satisfied: charset-normalizer<4,>=2 in /opt/conda/envs/anaconda-panel-2023.05-py310/lib/python3.11/site-packages (from requests) (2.0.4)\n",
      "Requirement already satisfied: idna<4,>=2.5 in /opt/conda/envs/anaconda-panel-2023.05-py310/lib/python3.11/site-packages (from requests) (3.4)\n",
      "Requirement already satisfied: urllib3<1.27,>=1.21.1 in /opt/conda/envs/anaconda-panel-2023.05-py310/lib/python3.11/site-packages (from requests) (1.26.16)\n",
      "Requirement already satisfied: certifi>=2017.4.17 in /opt/conda/envs/anaconda-panel-2023.05-py310/lib/python3.11/site-packages (from requests) (2023.5.7)\n",
      "Note: you may need to restart the kernel to use updated packages.\n"
     ]
    }
   ],
   "source": [
    "pip install requests"
   ]
  },
  {
   "cell_type": "code",
   "execution_count": 7,
   "id": "267669c1-2ca2-41a3-84c4-e2fd9906e353",
   "metadata": {},
   "outputs": [
    {
     "name": "stdout",
     "output_type": "stream",
     "text": [
      "Hey I am in mymodule.py\n"
     ]
    }
   ],
   "source": [
    "from mymodule import my_func\n",
    "\n",
    "my_func()"
   ]
  },
  {
   "cell_type": "code",
   "execution_count": 13,
   "id": "e74e35db-5ceb-4005-9d2d-96a694eec705",
   "metadata": {},
   "outputs": [
    {
     "name": "stdout",
     "output_type": "stream",
     "text": [
      "Hey i am in some_main_script in main package \n",
      "Hey i am a function inside my subscript\n"
     ]
    }
   ],
   "source": [
    "from MyMainPackage import some_main_script\n",
    "from MyMainPackage.SubPackage import mysubscript\n",
    "\n",
    "some_main_script.report()\n",
    "\n",
    "mysubscript.sub_report()"
   ]
  },
  {
   "cell_type": "code",
   "execution_count": null,
   "id": "fa6e3487-97b1-4a3c-ba42-929f9e87e70d",
   "metadata": {},
   "outputs": [],
   "source": [
    "\n"
   ]
  },
  {
   "cell_type": "raw",
   "id": "c85d4293-4c28-450d-94da-75b35e0fc98f",
   "metadata": {},
   "source": [
    "C:\\Users\\prepal\\Downloads>python one.py\n",
    "top level in one.py\n",
    "one.py is being run directly\n",
    "\n",
    "C:\\Users\\prepal\\Downloads>python two.py\n",
    "top level in one.py\n",
    "one.py has been imported\n",
    "top level in two.py\n",
    "func() in one.py\n",
    "two.py is being run directly\n",
    "\n",
    "C:\\Users\\prepal\\Downloads>"
   ]
  },
  {
   "cell_type": "code",
   "execution_count": null,
   "id": "e584c021-436f-457a-9853-b76f23354045",
   "metadata": {},
   "outputs": [],
   "source": []
  }
 ],
 "metadata": {
  "kernelspec": {
   "display_name": "anaconda-2022.05-py39",
   "language": "python",
   "name": "conda-env-anaconda-2022.05-py39-py"
  },
  "language_info": {
   "codemirror_mode": {
    "name": "ipython",
    "version": 3
   },
   "file_extension": ".py",
   "mimetype": "text/x-python",
   "name": "python",
   "nbconvert_exporter": "python",
   "pygments_lexer": "ipython3",
   "version": "3.9.12"
  }
 },
 "nbformat": 4,
 "nbformat_minor": 5
}
