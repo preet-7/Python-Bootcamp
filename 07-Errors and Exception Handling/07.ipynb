{
 "cells": [
  {
   "cell_type": "code",
   "execution_count": 1,
   "id": "d4a5dfc4-e97e-4718-a6c8-09b50d189db7",
   "metadata": {},
   "outputs": [],
   "source": [
    "def add(n1,n2):\n",
    "    print(n1+n2)"
   ]
  },
  {
   "cell_type": "code",
   "execution_count": 3,
   "id": "d733627a-89ba-47ff-9dd6-a2b6fb713b36",
   "metadata": {},
   "outputs": [
    {
     "name": "stdout",
     "output_type": "stream",
     "text": [
      "30\n"
     ]
    }
   ],
   "source": [
    "add(10,20)"
   ]
  },
  {
   "cell_type": "code",
   "execution_count": 5,
   "id": "0e37b17f-0a11-44a8-b872-73cf70bc5b1e",
   "metadata": {},
   "outputs": [],
   "source": [
    "number1 = 10"
   ]
  },
  {
   "cell_type": "code",
   "execution_count": 7,
   "id": "bc239850-9f52-40f8-ae10-774114e7520f",
   "metadata": {},
   "outputs": [
    {
     "name": "stdin",
     "output_type": "stream",
     "text": [
      "Please provide a number:  20\n"
     ]
    }
   ],
   "source": [
    "number2 = input(\"Please provide a number: \")"
   ]
  },
  {
   "cell_type": "code",
   "execution_count": 11,
   "id": "ea3207d8-2153-4293-811c-119cb0007113",
   "metadata": {},
   "outputs": [
    {
     "ename": "TypeError",
     "evalue": "unsupported operand type(s) for +: 'int' and 'str'",
     "output_type": "error",
     "traceback": [
      "\u001b[0;31m---------------------------------------------------------------------------\u001b[0m",
      "\u001b[0;31mTypeError\u001b[0m                                 Traceback (most recent call last)",
      "Cell \u001b[0;32mIn[11], line 1\u001b[0m\n\u001b[0;32m----> 1\u001b[0m add(number1,number2)\n\u001b[1;32m      2\u001b[0m \u001b[38;5;28mprint\u001b[39m(\u001b[38;5;124m'\u001b[39m\u001b[38;5;124msomething happened\u001b[39m\u001b[38;5;124m'\u001b[39m)\n",
      "Cell \u001b[0;32mIn[1], line 2\u001b[0m, in \u001b[0;36madd\u001b[0;34m(n1, n2)\u001b[0m\n\u001b[1;32m      1\u001b[0m \u001b[38;5;28;01mdef\u001b[39;00m \u001b[38;5;21madd\u001b[39m(n1,n2):\n\u001b[0;32m----> 2\u001b[0m     \u001b[38;5;28mprint\u001b[39m(n1\u001b[38;5;241m+\u001b[39mn2)\n",
      "\u001b[0;31mTypeError\u001b[0m: unsupported operand type(s) for +: 'int' and 'str'"
     ]
    }
   ],
   "source": [
    "add(number1,number2)\n",
    "print('something happened')"
   ]
  },
  {
   "cell_type": "code",
   "execution_count": null,
   "id": "9f7c56ed-a407-4db3-9f88-d3a89d16a75e",
   "metadata": {},
   "outputs": [],
   "source": []
  },
  {
   "cell_type": "code",
   "execution_count": 16,
   "id": "fb9f56d5-f5ef-4df4-9afd-4ee652577627",
   "metadata": {},
   "outputs": [],
   "source": [
    "try:\n",
    "    #want to attempt this code \n",
    "    #may have an error\n",
    "    result = 10 + 10\n",
    "except:\n",
    "    print(\"Hey it looks like you arent adding correctly!\")"
   ]
  },
  {
   "cell_type": "code",
   "execution_count": 15,
   "id": "9a89c3d7-ce71-488e-9951-e014c94059df",
   "metadata": {},
   "outputs": [
    {
     "data": {
      "text/plain": [
       "20"
      ]
     },
     "execution_count": 15,
     "metadata": {},
     "output_type": "execute_result"
    }
   ],
   "source": [
    "result"
   ]
  },
  {
   "cell_type": "code",
   "execution_count": 1,
   "id": "4b7df40b-8413-48a4-92d8-1f3c870d71c3",
   "metadata": {},
   "outputs": [
    {
     "name": "stdout",
     "output_type": "stream",
     "text": [
      "Hey it looks like you arent adding correctly!\n"
     ]
    }
   ],
   "source": [
    "try:\n",
    "    #want to attempt this code \n",
    "    #may have an error\n",
    "    result = 10 + '10'\n",
    "except:\n",
    "    print(\"Hey it looks like you arent adding correctly!\")"
   ]
  },
  {
   "cell_type": "code",
   "execution_count": 5,
   "id": "383884da-f2d6-402d-863e-c6334e8012f5",
   "metadata": {},
   "outputs": [
    {
     "name": "stdout",
     "output_type": "stream",
     "text": [
      "Hey it looks like you arent adding correctly!\n"
     ]
    }
   ],
   "source": [
    "try:\n",
    "    #want to attempt this code \n",
    "    #may have an error\n",
    "    result = 10 + '10'\n",
    "except:\n",
    "    print(\"Hey it looks like you arent adding correctly!\")\n",
    "else:\n",
    "    print('Add went well!')\n",
    "    print(result)"
   ]
  },
  {
   "cell_type": "code",
   "execution_count": 7,
   "id": "58f8e666-6b41-4f09-a89c-ef631c22b6bf",
   "metadata": {},
   "outputs": [
    {
     "name": "stdout",
     "output_type": "stream",
     "text": [
      "Add went well!\n",
      "20\n"
     ]
    }
   ],
   "source": [
    "try:\n",
    "    #want to attempt this code \n",
    "    #may have an error\n",
    "    result = 10 + 10\n",
    "except:\n",
    "    print(\"Hey it looks like you arent adding correctly!\")\n",
    "else:\n",
    "    print('Add went well!')\n",
    "    print(result)"
   ]
  },
  {
   "cell_type": "code",
   "execution_count": null,
   "id": "f143b19c-9e50-47e0-8fcb-849b0be24413",
   "metadata": {},
   "outputs": [],
   "source": []
  },
  {
   "cell_type": "code",
   "execution_count": null,
   "id": "058d1b15-a893-416c-9055-d9415d6933f1",
   "metadata": {},
   "outputs": [],
   "source": []
  },
  {
   "cell_type": "code",
   "execution_count": 13,
   "id": "941bb019-3948-4502-8b21-48f13538d559",
   "metadata": {},
   "outputs": [
    {
     "name": "stdout",
     "output_type": "stream",
     "text": [
      "i always run\n"
     ]
    }
   ],
   "source": [
    "try:\n",
    "    f = open('testfile','w')\n",
    "    f.write('write a test line')\n",
    "except TypeError:\n",
    "    print(\"There was a type Error!\")\n",
    "except OSError:\n",
    "    print(\"Hey you have an OS Error\")\n",
    "finally:\n",
    "    print(\"i always run\")\n",
    "    "
   ]
  },
  {
   "cell_type": "code",
   "execution_count": 15,
   "id": "7190adc6-001f-4738-a0ce-c2a213c41b23",
   "metadata": {},
   "outputs": [
    {
     "name": "stdout",
     "output_type": "stream",
     "text": [
      "Hey you have an OS Error\n",
      "i always run\n"
     ]
    }
   ],
   "source": [
    "try:\n",
    "    f = open('testfile','r')\n",
    "    f.write('write a test line')\n",
    "except TypeError:\n",
    "    print(\"There was a type Error!\")\n",
    "except OSError:\n",
    "    print(\"Hey you have an OS Error\")\n",
    "finally:\n",
    "    print(\"i always run\")"
   ]
  },
  {
   "cell_type": "code",
   "execution_count": 19,
   "id": "c2b84860-719b-4742-8a10-1e1e9b05ea38",
   "metadata": {},
   "outputs": [
    {
     "name": "stdout",
     "output_type": "stream",
     "text": [
      "all other exception!\n",
      "i always run\n"
     ]
    }
   ],
   "source": [
    "try:\n",
    "    f = open('testfile','r')\n",
    "    f.write('write a test line')\n",
    "except TypeError:\n",
    "    print(\"There was a type Error!\")\n",
    "except:\n",
    "    print(\"all other exception!\")\n",
    "finally:\n",
    "    print(\"i always run\")"
   ]
  },
  {
   "cell_type": "code",
   "execution_count": 21,
   "id": "ade60b4a-3146-4e61-b052-76a10e09bf8a",
   "metadata": {},
   "outputs": [
    {
     "name": "stdout",
     "output_type": "stream",
     "text": [
      "i always run\n"
     ]
    }
   ],
   "source": [
    "try:\n",
    "    f = open('testfile','w')\n",
    "    f.write('write a test line')\n",
    "except TypeError:\n",
    "    print(\"There was a type Error!\")\n",
    "except:\n",
    "    print(\"all other exception!\")\n",
    "finally:\n",
    "    print(\"i always run\")"
   ]
  },
  {
   "cell_type": "code",
   "execution_count": null,
   "id": "c6e1e0d8-af06-42fd-a03d-bfa51ee1e467",
   "metadata": {},
   "outputs": [],
   "source": []
  },
  {
   "cell_type": "code",
   "execution_count": 24,
   "id": "2b4d314f-13ef-43dd-8bdd-900fac3c8d1d",
   "metadata": {},
   "outputs": [],
   "source": [
    "def ask_for_int():\n",
    "    try:\n",
    "        result = int(input(\"please provide number; \"))\n",
    "    except:\n",
    "        print('whoops! that is not a number')\n",
    "    finally:\n",
    "        print('end of try/except/finally')\n",
    "        "
   ]
  },
  {
   "cell_type": "code",
   "execution_count": 26,
   "id": "d2f1dac2-da06-42d9-8949-7df69e736379",
   "metadata": {},
   "outputs": [
    {
     "name": "stdin",
     "output_type": "stream",
     "text": [
      "please provide number;  20\n"
     ]
    },
    {
     "name": "stdout",
     "output_type": "stream",
     "text": [
      "end of try/except/finally\n"
     ]
    }
   ],
   "source": [
    "ask_for_int()\n"
   ]
  },
  {
   "cell_type": "code",
   "execution_count": 28,
   "id": "b5da8035-300b-4106-b01e-e2fd8037bd95",
   "metadata": {},
   "outputs": [
    {
     "name": "stdin",
     "output_type": "stream",
     "text": [
      "please provide number;  word\n"
     ]
    },
    {
     "name": "stdout",
     "output_type": "stream",
     "text": [
      "whoops! that is not a number\n",
      "end of try/except/finally\n"
     ]
    }
   ],
   "source": [
    "ask_for_int()\n"
   ]
  },
  {
   "cell_type": "code",
   "execution_count": 30,
   "id": "ea6c30b1-62f4-4216-bfe7-44e61b031807",
   "metadata": {},
   "outputs": [],
   "source": [
    "def ask_for_int():\n",
    "    while True:\n",
    "        try:\n",
    "            result = int(input(\"please provide number; \"))\n",
    "        except:\n",
    "            print('whoops! that is not a number')\n",
    "            continue\n",
    "        else:\n",
    "            print('yes thank you')\n",
    "            break         \n",
    "        finally:\n",
    "            print('end of try/except/finally')\n",
    "        "
   ]
  },
  {
   "cell_type": "code",
   "execution_count": 32,
   "id": "47bf5d14-09bd-4a47-8c7b-b776070f2d2e",
   "metadata": {},
   "outputs": [
    {
     "name": "stdin",
     "output_type": "stream",
     "text": [
      "please provide number;  no\n"
     ]
    },
    {
     "name": "stdout",
     "output_type": "stream",
     "text": [
      "whoops! that is not a number\n",
      "end of try/except/finally\n"
     ]
    },
    {
     "name": "stdin",
     "output_type": "stream",
     "text": [
      "please provide number;  4\n"
     ]
    },
    {
     "name": "stdout",
     "output_type": "stream",
     "text": [
      "yes thank you\n",
      "end of try/except/finally\n"
     ]
    }
   ],
   "source": [
    "ask_for_int()"
   ]
  },
  {
   "cell_type": "code",
   "execution_count": null,
   "id": "d5f448ac-21e9-4b5b-9a61-237db965cb4c",
   "metadata": {},
   "outputs": [],
   "source": []
  },
  {
   "cell_type": "code",
   "execution_count": null,
   "id": "f0b470f8-e17a-4cd6-8143-c9c8bd3f9696",
   "metadata": {},
   "outputs": [],
   "source": []
  },
  {
   "cell_type": "raw",
   "id": "54b0ba44-0e63-4887-901f-30b3de5f5463",
   "metadata": {},
   "source": [
    "Problem 1\n",
    "Handle the exception thrown by the code below by using try and except blocks."
   ]
  },
  {
   "cell_type": "code",
   "execution_count": 3,
   "id": "292865db-d869-4108-95c0-73f57fa6552e",
   "metadata": {},
   "outputs": [
    {
     "name": "stdout",
     "output_type": "stream",
     "text": [
      "An error occurred!\n"
     ]
    }
   ],
   "source": [
    "try:\n",
    "    for i in ['a','b','c']:\n",
    "        print(i**2)\n",
    "except:\n",
    "    print(\"An error occurred!\")"
   ]
  },
  {
   "cell_type": "raw",
   "id": "7126e06d-a9e4-479b-8b7c-a814590e27db",
   "metadata": {},
   "source": [
    "Problem 2\n",
    "Handle the exception thrown by the code below by using try and except blocks. Then use a finally block to print 'All Done.'"
   ]
  },
  {
   "cell_type": "code",
   "execution_count": 5,
   "id": "6eed3420-983d-43ec-b38e-5d223686f1b0",
   "metadata": {},
   "outputs": [
    {
     "name": "stdout",
     "output_type": "stream",
     "text": [
      "Can't divide by Zero!\n",
      "All Done!\n"
     ]
    }
   ],
   "source": [
    "x = 5\n",
    "y = 0\n",
    "try:\n",
    "    z = x/y\n",
    "except ZeroDivisionError:\n",
    "    print(\"Can't divide by Zero!\")\n",
    "finally:\n",
    "    print('All Done!')"
   ]
  },
  {
   "cell_type": "raw",
   "id": "67f7caf3-eac4-44dc-a48b-16e558b85cef",
   "metadata": {},
   "source": [
    "Problem 3\n",
    "Write a function that asks for an integer and prints the square of it. Use a while loop with a try, except, else block to account for incorrect inputs."
   ]
  },
  {
   "cell_type": "code",
   "execution_count": 9,
   "id": "27f835f2-9eed-4b10-84dc-dff951891e61",
   "metadata": {},
   "outputs": [],
   "source": [
    "def ask():\n",
    "    while True:\n",
    "        try:\n",
    "            n = int(input('Input an integer: '))\n",
    "        except:\n",
    "            print('An error occurred! Please try again!')\n",
    "            continue\n",
    "        else:\n",
    "            break\n",
    "    print('Thank you, your number squared is: ', n**2)"
   ]
  },
  {
   "cell_type": "code",
   "execution_count": 13,
   "id": "3407d68c-8f47-404a-a001-def2ae64e603",
   "metadata": {},
   "outputs": [
    {
     "name": "stdin",
     "output_type": "stream",
     "text": [
      "Input an integer:  \n"
     ]
    },
    {
     "name": "stdout",
     "output_type": "stream",
     "text": [
      "An error occurred! Please try again!\n"
     ]
    },
    {
     "name": "stdin",
     "output_type": "stream",
     "text": [
      "Input an integer:  p\n"
     ]
    },
    {
     "name": "stdout",
     "output_type": "stream",
     "text": [
      "An error occurred! Please try again!\n"
     ]
    },
    {
     "name": "stdin",
     "output_type": "stream",
     "text": [
      "Input an integer:  !\n"
     ]
    },
    {
     "name": "stdout",
     "output_type": "stream",
     "text": [
      "An error occurred! Please try again!\n"
     ]
    },
    {
     "name": "stdin",
     "output_type": "stream",
     "text": [
      "Input an integer:  1\n"
     ]
    },
    {
     "name": "stdout",
     "output_type": "stream",
     "text": [
      "Thank you, your number squared is:  1\n"
     ]
    }
   ],
   "source": [
    "ask()"
   ]
  },
  {
   "cell_type": "code",
   "execution_count": null,
   "id": "24c03baf-56f8-40cf-b5c3-c7f27d409974",
   "metadata": {},
   "outputs": [],
   "source": []
  },
  {
   "cell_type": "code",
   "execution_count": null,
   "id": "ac5c7dab-ca59-43e9-8c80-a72e94fa2a74",
   "metadata": {},
   "outputs": [],
   "source": []
  },
  {
   "cell_type": "code",
   "execution_count": 36,
   "id": "4c23d8c4-14b3-414b-89f0-f4aca3bc5ecb",
   "metadata": {},
   "outputs": [
    {
     "name": "stdout",
     "output_type": "stream",
     "text": [
      "Overwriting test.py\n"
     ]
    }
   ],
   "source": [
    "%%writefile test.py\n",
    "a = 1\n",
    "b = 1\n",
    "print(a)\n",
    "print(B)"
   ]
  },
  {
   "cell_type": "code",
   "execution_count": 23,
   "id": "f763cf88-6387-421c-b354-8379b1cd90b4",
   "metadata": {},
   "outputs": [
    {
     "name": "stdout",
     "output_type": "stream",
     "text": [
      "Defaulting to user installation because normal site-packages is not writeable\n",
      "Looking in links: /usr/share/pip-wheels\n",
      "Requirement already satisfied: pylint in /opt/conda/envs/anaconda-panel-2023.05-py310/lib/python3.11/site-packages (2.16.2)\n",
      "Requirement already satisfied: platformdirs>=2.2.0 in /opt/conda/envs/anaconda-panel-2023.05-py310/lib/python3.11/site-packages (from pylint) (2.5.2)\n",
      "Requirement already satisfied: astroid<=2.16.0-dev0,>=2.14.2 in /opt/conda/envs/anaconda-panel-2023.05-py310/lib/python3.11/site-packages (from pylint) (2.14.2)\n",
      "Requirement already satisfied: isort<6,>=4.2.5 in /opt/conda/envs/anaconda-panel-2023.05-py310/lib/python3.11/site-packages (from pylint) (5.9.3)\n",
      "Requirement already satisfied: mccabe<0.8,>=0.6 in /opt/conda/envs/anaconda-panel-2023.05-py310/lib/python3.11/site-packages (from pylint) (0.7.0)\n",
      "Requirement already satisfied: tomlkit>=0.10.1 in /opt/conda/envs/anaconda-panel-2023.05-py310/lib/python3.11/site-packages (from pylint) (0.11.1)\n",
      "Requirement already satisfied: dill>=0.3.6 in /opt/conda/envs/anaconda-panel-2023.05-py310/lib/python3.11/site-packages (from pylint) (0.3.6)\n",
      "Requirement already satisfied: lazy-object-proxy>=1.4.0 in /opt/conda/envs/anaconda-panel-2023.05-py310/lib/python3.11/site-packages (from astroid<=2.16.0-dev0,>=2.14.2->pylint) (1.6.0)\n",
      "Requirement already satisfied: wrapt<2,>=1.14 in /opt/conda/envs/anaconda-panel-2023.05-py310/lib/python3.11/site-packages (from astroid<=2.16.0-dev0,>=2.14.2->pylint) (1.14.1)\n"
     ]
    }
   ],
   "source": [
    "! pip install pylint"
   ]
  },
  {
   "cell_type": "code",
   "execution_count": 27,
   "id": "7c554117-3123-49e8-91c4-13804a5a7a77",
   "metadata": {},
   "outputs": [
    {
     "name": "stdout",
     "output_type": "stream",
     "text": [
      "************* Module test\n",
      "test.py:1:0: C0114: Missing module docstring (missing-module-docstring)\n",
      "test.py:1:0: C0103: Constant name \"a\" doesn't conform to UPPER_CASE naming style (invalid-name)\n",
      "test.py:2:0: C0103: Constant name \"b\" doesn't conform to UPPER_CASE naming style (invalid-name)\n",
      "test.py:4:6: E0602: Undefined variable 'B' (undefined-variable)\n",
      "\n",
      "\n",
      "Report\n",
      "======\n",
      "4 statements analysed.\n",
      "\n",
      "Statistics by type\n",
      "------------------\n",
      "\n",
      "+---------+-------+-----------+-----------+------------+---------+\n",
      "|type     |number |old number |difference |%documented |%badname |\n",
      "+=========+=======+===========+===========+============+=========+\n",
      "|module   |1      |1          |=          |0.00        |0.00     |\n",
      "+---------+-------+-----------+-----------+------------+---------+\n",
      "|class    |0      |NC         |NC         |0           |0        |\n",
      "+---------+-------+-----------+-----------+------------+---------+\n",
      "|method   |0      |NC         |NC         |0           |0        |\n",
      "+---------+-------+-----------+-----------+------------+---------+\n",
      "|function |0      |NC         |NC         |0           |0        |\n",
      "+---------+-------+-----------+-----------+------------+---------+\n",
      "\n",
      "\n",
      "\n",
      "6 lines have been analyzed\n",
      "\n",
      "Raw metrics\n",
      "-----------\n",
      "\n",
      "+----------+-------+------+---------+-----------+\n",
      "|type      |number |%     |previous |difference |\n",
      "+==========+=======+======+=========+===========+\n",
      "|code      |5      |83.33 |NC       |NC         |\n",
      "+----------+-------+------+---------+-----------+\n",
      "|docstring |0      |0.00  |NC       |NC         |\n",
      "+----------+-------+------+---------+-----------+\n",
      "|comment   |0      |0.00  |NC       |NC         |\n",
      "+----------+-------+------+---------+-----------+\n",
      "|empty     |1      |16.67 |NC       |NC         |\n",
      "+----------+-------+------+---------+-----------+\n",
      "\n",
      "\n",
      "\n",
      "Duplication\n",
      "-----------\n",
      "\n",
      "+-------------------------+------+---------+-----------+\n",
      "|                         |now   |previous |difference |\n",
      "+=========================+======+=========+===========+\n",
      "|nb duplicated lines      |0     |0        |0          |\n",
      "+-------------------------+------+---------+-----------+\n",
      "|percent duplicated lines |0.000 |0.000    |=          |\n",
      "+-------------------------+------+---------+-----------+\n",
      "\n",
      "\n",
      "\n",
      "Messages by category\n",
      "--------------------\n",
      "\n",
      "+-----------+-------+---------+-----------+\n",
      "|type       |number |previous |difference |\n",
      "+===========+=======+=========+===========+\n",
      "|convention |3      |3        |3          |\n",
      "+-----------+-------+---------+-----------+\n",
      "|refactor   |0      |0        |0          |\n",
      "+-----------+-------+---------+-----------+\n",
      "|warning    |0      |0        |0          |\n",
      "+-----------+-------+---------+-----------+\n",
      "|error      |1      |1        |1          |\n",
      "+-----------+-------+---------+-----------+\n",
      "\n",
      "\n",
      "\n",
      "Messages\n",
      "--------\n",
      "\n",
      "+-------------------------+------------+\n",
      "|message id               |occurrences |\n",
      "+=========================+============+\n",
      "|invalid-name             |2           |\n",
      "+-------------------------+------------+\n",
      "|undefined-variable       |1           |\n",
      "+-------------------------+------------+\n",
      "|missing-module-docstring |1           |\n",
      "+-------------------------+------------+\n",
      "\n",
      "\n",
      "\n",
      "\n",
      "------------------------------------------------------------------\n",
      "Your code has been rated at 0.00/10 (previous run: 0.00/10, +0.00)\n",
      "\n",
      "\u001b[0m"
     ]
    }
   ],
   "source": [
    "! pylint test.py -r y"
   ]
  },
  {
   "cell_type": "code",
   "execution_count": null,
   "id": "428a132e-5e00-409e-a926-9448c9e1845e",
   "metadata": {},
   "outputs": [],
   "source": []
  },
  {
   "cell_type": "code",
   "execution_count": 41,
   "id": "a6e45cbd-8975-4810-9883-83db53c3bfcb",
   "metadata": {},
   "outputs": [
    {
     "name": "stdout",
     "output_type": "stream",
     "text": [
      "Overwriting test_pylint.py\n"
     ]
    }
   ],
   "source": [
    "%%writefile test_pylint.py\n",
    "'''\n",
    "A Very Sample Script\n",
    "'''\n",
    "def myfunc():\n",
    "    '''\n",
    "    A simple function\n",
    "    '''\n",
    "    first = 1\n",
    "    second = 2\n",
    "    print(first)\n",
    "    print(second)\n",
    "myfunc()"
   ]
  },
  {
   "cell_type": "code",
   "execution_count": 43,
   "id": "b6f927d6-9300-4702-846a-f4cd3c2e6554",
   "metadata": {},
   "outputs": [
    {
     "name": "stdout",
     "output_type": "stream",
     "text": [
      "\n",
      "\n",
      "Report\n",
      "======\n",
      "6 statements analysed.\n",
      "\n",
      "Statistics by type\n",
      "------------------\n",
      "\n",
      "+---------+-------+-----------+-----------+------------+---------+\n",
      "|type     |number |old number |difference |%documented |%badname |\n",
      "+=========+=======+===========+===========+============+=========+\n",
      "|module   |1      |1          |=          |100.00      |0.00     |\n",
      "+---------+-------+-----------+-----------+------------+---------+\n",
      "|class    |0      |NC         |NC         |0           |0        |\n",
      "+---------+-------+-----------+-----------+------------+---------+\n",
      "|method   |0      |NC         |NC         |0           |0        |\n",
      "+---------+-------+-----------+-----------+------------+---------+\n",
      "|function |1      |1          |=          |100.00      |0.00     |\n",
      "+---------+-------+-----------+-----------+------------+---------+\n",
      "\n",
      "\n",
      "\n",
      "14 lines have been analyzed\n",
      "\n",
      "Raw metrics\n",
      "-----------\n",
      "\n",
      "+----------+-------+------+---------+-----------+\n",
      "|type      |number |%     |previous |difference |\n",
      "+==========+=======+======+=========+===========+\n",
      "|code      |7      |50.00 |7        |=          |\n",
      "+----------+-------+------+---------+-----------+\n",
      "|docstring |6      |42.86 |6        |=          |\n",
      "+----------+-------+------+---------+-----------+\n",
      "|comment   |0      |0.00  |NC       |NC         |\n",
      "+----------+-------+------+---------+-----------+\n",
      "|empty     |1      |7.14  |2        |-1.00      |\n",
      "+----------+-------+------+---------+-----------+\n",
      "\n",
      "\n",
      "\n",
      "Duplication\n",
      "-----------\n",
      "\n",
      "+-------------------------+------+---------+-----------+\n",
      "|                         |now   |previous |difference |\n",
      "+=========================+======+=========+===========+\n",
      "|nb duplicated lines      |0     |0        |0          |\n",
      "+-------------------------+------+---------+-----------+\n",
      "|percent duplicated lines |0.000 |0.000    |=          |\n",
      "+-------------------------+------+---------+-----------+\n",
      "\n",
      "\n",
      "\n",
      "Messages by category\n",
      "--------------------\n",
      "\n",
      "+-----------+-------+---------+-----------+\n",
      "|type       |number |previous |difference |\n",
      "+===========+=======+=========+===========+\n",
      "|convention |0      |1        |1          |\n",
      "+-----------+-------+---------+-----------+\n",
      "|refactor   |0      |0        |0          |\n",
      "+-----------+-------+---------+-----------+\n",
      "|warning    |0      |0        |0          |\n",
      "+-----------+-------+---------+-----------+\n",
      "|error      |0      |0        |0          |\n",
      "+-----------+-------+---------+-----------+\n",
      "\n",
      "\n",
      "\n",
      "Messages\n",
      "--------\n",
      "\n",
      "+-----------+------------+\n",
      "|message id |occurrences |\n",
      "+===========+============+\n",
      "\n",
      "\n",
      "\n",
      "\n",
      "-------------------------------------------------------------------\n",
      "Your code has been rated at 10.00/10 (previous run: 8.33/10, +1.67)\n",
      "\n",
      "\u001b[0m"
     ]
    }
   ],
   "source": [
    "! pylint test_pylint.py -r y"
   ]
  },
  {
   "cell_type": "code",
   "execution_count": 23,
   "id": "e5758020-ea86-41b9-9f31-30a85a6170f2",
   "metadata": {},
   "outputs": [
    {
     "name": "stdout",
     "output_type": "stream",
     "text": [
      "Overwriting cap.py\n"
     ]
    }
   ],
   "source": [
    "%%writefile cap.py\n",
    "def cap_text(test):\n",
    "    '''\n",
    "    Input a string\n",
    "    Output the capitalized string\n",
    "    '''\n",
    "    #return test.capitalize()\n",
    "    return test.title()"
   ]
  },
  {
   "cell_type": "code",
   "execution_count": 25,
   "id": "d9efe58e-422b-4b42-abd3-88a1749a9af6",
   "metadata": {},
   "outputs": [
    {
     "name": "stdout",
     "output_type": "stream",
     "text": [
      "Overwriting test_cap.py\n"
     ]
    }
   ],
   "source": [
    "%%writefile test_cap.py\n",
    "import unittest\n",
    "import cap\n",
    "\n",
    "class TestCap(unittest.TestCase):\n",
    "    def test_one_word(self):\n",
    "        text = 'python'\n",
    "        result = cap.cap_text(text)\n",
    "        self.assertEqual(result,'Python')\n",
    "    \n",
    "    def test_multiple_words(self):\n",
    "        text = 'monty python'\n",
    "        result = cap.cap_text(text)\n",
    "        self.assertEqual(result,'Monty Python')\n",
    "\n",
    "if __name__=='__main__':\n",
    "    unittest.main()"
   ]
  },
  {
   "cell_type": "code",
   "execution_count": 27,
   "id": "2ca2535b-c36d-44b7-bcf8-e51715bc5196",
   "metadata": {},
   "outputs": [
    {
     "name": "stdout",
     "output_type": "stream",
     "text": [
      "..\n",
      "----------------------------------------------------------------------\n",
      "Ran 2 tests in 0.000s\n",
      "\n",
      "OK\n"
     ]
    }
   ],
   "source": [
    "! python3 test_cap.py"
   ]
  },
  {
   "cell_type": "code",
   "execution_count": null,
   "id": "98da5864-bb91-429f-9d19-56cddfd25593",
   "metadata": {},
   "outputs": [],
   "source": []
  }
 ],
 "metadata": {
  "kernelspec": {
   "display_name": "anaconda-panel-2023.05-py310",
   "language": "python",
   "name": "conda-env-anaconda-panel-2023.05-py310-py"
  },
  "language_info": {
   "codemirror_mode": {
    "name": "ipython",
    "version": 3
   },
   "file_extension": ".py",
   "mimetype": "text/x-python",
   "name": "python",
   "nbconvert_exporter": "python",
   "pygments_lexer": "ipython3",
   "version": "3.11.4"
  }
 },
 "nbformat": 4,
 "nbformat_minor": 5
}
