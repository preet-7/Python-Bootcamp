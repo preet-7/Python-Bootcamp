{
 "cells": [
  {
   "cell_type": "code",
   "execution_count": 1,
   "id": "ae859d60-7619-4a30-b3de-83e83f23f57b",
   "metadata": {},
   "outputs": [],
   "source": [
    "from collections import Counter"
   ]
  },
  {
   "cell_type": "code",
   "execution_count": 3,
   "id": "45d13a5a-88b1-4091-b471-2a95141d5c61",
   "metadata": {},
   "outputs": [],
   "source": [
    "mylist = [1,1,2,3,3,3,3,4,4,4]"
   ]
  },
  {
   "cell_type": "code",
   "execution_count": 5,
   "id": "3f34822e-033d-4bbc-882c-2b5e12368368",
   "metadata": {},
   "outputs": [
    {
     "data": {
      "text/plain": [
       "Counter({1: 2, 2: 1, 3: 4, 4: 3})"
      ]
     },
     "execution_count": 5,
     "metadata": {},
     "output_type": "execute_result"
    }
   ],
   "source": [
    "Counter(mylist)"
   ]
  },
  {
   "cell_type": "code",
   "execution_count": 7,
   "id": "41c4143d-6e76-45d4-8bbd-2a76d18ab092",
   "metadata": {},
   "outputs": [],
   "source": [
    "mylist = ['a','a',10,10,10]"
   ]
  },
  {
   "cell_type": "code",
   "execution_count": 9,
   "id": "394b1635-21cc-44bc-906d-d07859f8fa79",
   "metadata": {},
   "outputs": [
    {
     "data": {
      "text/plain": [
       "Counter({'a': 2, 10: 3})"
      ]
     },
     "execution_count": 9,
     "metadata": {},
     "output_type": "execute_result"
    }
   ],
   "source": [
    "Counter(mylist)"
   ]
  },
  {
   "cell_type": "code",
   "execution_count": 11,
   "id": "74c0a724-e9e6-4bbf-82cf-39bebf58efe5",
   "metadata": {},
   "outputs": [
    {
     "data": {
      "text/plain": [
       "Counter({'a': 6, 'b': 4, 'c': 5, 'd': 3})"
      ]
     },
     "execution_count": 11,
     "metadata": {},
     "output_type": "execute_result"
    }
   ],
   "source": [
    "Counter('aaaabbccdddcccbbaa')"
   ]
  },
  {
   "cell_type": "code",
   "execution_count": 13,
   "id": "3bab227e-408f-4567-9b74-124b09888269",
   "metadata": {},
   "outputs": [],
   "source": [
    "sentence = \"How many times does each word show up in this sentence with a word\""
   ]
  },
  {
   "cell_type": "code",
   "execution_count": 15,
   "id": "607cec6e-abd1-4344-858f-9b3627a1781c",
   "metadata": {},
   "outputs": [
    {
     "data": {
      "text/plain": [
       "Counter({'How': 1,\n",
       "         'many': 1,\n",
       "         'times': 1,\n",
       "         'does': 1,\n",
       "         'each': 1,\n",
       "         'word': 2,\n",
       "         'show': 1,\n",
       "         'up': 1,\n",
       "         'in': 1,\n",
       "         'this': 1,\n",
       "         'sentence': 1,\n",
       "         'with': 1,\n",
       "         'a': 1})"
      ]
     },
     "execution_count": 15,
     "metadata": {},
     "output_type": "execute_result"
    }
   ],
   "source": [
    "Counter(sentence.split())"
   ]
  },
  {
   "cell_type": "code",
   "execution_count": 17,
   "id": "3cc370bc-78a8-4409-84a2-59bbe652a757",
   "metadata": {},
   "outputs": [
    {
     "data": {
      "text/plain": [
       "Counter({'how': 1,\n",
       "         'many': 1,\n",
       "         'times': 1,\n",
       "         'does': 1,\n",
       "         'each': 1,\n",
       "         'word': 2,\n",
       "         'show': 1,\n",
       "         'up': 1,\n",
       "         'in': 1,\n",
       "         'this': 1,\n",
       "         'sentence': 1,\n",
       "         'with': 1,\n",
       "         'a': 1})"
      ]
     },
     "execution_count": 17,
     "metadata": {},
     "output_type": "execute_result"
    }
   ],
   "source": [
    "Counter(sentence.lower().split())"
   ]
  },
  {
   "cell_type": "code",
   "execution_count": 19,
   "id": "10fb4d18-44b3-490b-898c-6020a35abeda",
   "metadata": {},
   "outputs": [],
   "source": [
    "letters = 'aabbccccddde'"
   ]
  },
  {
   "cell_type": "code",
   "execution_count": 21,
   "id": "144c371f-6bc3-42c7-87a5-bbe6aa992529",
   "metadata": {},
   "outputs": [],
   "source": [
    "c = Counter(letters)"
   ]
  },
  {
   "cell_type": "code",
   "execution_count": 23,
   "id": "b48b39e4-7a73-452b-9c03-742f2686ca51",
   "metadata": {},
   "outputs": [
    {
     "data": {
      "text/plain": [
       "Counter({'a': 2, 'b': 2, 'c': 4, 'd': 3, 'e': 1})"
      ]
     },
     "execution_count": 23,
     "metadata": {},
     "output_type": "execute_result"
    }
   ],
   "source": [
    "c"
   ]
  },
  {
   "cell_type": "code",
   "execution_count": 25,
   "id": "5ab9595f-14de-4710-bacd-a00fa53cf0c5",
   "metadata": {},
   "outputs": [
    {
     "data": {
      "text/plain": [
       "[('c', 4), ('d', 3), ('a', 2), ('b', 2), ('e', 1)]"
      ]
     },
     "execution_count": 25,
     "metadata": {},
     "output_type": "execute_result"
    }
   ],
   "source": [
    "c.most_common()"
   ]
  },
  {
   "cell_type": "code",
   "execution_count": 27,
   "id": "d5d56bc6-3aad-4656-9a8e-5f6fe2d12976",
   "metadata": {},
   "outputs": [
    {
     "data": {
      "text/plain": [
       "['a', 'b', 'c', 'd', 'e']"
      ]
     },
     "execution_count": 27,
     "metadata": {},
     "output_type": "execute_result"
    }
   ],
   "source": [
    "list(c)"
   ]
  },
  {
   "cell_type": "code",
   "execution_count": 29,
   "id": "137fbc2b-fd69-4418-9cf5-aec48e9fde46",
   "metadata": {},
   "outputs": [],
   "source": [
    "from collections import defaultdict"
   ]
  },
  {
   "cell_type": "code",
   "execution_count": 31,
   "id": "56863cc2-c66d-4348-9635-621492b3f325",
   "metadata": {},
   "outputs": [],
   "source": [
    "d = {'a':10}"
   ]
  },
  {
   "cell_type": "code",
   "execution_count": 33,
   "id": "a215933c-0215-4e2e-affe-c43e95e2309c",
   "metadata": {},
   "outputs": [
    {
     "data": {
      "text/plain": [
       "{'a': 10}"
      ]
     },
     "execution_count": 33,
     "metadata": {},
     "output_type": "execute_result"
    }
   ],
   "source": [
    "d"
   ]
  },
  {
   "cell_type": "code",
   "execution_count": 35,
   "id": "46ca0e11-9e51-4897-bedf-fcdd3264d0d8",
   "metadata": {},
   "outputs": [
    {
     "data": {
      "text/plain": [
       "10"
      ]
     },
     "execution_count": 35,
     "metadata": {},
     "output_type": "execute_result"
    }
   ],
   "source": [
    "d['a']"
   ]
  },
  {
   "cell_type": "code",
   "execution_count": 37,
   "id": "6984e13b-c93b-49ec-9548-663a066eaa72",
   "metadata": {},
   "outputs": [
    {
     "ename": "KeyError",
     "evalue": "'wrong'",
     "output_type": "error",
     "traceback": [
      "\u001b[0;31m---------------------------------------------------------------------------\u001b[0m",
      "\u001b[0;31mKeyError\u001b[0m                                  Traceback (most recent call last)",
      "Cell \u001b[0;32mIn[37], line 1\u001b[0m\n\u001b[0;32m----> 1\u001b[0m d[\u001b[38;5;124m'\u001b[39m\u001b[38;5;124mwrong\u001b[39m\u001b[38;5;124m'\u001b[39m]\n",
      "\u001b[0;31mKeyError\u001b[0m: 'wrong'"
     ]
    }
   ],
   "source": [
    "d['wrong']"
   ]
  },
  {
   "cell_type": "code",
   "execution_count": 39,
   "id": "ed43782a-2f45-4cd7-b602-a5c28ea7ab02",
   "metadata": {},
   "outputs": [],
   "source": [
    "d = defaultdict(lambda: 0)"
   ]
  },
  {
   "cell_type": "code",
   "execution_count": 43,
   "id": "d2a19bc6-d29a-48ac-a21e-0cf978d93d2d",
   "metadata": {},
   "outputs": [],
   "source": [
    "d['correct'] = 100"
   ]
  },
  {
   "cell_type": "code",
   "execution_count": 45,
   "id": "fc690fb1-2d46-4d64-bb46-11af171a0bf1",
   "metadata": {},
   "outputs": [
    {
     "data": {
      "text/plain": [
       "100"
      ]
     },
     "execution_count": 45,
     "metadata": {},
     "output_type": "execute_result"
    }
   ],
   "source": [
    "d['correct']"
   ]
  },
  {
   "cell_type": "code",
   "execution_count": 47,
   "id": "c8844527-e6b6-4bd5-a393-84110abd745d",
   "metadata": {},
   "outputs": [
    {
     "data": {
      "text/plain": [
       "0"
      ]
     },
     "execution_count": 47,
     "metadata": {},
     "output_type": "execute_result"
    }
   ],
   "source": [
    "d['wrong key']"
   ]
  },
  {
   "cell_type": "code",
   "execution_count": 49,
   "id": "06c41a9f-5c18-4b3e-9810-678ce57dc5d9",
   "metadata": {},
   "outputs": [
    {
     "data": {
      "text/plain": [
       "defaultdict(<function __main__.<lambda>()>, {'correct': 100, 'wrong key': 0})"
      ]
     },
     "execution_count": 49,
     "metadata": {},
     "output_type": "execute_result"
    }
   ],
   "source": [
    "d"
   ]
  },
  {
   "cell_type": "code",
   "execution_count": 51,
   "id": "80c2efb1-195a-4d3d-ab7e-827abef99560",
   "metadata": {},
   "outputs": [],
   "source": [
    "mytuple = (10,20,30)"
   ]
  },
  {
   "cell_type": "code",
   "execution_count": 53,
   "id": "a52128fd-dad9-4473-a45b-c94faa903a70",
   "metadata": {},
   "outputs": [
    {
     "data": {
      "text/plain": [
       "10"
      ]
     },
     "execution_count": 53,
     "metadata": {},
     "output_type": "execute_result"
    }
   ],
   "source": [
    "mytuple[0]"
   ]
  },
  {
   "cell_type": "code",
   "execution_count": 55,
   "id": "a0dbc3a5-306e-4762-aeab-521832956ac0",
   "metadata": {},
   "outputs": [],
   "source": [
    "from collections import namedtuple"
   ]
  },
  {
   "cell_type": "code",
   "execution_count": 59,
   "id": "9274a66e-7ca4-45a1-87a3-a99a888d7531",
   "metadata": {},
   "outputs": [],
   "source": [
    "Dog = namedtuple('Dog',['age','breed','name'])"
   ]
  },
  {
   "cell_type": "code",
   "execution_count": 63,
   "id": "0f2502c9-9d27-4096-a432-e475849b993b",
   "metadata": {},
   "outputs": [],
   "source": [
    "sammy = Dog(age=5,breed='Husky',name='Sam')"
   ]
  },
  {
   "cell_type": "code",
   "execution_count": 65,
   "id": "b23757d7-d52a-492c-8dc4-1770dad8d17b",
   "metadata": {},
   "outputs": [
    {
     "data": {
      "text/plain": [
       "__main__.Dog"
      ]
     },
     "execution_count": 65,
     "metadata": {},
     "output_type": "execute_result"
    }
   ],
   "source": [
    "type(sammy)"
   ]
  },
  {
   "cell_type": "code",
   "execution_count": 67,
   "id": "d9dee783-aee2-4ce7-8da8-85366f3553a0",
   "metadata": {},
   "outputs": [
    {
     "data": {
      "text/plain": [
       "5"
      ]
     },
     "execution_count": 67,
     "metadata": {},
     "output_type": "execute_result"
    }
   ],
   "source": [
    "sammy.age"
   ]
  },
  {
   "cell_type": "code",
   "execution_count": 69,
   "id": "673788d2-f1a1-44d9-8acf-9d61618c9a3b",
   "metadata": {},
   "outputs": [
    {
     "data": {
      "text/plain": [
       "'Husky'"
      ]
     },
     "execution_count": 69,
     "metadata": {},
     "output_type": "execute_result"
    }
   ],
   "source": [
    "sammy.breed"
   ]
  },
  {
   "cell_type": "code",
   "execution_count": 71,
   "id": "a0d5724e-7b71-40e4-873f-3966baeaabc7",
   "metadata": {},
   "outputs": [
    {
     "data": {
      "text/plain": [
       "'Husky'"
      ]
     },
     "execution_count": 71,
     "metadata": {},
     "output_type": "execute_result"
    }
   ],
   "source": [
    "sammy.breed"
   ]
  },
  {
   "cell_type": "code",
   "execution_count": 73,
   "id": "28c301ce-b6f7-4e9b-a9ab-9135baea516d",
   "metadata": {},
   "outputs": [
    {
     "data": {
      "text/plain": [
       "5"
      ]
     },
     "execution_count": 73,
     "metadata": {},
     "output_type": "execute_result"
    }
   ],
   "source": [
    "sammy[0]"
   ]
  },
  {
   "cell_type": "code",
   "execution_count": null,
   "id": "1feb757e-e06e-43b2-a0d5-e2303c3f4fb1",
   "metadata": {},
   "outputs": [],
   "source": []
  },
  {
   "cell_type": "code",
   "execution_count": null,
   "id": "efe71f55-5168-4306-ba42-77376aa9ce39",
   "metadata": {},
   "outputs": [],
   "source": []
  },
  {
   "cell_type": "code",
   "execution_count": null,
   "id": "413cb560-bae1-4da7-859a-432879665d6e",
   "metadata": {},
   "outputs": [],
   "source": []
  },
  {
   "cell_type": "code",
   "execution_count": null,
   "id": "9180e103-6330-4c9d-8ff5-18b08da2573d",
   "metadata": {},
   "outputs": [],
   "source": []
  },
  {
   "cell_type": "code",
   "execution_count": 80,
   "id": "bc82bf94-df05-49b3-b091-68ff5aef173c",
   "metadata": {},
   "outputs": [
    {
     "data": {
      "text/plain": [
       "'/home/e9b0d056-ec96-4b16-80e9-3651ad51973d'"
      ]
     },
     "execution_count": 80,
     "metadata": {},
     "output_type": "execute_result"
    }
   ],
   "source": [
    "pwd"
   ]
  },
  {
   "cell_type": "code",
   "execution_count": 86,
   "id": "2b1f042b-ce23-4557-9973-cae6886c45b9",
   "metadata": {},
   "outputs": [],
   "source": [
    "f = open('13/practice.txt','w+')\n",
    "f.write(\"This is a test string\")\n",
    "f.close()"
   ]
  },
  {
   "cell_type": "code",
   "execution_count": 89,
   "id": "b6b9e841-3d40-4f0f-89e0-f33837df719e",
   "metadata": {},
   "outputs": [],
   "source": [
    "import os"
   ]
  },
  {
   "cell_type": "code",
   "execution_count": 91,
   "id": "9a66eeec-0785-462f-8620-cf3de520183a",
   "metadata": {},
   "outputs": [
    {
     "data": {
      "text/plain": [
       "'/home/e9b0d056-ec96-4b16-80e9-3651ad51973d'"
      ]
     },
     "execution_count": 91,
     "metadata": {},
     "output_type": "execute_result"
    }
   ],
   "source": [
    "os.getcwd()"
   ]
  },
  {
   "cell_type": "code",
   "execution_count": 93,
   "id": "2a88714e-5c8d-4c5f-8f6a-d81c4a7c5c81",
   "metadata": {},
   "outputs": [
    {
     "data": {
      "text/plain": [
       "['.vimrc',\n",
       " '.jupyter',\n",
       " '.ipynb_checkpoints',\n",
       " '.pythonstartup.py',\n",
       " '.local',\n",
       " 'mymodule.py',\n",
       " '04.ipynb',\n",
       " '11.ipynb',\n",
       " '06.ipynb',\n",
       " '02.ipynb',\n",
       " '.gitconfig',\n",
       " '01.ipynb',\n",
       " 'Untitled Folder 2',\n",
       " 'sample-notebooks',\n",
       " '13',\n",
       " '09.ipynb',\n",
       " '03.ipynb',\n",
       " 'myfile.txt',\n",
       " 'test_cap.py',\n",
       " 'Untitled Folder 1',\n",
       " '00-PythonObjectandDataStructureBasics.ipynb',\n",
       " 'cap.py',\n",
       " 'random_new.txt',\n",
       " 'one.py',\n",
       " 'test_pylint.py',\n",
       " 'Untitled Folder',\n",
       " '__pycache__',\n",
       " '13.ipynb',\n",
       " '.virtualenvs',\n",
       " 'test.py',\n",
       " '07.ipynb',\n",
       " '.profile',\n",
       " '05.ipynb',\n",
       " '.bashrc',\n",
       " 'MyMainPackage',\n",
       " 'two.py',\n",
       " '.ipython',\n",
       " 'my_new_file.txt',\n",
       " '.cache',\n",
       " 'test',\n",
       " 'testfile',\n",
       " 'README.ipynb']"
      ]
     },
     "execution_count": 93,
     "metadata": {},
     "output_type": "execute_result"
    }
   ],
   "source": [
    "os.listdir()"
   ]
  },
  {
   "cell_type": "code",
   "execution_count": 95,
   "id": "19a270b0-6ecf-4a1d-abf5-b03cfcce7e4a",
   "metadata": {},
   "outputs": [
    {
     "data": {
      "text/plain": [
       "['.ipynb_checkpoints', 'practice.txt']"
      ]
     },
     "execution_count": 95,
     "metadata": {},
     "output_type": "execute_result"
    }
   ],
   "source": [
    "os.listdir('13')"
   ]
  },
  {
   "cell_type": "code",
   "execution_count": 97,
   "id": "e631972a-6226-409a-9d83-b900ae424d1b",
   "metadata": {},
   "outputs": [],
   "source": [
    "import shutil"
   ]
  },
  {
   "cell_type": "code",
   "execution_count": 103,
   "id": "d98d78ab-b9fa-4a04-bd0b-4f6621bae0c5",
   "metadata": {},
   "outputs": [
    {
     "data": {
      "text/plain": [
       "'13/13.ipynb'"
      ]
     },
     "execution_count": 103,
     "metadata": {},
     "output_type": "execute_result"
    }
   ],
   "source": [
    "shutil.move(\"13.ipynb\",\"13\")"
   ]
  },
  {
   "cell_type": "code",
   "execution_count": 107,
   "id": "46fceaa6-b195-4f98-800a-af72379f35a2",
   "metadata": {},
   "outputs": [
    {
     "data": {
      "text/plain": [
       "['.ipynb_checkpoints', 'practice.txt', '13.ipynb']"
      ]
     },
     "execution_count": 107,
     "metadata": {},
     "output_type": "execute_result"
    }
   ],
   "source": [
    "os.listdir(\"13\")"
   ]
  },
  {
   "cell_type": "code",
   "execution_count": 109,
   "id": "83682047-976f-4fb7-ae07-32e57067264a",
   "metadata": {},
   "outputs": [
    {
     "name": "stdout",
     "output_type": "stream",
     "text": [
      "Defaulting to user installation because normal site-packages is not writeable\n",
      "Looking in links: /usr/share/pip-wheels\n",
      "Requirement already satisfied: send2trash in /opt/conda/envs/anaconda-panel-2023.05-py310/lib/python3.11/site-packages (1.8.0)\n",
      "Note: you may need to restart the kernel to use updated packages.\n"
     ]
    }
   ],
   "source": [
    "pip install send2trash"
   ]
  },
  {
   "cell_type": "code",
   "execution_count": 111,
   "id": "58bcf295-1d0e-47e7-8c11-c135ac638123",
   "metadata": {},
   "outputs": [],
   "source": [
    "import send2trash"
   ]
  },
  {
   "cell_type": "code",
   "execution_count": 113,
   "id": "5a4c74a3-24a0-4c85-9b7f-4bad02cf3d88",
   "metadata": {},
   "outputs": [
    {
     "data": {
      "text/plain": [
       "['.vimrc',\n",
       " '.jupyter',\n",
       " '.ipynb_checkpoints',\n",
       " '.pythonstartup.py',\n",
       " '.local',\n",
       " 'mymodule.py',\n",
       " '04.ipynb',\n",
       " '11.ipynb',\n",
       " '06.ipynb',\n",
       " '02.ipynb',\n",
       " '.gitconfig',\n",
       " '01.ipynb',\n",
       " 'Untitled Folder 2',\n",
       " 'sample-notebooks',\n",
       " '13',\n",
       " '09.ipynb',\n",
       " '03.ipynb',\n",
       " 'myfile.txt',\n",
       " 'test_cap.py',\n",
       " 'Untitled Folder 1',\n",
       " '00-PythonObjectandDataStructureBasics.ipynb',\n",
       " 'cap.py',\n",
       " 'random_new.txt',\n",
       " 'one.py',\n",
       " 'test_pylint.py',\n",
       " 'Untitled Folder',\n",
       " '__pycache__',\n",
       " '13.ipynb',\n",
       " '.virtualenvs',\n",
       " 'test.py',\n",
       " '07.ipynb',\n",
       " '.profile',\n",
       " '05.ipynb',\n",
       " '.bashrc',\n",
       " 'MyMainPackage',\n",
       " 'two.py',\n",
       " '.ipython',\n",
       " 'my_new_file.txt',\n",
       " '.cache',\n",
       " 'test',\n",
       " 'testfile',\n",
       " 'README.ipynb']"
      ]
     },
     "execution_count": 113,
     "metadata": {},
     "output_type": "execute_result"
    }
   ],
   "source": [
    "os.listdir()"
   ]
  },
  {
   "cell_type": "code",
   "execution_count": 117,
   "id": "ff3d9d2b-28e0-4a4b-b5f4-ca65fdedaf80",
   "metadata": {},
   "outputs": [
    {
     "data": {
      "text/plain": [
       "'/home/e9b0d056-ec96-4b16-80e9-3651ad51973d/practice.txt'"
      ]
     },
     "execution_count": 117,
     "metadata": {},
     "output_type": "execute_result"
    }
   ],
   "source": [
    "shutil.move('13/practice.txt',os.getcwd())"
   ]
  },
  {
   "cell_type": "code",
   "execution_count": 119,
   "id": "964eb965-8efb-4c49-be87-f91f02dbb8f1",
   "metadata": {},
   "outputs": [
    {
     "data": {
      "text/plain": [
       "['.vimrc',\n",
       " '.jupyter',\n",
       " '.ipynb_checkpoints',\n",
       " '.pythonstartup.py',\n",
       " '.local',\n",
       " 'mymodule.py',\n",
       " '04.ipynb',\n",
       " '11.ipynb',\n",
       " '06.ipynb',\n",
       " '02.ipynb',\n",
       " '.gitconfig',\n",
       " 'practice.txt',\n",
       " '01.ipynb',\n",
       " 'Untitled Folder 2',\n",
       " 'sample-notebooks',\n",
       " '13',\n",
       " '09.ipynb',\n",
       " '03.ipynb',\n",
       " 'myfile.txt',\n",
       " 'test_cap.py',\n",
       " 'Untitled Folder 1',\n",
       " '00-PythonObjectandDataStructureBasics.ipynb',\n",
       " 'cap.py',\n",
       " 'random_new.txt',\n",
       " 'one.py',\n",
       " 'test_pylint.py',\n",
       " 'Untitled Folder',\n",
       " '__pycache__',\n",
       " '13.ipynb',\n",
       " '.virtualenvs',\n",
       " 'test.py',\n",
       " '07.ipynb',\n",
       " '.profile',\n",
       " '05.ipynb',\n",
       " '.bashrc',\n",
       " 'MyMainPackage',\n",
       " 'two.py',\n",
       " '.ipython',\n",
       " 'my_new_file.txt',\n",
       " '.cache',\n",
       " 'test',\n",
       " 'testfile',\n",
       " 'README.ipynb']"
      ]
     },
     "execution_count": 119,
     "metadata": {},
     "output_type": "execute_result"
    }
   ],
   "source": [
    "os.listdir()"
   ]
  },
  {
   "cell_type": "code",
   "execution_count": 123,
   "id": "85415d2e-002c-42ab-8199-7e0e7fb5ccb1",
   "metadata": {},
   "outputs": [],
   "source": [
    "send2trash.send2trash('practice.txt')"
   ]
  },
  {
   "cell_type": "code",
   "execution_count": 125,
   "id": "da6f055f-298c-42b7-b4c9-188680322752",
   "metadata": {},
   "outputs": [
    {
     "data": {
      "text/plain": [
       "['.vimrc',\n",
       " '.jupyter',\n",
       " '.ipynb_checkpoints',\n",
       " '.pythonstartup.py',\n",
       " '.local',\n",
       " 'mymodule.py',\n",
       " '04.ipynb',\n",
       " '11.ipynb',\n",
       " '06.ipynb',\n",
       " '02.ipynb',\n",
       " '.gitconfig',\n",
       " '01.ipynb',\n",
       " 'Untitled Folder 2',\n",
       " 'sample-notebooks',\n",
       " '13',\n",
       " '09.ipynb',\n",
       " '03.ipynb',\n",
       " 'myfile.txt',\n",
       " 'test_cap.py',\n",
       " 'Untitled Folder 1',\n",
       " '00-PythonObjectandDataStructureBasics.ipynb',\n",
       " 'cap.py',\n",
       " 'random_new.txt',\n",
       " 'one.py',\n",
       " 'test_pylint.py',\n",
       " 'Untitled Folder',\n",
       " '__pycache__',\n",
       " '13.ipynb',\n",
       " '.virtualenvs',\n",
       " 'test.py',\n",
       " '07.ipynb',\n",
       " '.profile',\n",
       " '05.ipynb',\n",
       " '.bashrc',\n",
       " 'MyMainPackage',\n",
       " 'two.py',\n",
       " '.ipython',\n",
       " 'my_new_file.txt',\n",
       " '.cache',\n",
       " 'test',\n",
       " 'testfile',\n",
       " 'README.ipynb']"
      ]
     },
     "execution_count": 125,
     "metadata": {},
     "output_type": "execute_result"
    }
   ],
   "source": [
    "os.listdir()"
   ]
  },
  {
   "cell_type": "code",
   "execution_count": 133,
   "id": "4987da52-5aad-48ad-b8ab-e61e77916e8d",
   "metadata": {},
   "outputs": [
    {
     "name": "stdout",
     "output_type": "stream",
     "text": [
      " currently looking at /home/e9b0d056-ec96-4b16-80e9-3651ad51973d\n",
      "\n",
      "\n",
      "The subfolders are: \n",
      "subfolder: .jupyter\n",
      "subfolder: .ipynb_checkpoints\n",
      "subfolder: .local\n",
      "subfolder: Untitled Folder 2\n",
      "subfolder: sample-notebooks\n",
      "subfolder: 13\n",
      "subfolder: Untitled Folder 1\n",
      "subfolder: Untitled Folder\n",
      "subfolder: __pycache__\n",
      "subfolder: .virtualenvs\n",
      "subfolder: MyMainPackage\n",
      "subfolder: .ipython\n",
      "subfolder: .cache\n",
      "\n",
      "\n",
      "the files are: \n",
      "\t file: .vimrc\n",
      "\t file: .pythonstartup.py\n",
      "\t file: mymodule.py\n",
      "\t file: 04.ipynb\n",
      "\t file: 11.ipynb\n",
      "\t file: 06.ipynb\n",
      "\t file: 02.ipynb\n",
      "\t file: .gitconfig\n",
      "\t file: 01.ipynb\n",
      "\t file: 09.ipynb\n",
      "\t file: 03.ipynb\n",
      "\t file: myfile.txt\n",
      "\t file: test_cap.py\n",
      "\t file: 00-PythonObjectandDataStructureBasics.ipynb\n",
      "\t file: cap.py\n",
      "\t file: random_new.txt\n",
      "\t file: one.py\n",
      "\t file: test_pylint.py\n",
      "\t file: 13.ipynb\n",
      "\t file: test.py\n",
      "\t file: 07.ipynb\n",
      "\t file: .profile\n",
      "\t file: 05.ipynb\n",
      "\t file: .bashrc\n",
      "\t file: two.py\n",
      "\t file: my_new_file.txt\n",
      "\t file: test\n",
      "\t file: testfile\n",
      "\t file: README.ipynb\n",
      "\n",
      "\n",
      " currently looking at /home/e9b0d056-ec96-4b16-80e9-3651ad51973d/.jupyter\n",
      "\n",
      "\n",
      "The subfolders are: \n",
      "subfolder: lab\n",
      "\n",
      "\n",
      "the files are: \n",
      "\t file: migrated\n",
      "\n",
      "\n",
      " currently looking at /home/e9b0d056-ec96-4b16-80e9-3651ad51973d/.jupyter/lab\n",
      "\n",
      "\n",
      "The subfolders are: \n",
      "subfolder: workspaces\n",
      "subfolder: user-settings\n",
      "\n",
      "\n",
      "the files are: \n",
      "\n",
      "\n",
      " currently looking at /home/e9b0d056-ec96-4b16-80e9-3651ad51973d/.jupyter/lab/workspaces\n",
      "\n",
      "\n",
      "The subfolders are: \n",
      "\n",
      "\n",
      "the files are: \n",
      "\t file: default-37a8.jupyterlab-workspace\n",
      "\t file: auto-x-2376.jupyterlab-workspace\n",
      "\t file: auto-m-6bf5.jupyterlab-workspace\n",
      "\n",
      "\n",
      " currently looking at /home/e9b0d056-ec96-4b16-80e9-3651ad51973d/.jupyter/lab/user-settings\n",
      "\n",
      "\n",
      "The subfolders are: \n",
      "subfolder: jupyterlab-topbar-extension\n",
      "subfolder: @jupyterlab\n",
      "\n",
      "\n",
      "the files are: \n",
      "\n",
      "\n",
      " currently looking at /home/e9b0d056-ec96-4b16-80e9-3651ad51973d/.jupyter/lab/user-settings/jupyterlab-topbar-extension\n",
      "\n",
      "\n",
      "The subfolders are: \n",
      "\n",
      "\n",
      "the files are: \n",
      "\t file: plugin.jupyterlab-settings\n",
      "\n",
      "\n",
      " currently looking at /home/e9b0d056-ec96-4b16-80e9-3651ad51973d/.jupyter/lab/user-settings/@jupyterlab\n",
      "\n",
      "\n",
      "The subfolders are: \n",
      "subfolder: statusbar-extension\n",
      "\n",
      "\n",
      "the files are: \n",
      "\n",
      "\n",
      " currently looking at /home/e9b0d056-ec96-4b16-80e9-3651ad51973d/.jupyter/lab/user-settings/@jupyterlab/statusbar-extension\n",
      "\n",
      "\n",
      "The subfolders are: \n",
      "\n",
      "\n",
      "the files are: \n",
      "\t file: plugin.jupyterlab-settings\n",
      "\n",
      "\n",
      " currently looking at /home/e9b0d056-ec96-4b16-80e9-3651ad51973d/.ipynb_checkpoints\n",
      "\n",
      "\n",
      "The subfolders are: \n",
      "\n",
      "\n",
      "the files are: \n",
      "\t file: random_new-checkpoint.txt\n",
      "\t file: mymodule-checkpoint.py\n",
      "\t file: 07-checkpoint.ipynb\n",
      "\t file: README-checkpoint.ipynb\n",
      "\t file: test-checkpoint\n",
      "\t file: 13-checkpoint.ipynb\n",
      "\t file: 06-checkpoint.ipynb\n",
      "\t file: test-checkpoint.py\n",
      "\t file: 01-checkpoint.ipynb\n",
      "\t file: myfile-checkpoint.txt\n",
      "\t file: 11-checkpoint.ipynb\n",
      "\t file: two-checkpoint.py\n",
      "\t file: one-checkpoint.py\n",
      "\t file: 03-checkpoint.ipynb\n",
      "\t file: 04-checkpoint.ipynb\n",
      "\t file: 09-checkpoint.ipynb\n",
      "\t file: 05-checkpoint.ipynb\n",
      "\t file: 00-PythonObjectandDataStructureBasics-checkpoint.ipynb\n",
      "\t file: 02-checkpoint.ipynb\n",
      "\n",
      "\n",
      " currently looking at /home/e9b0d056-ec96-4b16-80e9-3651ad51973d/.local\n",
      "\n",
      "\n",
      "The subfolders are: \n",
      "subfolder: bin\n",
      "subfolder: share\n",
      "\n",
      "\n",
      "the files are: \n",
      "\n",
      "\n",
      " currently looking at /home/e9b0d056-ec96-4b16-80e9-3651ad51973d/.local/bin\n",
      "\n",
      "\n",
      "The subfolders are: \n",
      "\n",
      "\n",
      "the files are: \n",
      "\t file: django-admin\n",
      "\t file: virtualenv\n",
      "\t file: pip3\n",
      "\t file: flask\n",
      "\t file: ipython\n",
      "\t file: virtualenv3\n",
      "\t file: pip\n",
      "\t file: python3\n",
      "\t file: ipython3\n",
      "\t file: python\n",
      "\n",
      "\n",
      " currently looking at /home/e9b0d056-ec96-4b16-80e9-3651ad51973d/.local/share\n",
      "\n",
      "\n",
      "The subfolders are: \n",
      "subfolder: Trash\n",
      "subfolder: jupyter\n",
      "\n",
      "\n",
      "the files are: \n",
      "\n",
      "\n",
      " currently looking at /home/e9b0d056-ec96-4b16-80e9-3651ad51973d/.local/share/Trash\n",
      "\n",
      "\n",
      "The subfolders are: \n",
      "subfolder: info\n",
      "subfolder: files\n",
      "\n",
      "\n",
      "the files are: \n",
      "\n",
      "\n",
      " currently looking at /home/e9b0d056-ec96-4b16-80e9-3651ad51973d/.local/share/Trash/info\n",
      "\n",
      "\n",
      "The subfolders are: \n",
      "\n",
      "\n",
      "the files are: \n",
      "\t file: practice.txt.trashinfo\n",
      "\n",
      "\n",
      " currently looking at /home/e9b0d056-ec96-4b16-80e9-3651ad51973d/.local/share/Trash/files\n",
      "\n",
      "\n",
      "The subfolders are: \n",
      "\n",
      "\n",
      "the files are: \n",
      "\t file: practice.txt\n",
      "\n",
      "\n",
      " currently looking at /home/e9b0d056-ec96-4b16-80e9-3651ad51973d/.local/share/jupyter\n",
      "\n",
      "\n",
      "The subfolders are: \n",
      "subfolder: kernels\n",
      "\n",
      "\n",
      "the files are: \n",
      "\t file: notebook_secret\n",
      "\t file: nbsignatures.db\n",
      "\n",
      "\n",
      " currently looking at /home/e9b0d056-ec96-4b16-80e9-3651ad51973d/.local/share/jupyter/kernels\n",
      "\n",
      "\n",
      "The subfolders are: \n",
      "subfolder: conda-env-anaconda-2022.05-py39-py\n",
      "subfolder: conda-env-anaconda-panel-2023.05-py310-py\n",
      "subfolder: conda-env-scipy-tutorials-2023-py\n",
      "\n",
      "\n",
      "the files are: \n",
      "\n",
      "\n",
      " currently looking at /home/e9b0d056-ec96-4b16-80e9-3651ad51973d/.local/share/jupyter/kernels/conda-env-anaconda-2022.05-py39-py\n",
      "\n",
      "\n",
      "The subfolders are: \n",
      "\n",
      "\n",
      "the files are: \n",
      "\t file: logo-32x32.png\n",
      "\t file: kernel.json\n",
      "\t file: logo-64x64.png\n",
      "\n",
      "\n",
      " currently looking at /home/e9b0d056-ec96-4b16-80e9-3651ad51973d/.local/share/jupyter/kernels/conda-env-anaconda-panel-2023.05-py310-py\n",
      "\n",
      "\n",
      "The subfolders are: \n",
      "\n",
      "\n",
      "the files are: \n",
      "\t file: logo-32x32.png\n",
      "\t file: kernel.json\n",
      "\t file: logo-64x64.png\n",
      "\t file: logo-svg.svg\n",
      "\n",
      "\n",
      " currently looking at /home/e9b0d056-ec96-4b16-80e9-3651ad51973d/.local/share/jupyter/kernels/conda-env-scipy-tutorials-2023-py\n",
      "\n",
      "\n",
      "The subfolders are: \n",
      "\n",
      "\n",
      "the files are: \n",
      "\t file: logo-32x32.png\n",
      "\t file: kernel.json\n",
      "\t file: logo-64x64.png\n",
      "\t file: logo-svg.svg\n",
      "\n",
      "\n",
      " currently looking at /home/e9b0d056-ec96-4b16-80e9-3651ad51973d/Untitled Folder 2\n",
      "\n",
      "\n",
      "The subfolders are: \n",
      "\n",
      "\n",
      "the files are: \n",
      "\n",
      "\n",
      " currently looking at /home/e9b0d056-ec96-4b16-80e9-3651ad51973d/sample-notebooks\n",
      "\n",
      "\n",
      "The subfolders are: \n",
      "subfolder: AnacondaLearning\n",
      "subfolder: python-programming-course\n",
      "subfolder: intro-to-data-science-course\n",
      "subfolder: examples\n",
      "\n",
      "\n",
      "the files are: \n",
      "\n",
      "\n",
      " currently looking at /home/e9b0d056-ec96-4b16-80e9-3651ad51973d/sample-notebooks/AnacondaLearning\n",
      "\n",
      "\n",
      "The subfolders are: \n",
      "subfolder: intro-python-viz\n",
      "subfolder: intro_to_python_programming\n",
      "subfolder: anaconda_intro_to_machine_learning\n",
      "\n",
      "\n",
      "the files are: \n",
      "\n",
      "\n",
      " currently looking at /home/e9b0d056-ec96-4b16-80e9-3651ad51973d/sample-notebooks/AnacondaLearning/intro-python-viz\n",
      "\n",
      "\n",
      "The subfolders are: \n",
      "subfolder: assets\n",
      "subfolder: archive\n",
      "\n",
      "\n",
      "the files are: \n",
      "\t file: 04-customize-plots.ipynb\n",
      "\t file: 01-read-a-plot.ipynb\n",
      "\t file: README.md\n",
      "\t file: 00-intro.html\n",
      "\t file: 02-derive-basic-insight.ipynb\n",
      "\t file: 05-project.ipynb\n",
      "\t file: 03-understand-data-statistically.ipynb\n",
      "\n",
      "\n",
      " currently looking at /home/e9b0d056-ec96-4b16-80e9-3651ad51973d/sample-notebooks/AnacondaLearning/intro-python-viz/assets\n",
      "\n",
      "\n",
      "The subfolders are: \n",
      "subfolder: intro\n",
      "\n",
      "\n",
      "the files are: \n",
      "\t file: penguins.csv\n",
      "\t file: anatomy.jpeg\n",
      "\t file: UFO1.gif\n",
      "\t file: air_quality_no2.csv\n",
      "\t file: mpg.csv\n",
      "\t file: seaborn.jpeg\n",
      "\n",
      "\n",
      " currently looking at /home/e9b0d056-ec96-4b16-80e9-3651ad51973d/sample-notebooks/AnacondaLearning/intro-python-viz/assets/intro\n",
      "\n",
      "\n",
      "The subfolders are: \n",
      "\n",
      "\n",
      "the files are: \n",
      "\t file: 5.jpg\n",
      "\t file: 2.jpg\n",
      "\t file: 4.jpg\n",
      "\t file: 3.jpg\n",
      "\t file: 1.jpg\n",
      "\t file: 6.jpg\n",
      "\n",
      "\n",
      " currently looking at /home/e9b0d056-ec96-4b16-80e9-3651ad51973d/sample-notebooks/AnacondaLearning/intro-python-viz/archive\n",
      "\n",
      "\n",
      "The subfolders are: \n",
      "\n",
      "\n",
      "the files are: \n",
      "\t file: scrubbed.csv\n",
      "\n",
      "\n",
      " currently looking at /home/e9b0d056-ec96-4b16-80e9-3651ad51973d/sample-notebooks/AnacondaLearning/intro_to_python_programming\n",
      "\n",
      "\n",
      "The subfolders are: \n",
      "\n",
      "\n",
      "the files are: \n",
      "\t file: 02-numbers.ipynb\n",
      "\t file: 06-functions.ipynb\n",
      "\t file: 08-repeats.ipynb\n",
      "\t file: 03-bools.ipynb\n",
      "\t file: 10-classes.ipynb\n",
      "\t file: 04-collections.ipynb\n",
      "\t file: 01-strings.ipynb\n",
      "\t file: 07-rules.ipynb\n",
      "\t file: 09-errors.ipynb\n",
      "\t file: 05-imports.ipynb\n",
      "\n",
      "\n",
      " currently looking at /home/e9b0d056-ec96-4b16-80e9-3651ad51973d/sample-notebooks/AnacondaLearning/anaconda_intro_to_machine_learning\n",
      "\n",
      "\n",
      "The subfolders are: \n",
      "\n",
      "\n",
      "the files are: \n",
      "\t file: 4_2_random_forest.ipynb\n",
      "\t file: 5b_exercise.ipynb\n",
      "\t file: 2_exercise.ipynb\n",
      "\t file: 1b_exercise.ipynb\n",
      "\t file: README.md\n",
      "\t file: 3_exercise.ipynb\n",
      "\t file: 3_2_naive_bayes_user_input.ipynb\n",
      "\t file: 3_1_naive_bayes.ipynb\n",
      "\t file: 2_1_logistic_regression.ipynb\n",
      "\t file: 5a_exercise.ipynb\n",
      "\t file: 1_4_train_test_split_linear_regression.ipynb\n",
      "\t file: 2_3_confusion_matrix_roc_auc.ipynb\n",
      "\t file: 1_3_linear_regression.ipynb\n",
      "\t file: 1a_exercise.ipynb\n",
      "\t file: 4_1_decision_tree.ipynb\n",
      "\t file: 5_2_neural_network_mnist.ipynb\n",
      "\t file: 2_2_multiple_logistic_regression.ipynb\n",
      "\t file: 4_exercise.ipynb\n",
      "\t file: 5_1_neural_network_classification.ipynb\n",
      "\t file: 1_2_sum_of_squares.ipynb\n",
      "\t file: 1_1_residuals.ipynb\n",
      "\n",
      "\n",
      " currently looking at /home/e9b0d056-ec96-4b16-80e9-3651ad51973d/sample-notebooks/python-programming-course\n",
      "\n",
      "\n",
      "The subfolders are: \n",
      "subfolder: 2.basic\n",
      "subfolder: 3.advanced\n",
      "subfolder: images\n",
      "subfolder: 1.intro\n",
      "\n",
      "\n",
      "the files are: \n",
      "\t file: README.md\n",
      "\t file: LICENSE\n",
      "\n",
      "\n",
      " currently looking at /home/e9b0d056-ec96-4b16-80e9-3651ad51973d/sample-notebooks/python-programming-course/2.basic\n",
      "\n",
      "\n",
      "The subfolders are: \n",
      "\n",
      "\n",
      "the files are: \n",
      "\t file: 2-collections.ipynb\n",
      "\t file: 1-functions.ipynb\n",
      "\t file: 3-dictionaries.ipynb\n",
      "\t file: 4-iterators.ipynb\n",
      "\n",
      "\n",
      " currently looking at /home/e9b0d056-ec96-4b16-80e9-3651ad51973d/sample-notebooks/python-programming-course/3.advanced\n",
      "\n",
      "\n",
      "The subfolders are: \n",
      "\n",
      "\n",
      "the files are: \n",
      "\t file: extra-pep8.ipynb\n",
      "\t file: 3-data-model.ipynb\n",
      "\t file: 6-exceptions.ipynb\n",
      "\t file: 4-functions-objects.ipynb\n",
      "\t file: 5-magic.ipynb\n",
      "\t file: 1-classes.ipynb\n",
      "\t file: 2-modules.ipynb\n",
      "\n",
      "\n",
      " currently looking at /home/e9b0d056-ec96-4b16-80e9-3651ad51973d/sample-notebooks/python-programming-course/images\n",
      "\n",
      "\n",
      "The subfolders are: \n",
      "\n",
      "\n",
      "the files are: \n",
      "\t file: variables2.png\n",
      "\t file: interpreter.png\n",
      "\t file: freeze-melt.png\n",
      "\t file: auto-completion.png\n",
      "\t file: syntax-highlight.png\n",
      "\t file: compiler.png\n",
      "\t file: list.png\n",
      "\t file: variables1.png\n",
      "\t file: fibonacci.png\n",
      "\t file: editor.png\n",
      "\t file: recursion.png\n",
      "\t file: collections_uml.png\n",
      "\n",
      "\n",
      " currently looking at /home/e9b0d056-ec96-4b16-80e9-3651ad51973d/sample-notebooks/python-programming-course/1.intro\n",
      "\n",
      "\n",
      "The subfolders are: \n",
      "\n",
      "\n",
      "the files are: \n",
      "\t file: 1-the-way-of-the-program.html\n",
      "\t file: 2-variables-statements-expressions.html\n",
      "\t file: 4-setup-editor.html\n",
      "\t file: 5-conditionals.html\n",
      "\t file: 3-intro-functions.html\n",
      "\n",
      "\n",
      " currently looking at /home/e9b0d056-ec96-4b16-80e9-3651ad51973d/sample-notebooks/intro-to-data-science-course\n",
      "\n",
      "\n",
      "The subfolders are: \n",
      "subfolder: data\n",
      "subfolder: images\n",
      "\n",
      "\n",
      "the files are: \n",
      "\t file: 6-data-wrangling.ipynb\n",
      "\t file: 3-pmlb.ipynb\n",
      "\t file: 7-data-grouping.ipynb\n",
      "\t file: README.md\n",
      "\t file: 2-scipy-sparse-matrix.ipynb\n",
      "\t file: 4-pandas.ipynb\n",
      "\t file: 8-intro-bokeh.ipynb\n",
      "\t file: 5-data-analysis.ipynb\n",
      "\t file: LICENSE\n",
      "\t file: 1-numpy.ipynb\n",
      "\n",
      "\n",
      " currently looking at /home/e9b0d056-ec96-4b16-80e9-3651ad51973d/sample-notebooks/intro-to-data-science-course/data\n",
      "\n",
      "\n",
      "The subfolders are: \n",
      "subfolder: titanic\n",
      "subfolder: customer-churn-model\n",
      "subfolder: adult\n",
      "\n",
      "\n",
      "the files are: \n",
      "\t file: blooth_sales_data.csv\n",
      "\t file: blooth_sales_data_2.csv\n",
      "\n",
      "\n",
      " currently looking at /home/e9b0d056-ec96-4b16-80e9-3651ad51973d/sample-notebooks/intro-to-data-science-course/data/titanic\n",
      "\n",
      "\n",
      "The subfolders are: \n",
      "\n",
      "\n",
      "the files are: \n",
      "\t file: titanic_custom.json\n",
      "\t file: Titanic Description.txt\n",
      "\t file: titanic3.xlsx\n",
      "\t file: titanic_custom.csv\n",
      "\t file: titanic_custom.xls\n",
      "\t file: titanic3.xls\n",
      "\t file: titanic3.csv\n",
      "\n",
      "\n",
      " currently looking at /home/e9b0d056-ec96-4b16-80e9-3651ad51973d/sample-notebooks/intro-to-data-science-course/data/customer-churn-model\n",
      "\n",
      "\n",
      "The subfolders are: \n",
      "\n",
      "\n",
      "the files are: \n",
      "\t file: Customer Churn Columns.csv\n",
      "\t file: Customer Churn Model.csv\n",
      "\t file: Customer Churn Model.txt\n",
      "\t file: Tab Customer Churn Model.txt\n",
      "\n",
      "\n",
      " currently looking at /home/e9b0d056-ec96-4b16-80e9-3651ad51973d/sample-notebooks/intro-to-data-science-course/data/adult\n",
      "\n",
      "\n",
      "The subfolders are: \n",
      "\n",
      "\n",
      "the files are: \n",
      "\t file: adult.tsv.gz\n",
      "\n",
      "\n",
      " currently looking at /home/e9b0d056-ec96-4b16-80e9-3651ad51973d/sample-notebooks/intro-to-data-science-course/images\n",
      "\n",
      "\n",
      "The subfolders are: \n",
      "\n",
      "\n",
      "the files are: \n",
      "\t file: df_inside.png\n",
      "\t file: ndarray_with_details.png\n",
      "\t file: ndarray.png\n",
      "\t file: df_inside_numpy.png\n",
      "\t file: df_outside.png\n",
      "\n",
      "\n",
      " currently looking at /home/e9b0d056-ec96-4b16-80e9-3651ad51973d/sample-notebooks/examples\n",
      "\n",
      "\n",
      "The subfolders are: \n",
      "\n",
      "\n",
      "the files are: \n",
      "\t file: Plotting-with-Matplotlib.ipynb\n",
      "\t file: hvplot_interactive.ipynb\n",
      "\t file: PredictingPittsburghbikesharerides.ipynb\n",
      "\n",
      "\n",
      " currently looking at /home/e9b0d056-ec96-4b16-80e9-3651ad51973d/13\n",
      "\n",
      "\n",
      "The subfolders are: \n",
      "subfolder: .ipynb_checkpoints\n",
      "\n",
      "\n",
      "the files are: \n",
      "\t file: 13.ipynb\n",
      "\n",
      "\n",
      " currently looking at /home/e9b0d056-ec96-4b16-80e9-3651ad51973d/13/.ipynb_checkpoints\n",
      "\n",
      "\n",
      "The subfolders are: \n",
      "\n",
      "\n",
      "the files are: \n",
      "\t file: practice-checkpoint.txt\n",
      "\n",
      "\n",
      " currently looking at /home/e9b0d056-ec96-4b16-80e9-3651ad51973d/Untitled Folder 1\n",
      "\n",
      "\n",
      "The subfolders are: \n",
      "\n",
      "\n",
      "the files are: \n",
      "\n",
      "\n",
      " currently looking at /home/e9b0d056-ec96-4b16-80e9-3651ad51973d/Untitled Folder\n",
      "\n",
      "\n",
      "The subfolders are: \n",
      "subfolder: .ipynb_checkpoints\n",
      "\n",
      "\n",
      "the files are: \n",
      "\t file: 08.ipynb\n",
      "\n",
      "\n",
      " currently looking at /home/e9b0d056-ec96-4b16-80e9-3651ad51973d/Untitled Folder/.ipynb_checkpoints\n",
      "\n",
      "\n",
      "The subfolders are: \n",
      "\n",
      "\n",
      "the files are: \n",
      "\t file: 08-checkpoint.ipynb\n",
      "\n",
      "\n",
      " currently looking at /home/e9b0d056-ec96-4b16-80e9-3651ad51973d/__pycache__\n",
      "\n",
      "\n",
      "The subfolders are: \n",
      "\n",
      "\n",
      "the files are: \n",
      "\t file: one.cpython-39.pyc\n",
      "\t file: one.cpython-311.pyc\n",
      "\t file: cap.cpython-311.pyc\n",
      "\t file: two.cpython-311.pyc\n",
      "\t file: two.cpython-39.pyc\n",
      "\t file: mymodule.cpython-311.pyc\n",
      "\n",
      "\n",
      " currently looking at /home/e9b0d056-ec96-4b16-80e9-3651ad51973d/.virtualenvs\n",
      "\n",
      "\n",
      "The subfolders are: \n",
      "\n",
      "\n",
      "the files are: \n",
      "\n",
      "\n",
      " currently looking at /home/e9b0d056-ec96-4b16-80e9-3651ad51973d/MyMainPackage\n",
      "\n",
      "\n",
      "The subfolders are: \n",
      "subfolder: .ipynb_checkpoints\n",
      "subfolder: __pycache__\n",
      "subfolder: SubPackage\n",
      "\n",
      "\n",
      "the files are: \n",
      "\t file: __init__.py\n",
      "\t file: some_main_script.py\n",
      "\n",
      "\n",
      " currently looking at /home/e9b0d056-ec96-4b16-80e9-3651ad51973d/MyMainPackage/.ipynb_checkpoints\n",
      "\n",
      "\n",
      "The subfolders are: \n",
      "\n",
      "\n",
      "the files are: \n",
      "\t file: some_main_script-checkpoint.py\n",
      "\n",
      "\n",
      " currently looking at /home/e9b0d056-ec96-4b16-80e9-3651ad51973d/MyMainPackage/__pycache__\n",
      "\n",
      "\n",
      "The subfolders are: \n",
      "\n",
      "\n",
      "the files are: \n",
      "\t file: some_main_script.cpython-311.pyc\n",
      "\t file: __init__.cpython-311.pyc\n",
      "\n",
      "\n",
      " currently looking at /home/e9b0d056-ec96-4b16-80e9-3651ad51973d/MyMainPackage/SubPackage\n",
      "\n",
      "\n",
      "The subfolders are: \n",
      "subfolder: .ipynb_checkpoints\n",
      "subfolder: __pycache__\n",
      "\n",
      "\n",
      "the files are: \n",
      "\t file: __init__.py\n",
      "\t file: mysubscript.py\n",
      "\n",
      "\n",
      " currently looking at /home/e9b0d056-ec96-4b16-80e9-3651ad51973d/MyMainPackage/SubPackage/.ipynb_checkpoints\n",
      "\n",
      "\n",
      "The subfolders are: \n",
      "\n",
      "\n",
      "the files are: \n",
      "\t file: mysubscript-checkpoint.py\n",
      "\n",
      "\n",
      " currently looking at /home/e9b0d056-ec96-4b16-80e9-3651ad51973d/MyMainPackage/SubPackage/__pycache__\n",
      "\n",
      "\n",
      "The subfolders are: \n",
      "\n",
      "\n",
      "the files are: \n",
      "\t file: mysubscript.cpython-311.pyc\n",
      "\t file: __init__.cpython-311.pyc\n",
      "\n",
      "\n",
      " currently looking at /home/e9b0d056-ec96-4b16-80e9-3651ad51973d/.ipython\n",
      "\n",
      "\n",
      "The subfolders are: \n",
      "subfolder: profile_default\n",
      "\n",
      "\n",
      "the files are: \n",
      "\n",
      "\n",
      " currently looking at /home/e9b0d056-ec96-4b16-80e9-3651ad51973d/.ipython/profile_default\n",
      "\n",
      "\n",
      "The subfolders are: \n",
      "subfolder: db\n",
      "subfolder: security\n",
      "subfolder: pid\n",
      "subfolder: log\n",
      "subfolder: startup\n",
      "\n",
      "\n",
      "the files are: \n",
      "\t file: history.sqlite\n",
      "\n",
      "\n",
      " currently looking at /home/e9b0d056-ec96-4b16-80e9-3651ad51973d/.ipython/profile_default/db\n",
      "\n",
      "\n",
      "The subfolders are: \n",
      "\n",
      "\n",
      "the files are: \n",
      "\n",
      "\n",
      " currently looking at /home/e9b0d056-ec96-4b16-80e9-3651ad51973d/.ipython/profile_default/security\n",
      "\n",
      "\n",
      "The subfolders are: \n",
      "\n",
      "\n",
      "the files are: \n",
      "\n",
      "\n",
      " currently looking at /home/e9b0d056-ec96-4b16-80e9-3651ad51973d/.ipython/profile_default/pid\n",
      "\n",
      "\n",
      "The subfolders are: \n",
      "\n",
      "\n",
      "the files are: \n",
      "\n",
      "\n",
      " currently looking at /home/e9b0d056-ec96-4b16-80e9-3651ad51973d/.ipython/profile_default/log\n",
      "\n",
      "\n",
      "The subfolders are: \n",
      "\n",
      "\n",
      "the files are: \n",
      "\n",
      "\n",
      " currently looking at /home/e9b0d056-ec96-4b16-80e9-3651ad51973d/.ipython/profile_default/startup\n",
      "\n",
      "\n",
      "The subfolders are: \n",
      "\n",
      "\n",
      "the files are: \n",
      "\t file: 00-env.py\n",
      "\t file: README\n",
      "\n",
      "\n",
      " currently looking at /home/e9b0d056-ec96-4b16-80e9-3651ad51973d/.cache\n",
      "\n",
      "\n",
      "The subfolders are: \n",
      "subfolder: jedi\n",
      "subfolder: yarn\n",
      "subfolder: pylint\n",
      "\n",
      "\n",
      "the files are: \n",
      "\n",
      "\n",
      " currently looking at /home/e9b0d056-ec96-4b16-80e9-3651ad51973d/.cache/jedi\n",
      "\n",
      "\n",
      "The subfolders are: \n",
      "subfolder: CPython-311-33\n",
      "subfolder: CPython-39-33\n",
      "\n",
      "\n",
      "the files are: \n",
      "\t file: PARSO-CACHE-LOCK\n",
      "\n",
      "\n",
      " currently looking at /home/e9b0d056-ec96-4b16-80e9-3651ad51973d/.cache/jedi/CPython-311-33\n",
      "\n",
      "\n",
      "The subfolders are: \n",
      "\n",
      "\n",
      "the files are: \n",
      "\t file: 29eef7fec4dc8afb41b76ae425aa0d6225daff32de9e10abf7a1ce54fa5907f1-fd7870fe8765c5d6a5980135d93190de6068c84fc9c75297b70ab884b9967693.pkl\n",
      "\t file: 4305da1ea25c27fce08bd14001b76fd54fe42a0724bbd5168c76680a56eda5be-ca91d47abc6403bb4dc2ee6fe0c678ed36044bb51c1721aee994fef01313780c.pkl\n",
      "\t file: 29eef7fec4dc8afb41b76ae425aa0d6225daff32de9e10abf7a1ce54fa5907f1-f84916618ef7bac09e17c446e7a1b385e06f87082fee851f283a07e2a812a9f9.pkl\n",
      "\t file: 4305da1ea25c27fce08bd14001b76fd54fe42a0724bbd5168c76680a56eda5be-d5a37b4dff67b739499a06658b894e2545543bfbdffc8f487b4aa10502240d0e.pkl\n",
      "\t file: 4305da1ea25c27fce08bd14001b76fd54fe42a0724bbd5168c76680a56eda5be-2bb95532379b49de9bca0d67be2573ed410edb92fb753129d7277acb6d9de965.pkl\n",
      "\t file: 29eef7fec4dc8afb41b76ae425aa0d6225daff32de9e10abf7a1ce54fa5907f1-7880194f7737c7694825c684b1e420c7ce1dcae1438a153e3a9ff0a1a556db34.pkl\n",
      "\t file: 29eef7fec4dc8afb41b76ae425aa0d6225daff32de9e10abf7a1ce54fa5907f1-565946c6f1879d5e5ad94feb5adad690512957d4e74b76cdb30876f48857d0ce.pkl\n",
      "\t file: 29eef7fec4dc8afb41b76ae425aa0d6225daff32de9e10abf7a1ce54fa5907f1-896b0a006c46541449a1d9fd971ab062ad2e103efbf64cf625dff6e2dd03c06e.pkl\n",
      "\t file: 29eef7fec4dc8afb41b76ae425aa0d6225daff32de9e10abf7a1ce54fa5907f1-30ddb38803dab2bcb891cbb3fce30f9520f8dfa63184d02a39dc914ac7d2eed9.pkl\n",
      "\t file: 4305da1ea25c27fce08bd14001b76fd54fe42a0724bbd5168c76680a56eda5be-e17a793c1fa0fa4cfc015826e4f94ef0042240772c51c66e7836d4c4f39f05a7.pkl\n",
      "\n",
      "\n",
      " currently looking at /home/e9b0d056-ec96-4b16-80e9-3651ad51973d/.cache/jedi/CPython-39-33\n",
      "\n",
      "\n",
      "The subfolders are: \n",
      "\n",
      "\n",
      "the files are: \n",
      "\t file: 29eef7fec4dc8afb41b76ae425aa0d6225daff32de9e10abf7a1ce54fa5907f1-a3b2b698009b64bbd90759fbb5a2d02d77135caed18d3c7fb7388a15da8ada58.pkl\n",
      "\n",
      "\n",
      " currently looking at /home/e9b0d056-ec96-4b16-80e9-3651ad51973d/.cache/yarn\n",
      "\n",
      "\n",
      "The subfolders are: \n",
      "subfolder: v6\n",
      "\n",
      "\n",
      "the files are: \n",
      "\n",
      "\n",
      " currently looking at /home/e9b0d056-ec96-4b16-80e9-3651ad51973d/.cache/yarn/v6\n",
      "\n",
      "\n",
      "The subfolders are: \n",
      "subfolder: .tmp\n",
      "\n",
      "\n",
      "the files are: \n",
      "\n",
      "\n",
      " currently looking at /home/e9b0d056-ec96-4b16-80e9-3651ad51973d/.cache/yarn/v6/.tmp\n",
      "\n",
      "\n",
      "The subfolders are: \n",
      "\n",
      "\n",
      "the files are: \n",
      "\n",
      "\n",
      " currently looking at /home/e9b0d056-ec96-4b16-80e9-3651ad51973d/.cache/pylint\n",
      "\n",
      "\n",
      "The subfolders are: \n",
      "\n",
      "\n",
      "the files are: \n",
      "\t file: test_1.stats\n",
      "\t file: test_pylint_1.stats\n",
      "\n",
      "\n"
     ]
    }
   ],
   "source": [
    "for folder,sub_folder,files in os.walk(os.getcwd()):\n",
    "    print(f\" currently looking at {folder}\")\n",
    "    print('\\n')\n",
    "    print(\"The subfolders are: \")\n",
    "    for sub_fold in sub_folder:\n",
    "        print(f\"subfolder: {sub_fold}\")\n",
    "    print('\\n')\n",
    "    print('the files are: ')\n",
    "    for f in files:\n",
    "        print(f\"\\t file: {f}\")\n",
    "    print(\"\\n\")"
   ]
  },
  {
   "cell_type": "code",
   "execution_count": null,
   "id": "3f7af3a6-50dc-4fdc-b629-071af4016526",
   "metadata": {},
   "outputs": [],
   "source": []
  },
  {
   "cell_type": "code",
   "execution_count": null,
   "id": "3531d6ed-e328-4528-9173-9d9be9107333",
   "metadata": {},
   "outputs": [],
   "source": []
  },
  {
   "cell_type": "code",
   "execution_count": null,
   "id": "9bca2341-e11b-4446-bd3a-d10befe503c2",
   "metadata": {},
   "outputs": [],
   "source": []
  },
  {
   "cell_type": "code",
   "execution_count": null,
   "id": "b1f8da4a-47c7-4129-a34a-b36272c0facf",
   "metadata": {},
   "outputs": [],
   "source": []
  },
  {
   "cell_type": "code",
   "execution_count": 139,
   "id": "cf9fbd3b-ba44-4362-b98c-6c193b4883ca",
   "metadata": {},
   "outputs": [],
   "source": [
    "import datetime"
   ]
  },
  {
   "cell_type": "code",
   "execution_count": 141,
   "id": "b0ff80b6-0291-4e89-b15c-9a399f1ce2fb",
   "metadata": {},
   "outputs": [],
   "source": [
    "mytime = datetime.time(11,50)"
   ]
  },
  {
   "cell_type": "code",
   "execution_count": 143,
   "id": "9fcf8569-078f-4ddf-8f89-50d8b2d74adb",
   "metadata": {},
   "outputs": [
    {
     "data": {
      "text/plain": [
       "50"
      ]
     },
     "execution_count": 143,
     "metadata": {},
     "output_type": "execute_result"
    }
   ],
   "source": [
    "mytime.minute"
   ]
  },
  {
   "cell_type": "code",
   "execution_count": 145,
   "id": "f5605125-81a9-4550-b85a-8f00a3539220",
   "metadata": {},
   "outputs": [
    {
     "data": {
      "text/plain": [
       "11"
      ]
     },
     "execution_count": 145,
     "metadata": {},
     "output_type": "execute_result"
    }
   ],
   "source": [
    "mytime.hour"
   ]
  },
  {
   "cell_type": "code",
   "execution_count": 147,
   "id": "99e13d22-801d-4122-b1e5-5b9152d5f56e",
   "metadata": {},
   "outputs": [
    {
     "name": "stdout",
     "output_type": "stream",
     "text": [
      "11:50:00\n"
     ]
    }
   ],
   "source": [
    "print(mytime)"
   ]
  },
  {
   "cell_type": "code",
   "execution_count": 149,
   "id": "48216d77-4680-4a6f-af78-7417b5cc114e",
   "metadata": {},
   "outputs": [
    {
     "data": {
      "text/plain": [
       "0"
      ]
     },
     "execution_count": 149,
     "metadata": {},
     "output_type": "execute_result"
    }
   ],
   "source": [
    "mytime.second"
   ]
  },
  {
   "cell_type": "code",
   "execution_count": 151,
   "id": "0b8db727-c334-4076-88a8-1e4a0808c726",
   "metadata": {},
   "outputs": [
    {
     "data": {
      "text/plain": [
       "0"
      ]
     },
     "execution_count": 151,
     "metadata": {},
     "output_type": "execute_result"
    }
   ],
   "source": [
    "mytime.microsecond"
   ]
  },
  {
   "cell_type": "code",
   "execution_count": 153,
   "id": "85114a17-31de-4f6d-a27c-88e1bc4d1462",
   "metadata": {},
   "outputs": [
    {
     "data": {
      "text/plain": [
       "datetime.time"
      ]
     },
     "execution_count": 153,
     "metadata": {},
     "output_type": "execute_result"
    }
   ],
   "source": [
    "type(mytime)"
   ]
  },
  {
   "cell_type": "code",
   "execution_count": 159,
   "id": "2e7559e3-3052-44b9-96ba-77b69c0ff1b5",
   "metadata": {},
   "outputs": [],
   "source": [
    "today = datetime.date.today()"
   ]
  },
  {
   "cell_type": "code",
   "execution_count": 161,
   "id": "e477fc80-e658-4c81-912d-97cc1c1e4298",
   "metadata": {},
   "outputs": [
    {
     "name": "stdout",
     "output_type": "stream",
     "text": [
      "2023-10-15\n"
     ]
    }
   ],
   "source": [
    "print(today)"
   ]
  },
  {
   "cell_type": "code",
   "execution_count": 163,
   "id": "0fc2243e-5b13-46f1-9ac6-d0d85f51940f",
   "metadata": {},
   "outputs": [
    {
     "data": {
      "text/plain": [
       "2023"
      ]
     },
     "execution_count": 163,
     "metadata": {},
     "output_type": "execute_result"
    }
   ],
   "source": [
    "today.year"
   ]
  },
  {
   "cell_type": "code",
   "execution_count": 165,
   "id": "a1f8336e-a574-4d8f-85b1-3c6c87f2f896",
   "metadata": {},
   "outputs": [
    {
     "data": {
      "text/plain": [
       "10"
      ]
     },
     "execution_count": 165,
     "metadata": {},
     "output_type": "execute_result"
    }
   ],
   "source": [
    "today.month"
   ]
  },
  {
   "cell_type": "code",
   "execution_count": 169,
   "id": "3b278329-1202-49a6-87db-ad487f43718f",
   "metadata": {},
   "outputs": [
    {
     "data": {
      "text/plain": [
       "15"
      ]
     },
     "execution_count": 169,
     "metadata": {},
     "output_type": "execute_result"
    }
   ],
   "source": [
    "today.day"
   ]
  },
  {
   "cell_type": "code",
   "execution_count": 171,
   "id": "46ff9782-aa6f-4c9b-94ef-d9bf6c6345fe",
   "metadata": {},
   "outputs": [
    {
     "data": {
      "text/plain": [
       "'Sun Oct 15 00:00:00 2023'"
      ]
     },
     "execution_count": 171,
     "metadata": {},
     "output_type": "execute_result"
    }
   ],
   "source": [
    "today.ctime()"
   ]
  },
  {
   "cell_type": "code",
   "execution_count": 173,
   "id": "a91ed625-8188-4f23-9d44-03884579728e",
   "metadata": {},
   "outputs": [],
   "source": [
    "from datetime import datetime"
   ]
  },
  {
   "cell_type": "code",
   "execution_count": 175,
   "id": "a2495b23-7296-4dc1-a24e-ab40b1865e26",
   "metadata": {},
   "outputs": [],
   "source": [
    "mydatetime = datetime(2021,10,3,14,20,1)"
   ]
  },
  {
   "cell_type": "code",
   "execution_count": 177,
   "id": "72952058-c70f-437f-a061-9ce6c99b8abb",
   "metadata": {},
   "outputs": [
    {
     "name": "stdout",
     "output_type": "stream",
     "text": [
      "2021-10-03 14:20:01\n"
     ]
    }
   ],
   "source": [
    "print(mydatetime)"
   ]
  },
  {
   "cell_type": "code",
   "execution_count": 181,
   "id": "e73d9cba-88d5-4b76-85fa-64345bb6197e",
   "metadata": {},
   "outputs": [],
   "source": [
    "mydatetime = mydatetime.replace(year=2020)"
   ]
  },
  {
   "cell_type": "code",
   "execution_count": 183,
   "id": "4dfd3318-d125-40d2-ad69-71e20738b925",
   "metadata": {},
   "outputs": [
    {
     "name": "stdout",
     "output_type": "stream",
     "text": [
      "2020-10-03 14:20:01\n"
     ]
    }
   ],
   "source": [
    "print(mydatetime)"
   ]
  },
  {
   "cell_type": "code",
   "execution_count": 185,
   "id": "48a8c855-badd-4ea9-98b2-b1ff60ca2edb",
   "metadata": {},
   "outputs": [],
   "source": [
    "from datetime import date"
   ]
  },
  {
   "cell_type": "code",
   "execution_count": 187,
   "id": "79170254-0ec5-4cf2-a7f8-c8d90331e768",
   "metadata": {},
   "outputs": [],
   "source": [
    "date1 = date(2023,11,3)\n",
    "date2 = date(2020,11,3)"
   ]
  },
  {
   "cell_type": "code",
   "execution_count": 195,
   "id": "7ae163e3-2d7a-4267-a4a9-82c3f5ead65d",
   "metadata": {},
   "outputs": [
    {
     "data": {
      "text/plain": [
       "datetime.timedelta(days=1095)"
      ]
     },
     "execution_count": 195,
     "metadata": {},
     "output_type": "execute_result"
    }
   ],
   "source": [
    "date1 - date2"
   ]
  },
  {
   "cell_type": "code",
   "execution_count": 197,
   "id": "674ddfb6-1447-4d6d-9f6e-a9d57d8fe6d0",
   "metadata": {},
   "outputs": [],
   "source": [
    "result = date1 - date2"
   ]
  },
  {
   "cell_type": "code",
   "execution_count": 199,
   "id": "2ddce6c9-6791-4097-855c-93495d49cd60",
   "metadata": {},
   "outputs": [
    {
     "data": {
      "text/plain": [
       "datetime.timedelta"
      ]
     },
     "execution_count": 199,
     "metadata": {},
     "output_type": "execute_result"
    }
   ],
   "source": [
    "type(result)"
   ]
  },
  {
   "cell_type": "code",
   "execution_count": 201,
   "id": "b121748e-99d2-4618-afc0-e679b4e97d56",
   "metadata": {},
   "outputs": [
    {
     "data": {
      "text/plain": [
       "1095"
      ]
     },
     "execution_count": 201,
     "metadata": {},
     "output_type": "execute_result"
    }
   ],
   "source": [
    "result.days"
   ]
  },
  {
   "cell_type": "code",
   "execution_count": 203,
   "id": "0a91f878-91d2-4c16-869b-e1f391245d05",
   "metadata": {},
   "outputs": [],
   "source": [
    "from datetime import datetime"
   ]
  },
  {
   "cell_type": "code",
   "execution_count": 205,
   "id": "9bbe4e53-84ac-464e-acea-e86bf1ad2ce7",
   "metadata": {},
   "outputs": [],
   "source": [
    "datetime1 = datetime(2021,11,3,22,0)"
   ]
  },
  {
   "cell_type": "code",
   "execution_count": 207,
   "id": "64044e47-aefc-4baf-88ea-83a29d85ab99",
   "metadata": {},
   "outputs": [],
   "source": [
    "datetime2 = datetime(2020,11,3,12,0)"
   ]
  },
  {
   "cell_type": "code",
   "execution_count": 209,
   "id": "a33100cf-6eab-4d71-ad14-2d5d6983fd9c",
   "metadata": {},
   "outputs": [
    {
     "data": {
      "text/plain": [
       "datetime.timedelta(days=365, seconds=36000)"
      ]
     },
     "execution_count": 209,
     "metadata": {},
     "output_type": "execute_result"
    }
   ],
   "source": [
    "datetime1 - datetime2"
   ]
  },
  {
   "cell_type": "code",
   "execution_count": 211,
   "id": "4d5d40eb-a965-4798-8570-2d2f7e0c4502",
   "metadata": {},
   "outputs": [],
   "source": [
    "mydiff = datetime1 - datetime2"
   ]
  },
  {
   "cell_type": "code",
   "execution_count": 217,
   "id": "9daa2614-20b1-4ac8-b885-e76fe3473e3f",
   "metadata": {},
   "outputs": [
    {
     "data": {
      "text/plain": [
       "36000"
      ]
     },
     "execution_count": 217,
     "metadata": {},
     "output_type": "execute_result"
    }
   ],
   "source": [
    "mydiff.seconds"
   ]
  },
  {
   "cell_type": "code",
   "execution_count": 219,
   "id": "1a2f70e1-c20c-485a-a786-dd92b10d527a",
   "metadata": {},
   "outputs": [
    {
     "data": {
      "text/plain": [
       "31572000.0"
      ]
     },
     "execution_count": 219,
     "metadata": {},
     "output_type": "execute_result"
    }
   ],
   "source": [
    "mydiff.total_seconds()"
   ]
  },
  {
   "cell_type": "code",
   "execution_count": null,
   "id": "130695fa-071f-4d4a-bbba-5849dc749765",
   "metadata": {},
   "outputs": [],
   "source": []
  },
  {
   "cell_type": "code",
   "execution_count": null,
   "id": "4ed78bb9-246b-4524-89b0-11e0761577e8",
   "metadata": {},
   "outputs": [],
   "source": []
  },
  {
   "cell_type": "code",
   "execution_count": null,
   "id": "98ea7ca7-d15d-4779-ad16-f0233c4a76cf",
   "metadata": {},
   "outputs": [],
   "source": []
  },
  {
   "cell_type": "code",
   "execution_count": 230,
   "id": "4cb80daf-0b5b-4181-a997-5e5dadad59bd",
   "metadata": {},
   "outputs": [],
   "source": [
    "import math"
   ]
  },
  {
   "cell_type": "code",
   "execution_count": 232,
   "id": "3f6c6eac-7528-4569-b506-225232c75b5d",
   "metadata": {},
   "outputs": [
    {
     "name": "stdout",
     "output_type": "stream",
     "text": [
      "Help on module math:\n",
      "\n",
      "NAME\n",
      "    math\n",
      "\n",
      "MODULE REFERENCE\n",
      "    https://docs.python.org/3.11/library/math.html\n",
      "    \n",
      "    The following documentation is automatically generated from the Python\n",
      "    source files.  It may be incomplete, incorrect or include features that\n",
      "    are considered implementation detail and may vary between Python\n",
      "    implementations.  When in doubt, consult the module reference at the\n",
      "    location listed above.\n",
      "\n",
      "DESCRIPTION\n",
      "    This module provides access to the mathematical functions\n",
      "    defined by the C standard.\n",
      "\n",
      "FUNCTIONS\n",
      "    acos(x, /)\n",
      "        Return the arc cosine (measured in radians) of x.\n",
      "        \n",
      "        The result is between 0 and pi.\n",
      "    \n",
      "    acosh(x, /)\n",
      "        Return the inverse hyperbolic cosine of x.\n",
      "    \n",
      "    asin(x, /)\n",
      "        Return the arc sine (measured in radians) of x.\n",
      "        \n",
      "        The result is between -pi/2 and pi/2.\n",
      "    \n",
      "    asinh(x, /)\n",
      "        Return the inverse hyperbolic sine of x.\n",
      "    \n",
      "    atan(x, /)\n",
      "        Return the arc tangent (measured in radians) of x.\n",
      "        \n",
      "        The result is between -pi/2 and pi/2.\n",
      "    \n",
      "    atan2(y, x, /)\n",
      "        Return the arc tangent (measured in radians) of y/x.\n",
      "        \n",
      "        Unlike atan(y/x), the signs of both x and y are considered.\n",
      "    \n",
      "    atanh(x, /)\n",
      "        Return the inverse hyperbolic tangent of x.\n",
      "    \n",
      "    cbrt(x, /)\n",
      "        Return the cube root of x.\n",
      "    \n",
      "    ceil(x, /)\n",
      "        Return the ceiling of x as an Integral.\n",
      "        \n",
      "        This is the smallest integer >= x.\n",
      "    \n",
      "    comb(n, k, /)\n",
      "        Number of ways to choose k items from n items without repetition and without order.\n",
      "        \n",
      "        Evaluates to n! / (k! * (n - k)!) when k <= n and evaluates\n",
      "        to zero when k > n.\n",
      "        \n",
      "        Also called the binomial coefficient because it is equivalent\n",
      "        to the coefficient of k-th term in polynomial expansion of the\n",
      "        expression (1 + x)**n.\n",
      "        \n",
      "        Raises TypeError if either of the arguments are not integers.\n",
      "        Raises ValueError if either of the arguments are negative.\n",
      "    \n",
      "    copysign(x, y, /)\n",
      "        Return a float with the magnitude (absolute value) of x but the sign of y.\n",
      "        \n",
      "        On platforms that support signed zeros, copysign(1.0, -0.0)\n",
      "        returns -1.0.\n",
      "    \n",
      "    cos(x, /)\n",
      "        Return the cosine of x (measured in radians).\n",
      "    \n",
      "    cosh(x, /)\n",
      "        Return the hyperbolic cosine of x.\n",
      "    \n",
      "    degrees(x, /)\n",
      "        Convert angle x from radians to degrees.\n",
      "    \n",
      "    dist(p, q, /)\n",
      "        Return the Euclidean distance between two points p and q.\n",
      "        \n",
      "        The points should be specified as sequences (or iterables) of\n",
      "        coordinates.  Both inputs must have the same dimension.\n",
      "        \n",
      "        Roughly equivalent to:\n",
      "            sqrt(sum((px - qx) ** 2.0 for px, qx in zip(p, q)))\n",
      "    \n",
      "    erf(x, /)\n",
      "        Error function at x.\n",
      "    \n",
      "    erfc(x, /)\n",
      "        Complementary error function at x.\n",
      "    \n",
      "    exp(x, /)\n",
      "        Return e raised to the power of x.\n",
      "    \n",
      "    exp2(x, /)\n",
      "        Return 2 raised to the power of x.\n",
      "    \n",
      "    expm1(x, /)\n",
      "        Return exp(x)-1.\n",
      "        \n",
      "        This function avoids the loss of precision involved in the direct evaluation of exp(x)-1 for small x.\n",
      "    \n",
      "    fabs(x, /)\n",
      "        Return the absolute value of the float x.\n",
      "    \n",
      "    factorial(n, /)\n",
      "        Find n!.\n",
      "        \n",
      "        Raise a ValueError if x is negative or non-integral.\n",
      "    \n",
      "    floor(x, /)\n",
      "        Return the floor of x as an Integral.\n",
      "        \n",
      "        This is the largest integer <= x.\n",
      "    \n",
      "    fmod(x, y, /)\n",
      "        Return fmod(x, y), according to platform C.\n",
      "        \n",
      "        x % y may differ.\n",
      "    \n",
      "    frexp(x, /)\n",
      "        Return the mantissa and exponent of x, as pair (m, e).\n",
      "        \n",
      "        m is a float and e is an int, such that x = m * 2.**e.\n",
      "        If x is 0, m and e are both 0.  Else 0.5 <= abs(m) < 1.0.\n",
      "    \n",
      "    fsum(seq, /)\n",
      "        Return an accurate floating point sum of values in the iterable seq.\n",
      "        \n",
      "        Assumes IEEE-754 floating point arithmetic.\n",
      "    \n",
      "    gamma(x, /)\n",
      "        Gamma function at x.\n",
      "    \n",
      "    gcd(*integers)\n",
      "        Greatest Common Divisor.\n",
      "    \n",
      "    hypot(...)\n",
      "        hypot(*coordinates) -> value\n",
      "        \n",
      "        Multidimensional Euclidean distance from the origin to a point.\n",
      "        \n",
      "        Roughly equivalent to:\n",
      "            sqrt(sum(x**2 for x in coordinates))\n",
      "        \n",
      "        For a two dimensional point (x, y), gives the hypotenuse\n",
      "        using the Pythagorean theorem:  sqrt(x*x + y*y).\n",
      "        \n",
      "        For example, the hypotenuse of a 3/4/5 right triangle is:\n",
      "        \n",
      "            >>> hypot(3.0, 4.0)\n",
      "            5.0\n",
      "    \n",
      "    isclose(a, b, *, rel_tol=1e-09, abs_tol=0.0)\n",
      "        Determine whether two floating point numbers are close in value.\n",
      "        \n",
      "          rel_tol\n",
      "            maximum difference for being considered \"close\", relative to the\n",
      "            magnitude of the input values\n",
      "          abs_tol\n",
      "            maximum difference for being considered \"close\", regardless of the\n",
      "            magnitude of the input values\n",
      "        \n",
      "        Return True if a is close in value to b, and False otherwise.\n",
      "        \n",
      "        For the values to be considered close, the difference between them\n",
      "        must be smaller than at least one of the tolerances.\n",
      "        \n",
      "        -inf, inf and NaN behave similarly to the IEEE 754 Standard.  That\n",
      "        is, NaN is not close to anything, even itself.  inf and -inf are\n",
      "        only close to themselves.\n",
      "    \n",
      "    isfinite(x, /)\n",
      "        Return True if x is neither an infinity nor a NaN, and False otherwise.\n",
      "    \n",
      "    isinf(x, /)\n",
      "        Return True if x is a positive or negative infinity, and False otherwise.\n",
      "    \n",
      "    isnan(x, /)\n",
      "        Return True if x is a NaN (not a number), and False otherwise.\n",
      "    \n",
      "    isqrt(n, /)\n",
      "        Return the integer part of the square root of the input.\n",
      "    \n",
      "    lcm(*integers)\n",
      "        Least Common Multiple.\n",
      "    \n",
      "    ldexp(x, i, /)\n",
      "        Return x * (2**i).\n",
      "        \n",
      "        This is essentially the inverse of frexp().\n",
      "    \n",
      "    lgamma(x, /)\n",
      "        Natural logarithm of absolute value of Gamma function at x.\n",
      "    \n",
      "    log(...)\n",
      "        log(x, [base=math.e])\n",
      "        Return the logarithm of x to the given base.\n",
      "        \n",
      "        If the base not specified, returns the natural logarithm (base e) of x.\n",
      "    \n",
      "    log10(x, /)\n",
      "        Return the base 10 logarithm of x.\n",
      "    \n",
      "    log1p(x, /)\n",
      "        Return the natural logarithm of 1+x (base e).\n",
      "        \n",
      "        The result is computed in a way which is accurate for x near zero.\n",
      "    \n",
      "    log2(x, /)\n",
      "        Return the base 2 logarithm of x.\n",
      "    \n",
      "    modf(x, /)\n",
      "        Return the fractional and integer parts of x.\n",
      "        \n",
      "        Both results carry the sign of x and are floats.\n",
      "    \n",
      "    nextafter(x, y, /)\n",
      "        Return the next floating-point value after x towards y.\n",
      "    \n",
      "    perm(n, k=None, /)\n",
      "        Number of ways to choose k items from n items without repetition and with order.\n",
      "        \n",
      "        Evaluates to n! / (n - k)! when k <= n and evaluates\n",
      "        to zero when k > n.\n",
      "        \n",
      "        If k is not specified or is None, then k defaults to n\n",
      "        and the function returns n!.\n",
      "        \n",
      "        Raises TypeError if either of the arguments are not integers.\n",
      "        Raises ValueError if either of the arguments are negative.\n",
      "    \n",
      "    pow(x, y, /)\n",
      "        Return x**y (x to the power of y).\n",
      "    \n",
      "    prod(iterable, /, *, start=1)\n",
      "        Calculate the product of all the elements in the input iterable.\n",
      "        \n",
      "        The default start value for the product is 1.\n",
      "        \n",
      "        When the iterable is empty, return the start value.  This function is\n",
      "        intended specifically for use with numeric values and may reject\n",
      "        non-numeric types.\n",
      "    \n",
      "    radians(x, /)\n",
      "        Convert angle x from degrees to radians.\n",
      "    \n",
      "    remainder(x, y, /)\n",
      "        Difference between x and the closest integer multiple of y.\n",
      "        \n",
      "        Return x - n*y where n*y is the closest integer multiple of y.\n",
      "        In the case where x is exactly halfway between two multiples of\n",
      "        y, the nearest even value of n is used. The result is always exact.\n",
      "    \n",
      "    sin(x, /)\n",
      "        Return the sine of x (measured in radians).\n",
      "    \n",
      "    sinh(x, /)\n",
      "        Return the hyperbolic sine of x.\n",
      "    \n",
      "    sqrt(x, /)\n",
      "        Return the square root of x.\n",
      "    \n",
      "    tan(x, /)\n",
      "        Return the tangent of x (measured in radians).\n",
      "    \n",
      "    tanh(x, /)\n",
      "        Return the hyperbolic tangent of x.\n",
      "    \n",
      "    trunc(x, /)\n",
      "        Truncates the Real x to the nearest Integral toward 0.\n",
      "        \n",
      "        Uses the __trunc__ magic method.\n",
      "    \n",
      "    ulp(x, /)\n",
      "        Return the value of the least significant bit of the float x.\n",
      "\n",
      "DATA\n",
      "    e = 2.718281828459045\n",
      "    inf = inf\n",
      "    nan = nan\n",
      "    pi = 3.141592653589793\n",
      "    tau = 6.283185307179586\n",
      "\n",
      "FILE\n",
      "    /opt/conda/envs/anaconda-panel-2023.05-py310/lib/python3.11/lib-dynload/math.cpython-311-x86_64-linux-gnu.so\n",
      "\n",
      "\n"
     ]
    }
   ],
   "source": [
    "help(math)"
   ]
  },
  {
   "cell_type": "code",
   "execution_count": 234,
   "id": "b1431715-4bbe-4141-82ee-a5ae09d64ef8",
   "metadata": {},
   "outputs": [],
   "source": [
    "value = 4.34"
   ]
  },
  {
   "cell_type": "code",
   "execution_count": 236,
   "id": "c58474fd-0f61-4089-af83-c36648b2cafe",
   "metadata": {},
   "outputs": [
    {
     "data": {
      "text/plain": [
       "4"
      ]
     },
     "execution_count": 236,
     "metadata": {},
     "output_type": "execute_result"
    }
   ],
   "source": [
    "math.floor(value)"
   ]
  },
  {
   "cell_type": "code",
   "execution_count": 238,
   "id": "d9ea37c8-f571-41b8-8d41-ea047368da5b",
   "metadata": {},
   "outputs": [
    {
     "data": {
      "text/plain": [
       "5"
      ]
     },
     "execution_count": 238,
     "metadata": {},
     "output_type": "execute_result"
    }
   ],
   "source": [
    "math.ceil(value)"
   ]
  },
  {
   "cell_type": "code",
   "execution_count": 248,
   "id": "972035c6-8065-4181-ac1a-6db0321cd904",
   "metadata": {},
   "outputs": [
    {
     "data": {
      "text/plain": [
       "4"
      ]
     },
     "execution_count": 248,
     "metadata": {},
     "output_type": "execute_result"
    }
   ],
   "source": [
    "round(4.34)"
   ]
  },
  {
   "cell_type": "code",
   "execution_count": 249,
   "id": "52860767-7d92-4bb7-b88b-d4ec0ce77c00",
   "metadata": {},
   "outputs": [
    {
     "data": {
      "text/plain": [
       "4"
      ]
     },
     "execution_count": 249,
     "metadata": {},
     "output_type": "execute_result"
    }
   ],
   "source": [
    "round(4.5)"
   ]
  },
  {
   "cell_type": "code",
   "execution_count": 251,
   "id": "54e0868f-c8dd-4385-8dff-ab8b695f8852",
   "metadata": {},
   "outputs": [
    {
     "data": {
      "text/plain": [
       "6"
      ]
     },
     "execution_count": 251,
     "metadata": {},
     "output_type": "execute_result"
    }
   ],
   "source": [
    "round(5.5)"
   ]
  },
  {
   "cell_type": "code",
   "execution_count": 255,
   "id": "36fcd937-d599-4581-8663-f8f3e732ae02",
   "metadata": {},
   "outputs": [
    {
     "data": {
      "text/plain": [
       "3.141592653589793"
      ]
     },
     "execution_count": 255,
     "metadata": {},
     "output_type": "execute_result"
    }
   ],
   "source": [
    "math.pi"
   ]
  },
  {
   "cell_type": "code",
   "execution_count": 257,
   "id": "0018740f-c54c-47b1-a61a-0e61529a57f4",
   "metadata": {},
   "outputs": [],
   "source": [
    "from math import pi"
   ]
  },
  {
   "cell_type": "code",
   "execution_count": 259,
   "id": "ef38ad5e-c791-4dfa-87ed-6b35fa39d102",
   "metadata": {},
   "outputs": [
    {
     "data": {
      "text/plain": [
       "3.141592653589793"
      ]
     },
     "execution_count": 259,
     "metadata": {},
     "output_type": "execute_result"
    }
   ],
   "source": [
    "pi"
   ]
  },
  {
   "cell_type": "code",
   "execution_count": 261,
   "id": "723ac014-e5f2-49ff-82fe-5fa99859ccd0",
   "metadata": {},
   "outputs": [
    {
     "data": {
      "text/plain": [
       "2.718281828459045"
      ]
     },
     "execution_count": 261,
     "metadata": {},
     "output_type": "execute_result"
    }
   ],
   "source": [
    "math.e"
   ]
  },
  {
   "cell_type": "code",
   "execution_count": 263,
   "id": "45538d43-3814-4a7c-8bc5-c0ed39fbc58b",
   "metadata": {},
   "outputs": [
    {
     "data": {
      "text/plain": [
       "inf"
      ]
     },
     "execution_count": 263,
     "metadata": {},
     "output_type": "execute_result"
    }
   ],
   "source": [
    "math.inf"
   ]
  },
  {
   "cell_type": "code",
   "execution_count": 265,
   "id": "12984a77-7a93-4fee-b2a0-e1bc1e6ec425",
   "metadata": {},
   "outputs": [
    {
     "data": {
      "text/plain": [
       "nan"
      ]
     },
     "execution_count": 265,
     "metadata": {},
     "output_type": "execute_result"
    }
   ],
   "source": [
    "math.nan"
   ]
  },
  {
   "cell_type": "code",
   "execution_count": 269,
   "id": "de5e7567-ba4d-4dbf-9c8b-479ad52bfd87",
   "metadata": {},
   "outputs": [
    {
     "data": {
      "text/plain": [
       "1.0"
      ]
     },
     "execution_count": 269,
     "metadata": {},
     "output_type": "execute_result"
    }
   ],
   "source": [
    "math.log(math.e)"
   ]
  },
  {
   "cell_type": "code",
   "execution_count": 271,
   "id": "67b36bc8-556c-4a0a-a0de-a5c74f4077be",
   "metadata": {},
   "outputs": [
    {
     "data": {
      "text/plain": [
       "2.0"
      ]
     },
     "execution_count": 271,
     "metadata": {},
     "output_type": "execute_result"
    }
   ],
   "source": [
    "math.log(100,10)"
   ]
  },
  {
   "cell_type": "code",
   "execution_count": 273,
   "id": "efe0c2a8-7741-4de7-8eaf-b801245e809b",
   "metadata": {},
   "outputs": [
    {
     "data": {
      "text/plain": [
       "-0.9880316240928618"
      ]
     },
     "execution_count": 273,
     "metadata": {},
     "output_type": "execute_result"
    }
   ],
   "source": [
    "math.sin(30)"
   ]
  },
  {
   "cell_type": "code",
   "execution_count": 275,
   "id": "4e499d88-0373-47b5-ade7-4003cacf4df8",
   "metadata": {},
   "outputs": [
    {
     "data": {
      "text/plain": [
       "90.0"
      ]
     },
     "execution_count": 275,
     "metadata": {},
     "output_type": "execute_result"
    }
   ],
   "source": [
    "math.degrees(pi/2)"
   ]
  },
  {
   "cell_type": "code",
   "execution_count": 277,
   "id": "2f0532de-12a1-4c1a-be73-e48a497980a1",
   "metadata": {},
   "outputs": [
    {
     "data": {
      "text/plain": [
       "1.7453292519943295"
      ]
     },
     "execution_count": 277,
     "metadata": {},
     "output_type": "execute_result"
    }
   ],
   "source": [
    "math.radians(100)"
   ]
  },
  {
   "cell_type": "code",
   "execution_count": 279,
   "id": "b0192633-e217-4c86-9b2b-6871d0c62efc",
   "metadata": {},
   "outputs": [],
   "source": [
    "import random"
   ]
  },
  {
   "cell_type": "code",
   "execution_count": 283,
   "id": "15dda70a-425a-448b-a21a-7b45c1a0ea69",
   "metadata": {},
   "outputs": [
    {
     "data": {
      "text/plain": [
       "8"
      ]
     },
     "execution_count": 283,
     "metadata": {},
     "output_type": "execute_result"
    }
   ],
   "source": [
    "random.randint(1,10)"
   ]
  },
  {
   "cell_type": "code",
   "execution_count": 303,
   "id": "668e59bb-dc07-45c6-a4dd-be81e2709905",
   "metadata": {},
   "outputs": [
    {
     "data": {
      "text/plain": [
       "81"
      ]
     },
     "execution_count": 303,
     "metadata": {},
     "output_type": "execute_result"
    }
   ],
   "source": [
    "random.seed(42)\n",
    "\n",
    "random.randint(0,100)"
   ]
  },
  {
   "cell_type": "code",
   "execution_count": 304,
   "id": "4aad1b8c-d0ef-4c6b-9f1d-3363d82377bb",
   "metadata": {},
   "outputs": [
    {
     "data": {
      "text/plain": [
       "14"
      ]
     },
     "execution_count": 304,
     "metadata": {},
     "output_type": "execute_result"
    }
   ],
   "source": [
    "random.randint(0,100)"
   ]
  },
  {
   "cell_type": "code",
   "execution_count": 305,
   "id": "333f7402-8b01-4ead-b5d5-8098b2ace589",
   "metadata": {},
   "outputs": [
    {
     "data": {
      "text/plain": [
       "3"
      ]
     },
     "execution_count": 305,
     "metadata": {},
     "output_type": "execute_result"
    }
   ],
   "source": [
    "random.randint(0,100)"
   ]
  },
  {
   "cell_type": "code",
   "execution_count": 313,
   "id": "df4095f4-6544-4d9e-be7b-21463df92fb3",
   "metadata": {},
   "outputs": [
    {
     "name": "stdout",
     "output_type": "stream",
     "text": [
      "81\n",
      "14\n",
      "3\n",
      "94\n",
      "35\n"
     ]
    }
   ],
   "source": [
    "random.seed(42)\n",
    "\n",
    "print(random.randint(0,100))\n",
    "print(random.randint(0,100))\n",
    "print(random.randint(0,100))\n",
    "print(random.randint(0,100))\n",
    "print(random.randint(0,100))\n"
   ]
  },
  {
   "cell_type": "code",
   "execution_count": 315,
   "id": "136896af-cbf3-4091-980d-e76e22345a16",
   "metadata": {},
   "outputs": [],
   "source": [
    "mylist = list(range(0,20))"
   ]
  },
  {
   "cell_type": "code",
   "execution_count": 316,
   "id": "15fc2af3-0a3f-4a9c-a29b-2bc96ef37423",
   "metadata": {},
   "outputs": [
    {
     "data": {
      "text/plain": [
       "[0, 1, 2, 3, 4, 5, 6, 7, 8, 9, 10, 11, 12, 13, 14, 15, 16, 17, 18, 19]"
      ]
     },
     "execution_count": 316,
     "metadata": {},
     "output_type": "execute_result"
    }
   ],
   "source": [
    "mylist"
   ]
  },
  {
   "cell_type": "code",
   "execution_count": 317,
   "id": "5fa31039-c9f4-48c0-9274-467718b12d93",
   "metadata": {},
   "outputs": [
    {
     "data": {
      "text/plain": [
       "7"
      ]
     },
     "execution_count": 317,
     "metadata": {},
     "output_type": "execute_result"
    }
   ],
   "source": [
    "random.choice(mylist)"
   ]
  },
  {
   "cell_type": "code",
   "execution_count": 321,
   "id": "47a57734-8ee8-4f8c-bc4b-aef38be056ff",
   "metadata": {},
   "outputs": [
    {
     "data": {
      "text/plain": [
       "[0, 1, 2, 3, 4, 5, 6, 7, 8, 9, 10, 11, 12, 13, 14, 15, 16, 17, 18, 19]"
      ]
     },
     "execution_count": 321,
     "metadata": {},
     "output_type": "execute_result"
    }
   ],
   "source": [
    "mylist"
   ]
  },
  {
   "cell_type": "code",
   "execution_count": 323,
   "id": "f13055b7-4f2b-48e3-adde-0239752d0de8",
   "metadata": {},
   "outputs": [],
   "source": [
    "#sample with replacement"
   ]
  },
  {
   "cell_type": "code",
   "execution_count": 325,
   "id": "ff979e58-5ce6-4800-9ca8-940c913c21cf",
   "metadata": {},
   "outputs": [
    {
     "data": {
      "text/plain": [
       "[4, 14, 13, 17, 1, 8, 0, 4, 10, 0]"
      ]
     },
     "execution_count": 325,
     "metadata": {},
     "output_type": "execute_result"
    }
   ],
   "source": [
    "random.choices(population=mylist, k=10)"
   ]
  },
  {
   "cell_type": "code",
   "execution_count": 327,
   "id": "562bd469-9243-44e8-9397-6b2ba022e6a0",
   "metadata": {},
   "outputs": [],
   "source": [
    "#sample without replacement"
   ]
  },
  {
   "cell_type": "code",
   "execution_count": 329,
   "id": "fbf493f6-a787-4d72-9ee7-deda77519cc8",
   "metadata": {},
   "outputs": [
    {
     "data": {
      "text/plain": [
       "[6, 17, 13, 7, 14, 9, 4, 12, 0, 2]"
      ]
     },
     "execution_count": 329,
     "metadata": {},
     "output_type": "execute_result"
    }
   ],
   "source": [
    "random.sample(population=mylist,k=10)"
   ]
  },
  {
   "cell_type": "code",
   "execution_count": 333,
   "id": "d4d0327f-864c-4094-9258-32a218059d21",
   "metadata": {},
   "outputs": [],
   "source": [
    "random.shuffle(mylist)"
   ]
  },
  {
   "cell_type": "code",
   "execution_count": 335,
   "id": "f990a21b-a6ac-4edc-aa76-2551aec00646",
   "metadata": {},
   "outputs": [
    {
     "data": {
      "text/plain": [
       "[9, 18, 7, 3, 0, 2, 16, 17, 19, 11, 15, 14, 1, 5, 12, 6, 4, 8, 10, 13]"
      ]
     },
     "execution_count": 335,
     "metadata": {},
     "output_type": "execute_result"
    }
   ],
   "source": [
    "mylist"
   ]
  },
  {
   "cell_type": "code",
   "execution_count": 337,
   "id": "7a8c150e-e9fc-47f7-8b41-7fcb0dd11cf5",
   "metadata": {},
   "outputs": [
    {
     "data": {
      "text/plain": [
       "97.31157639793706"
      ]
     },
     "execution_count": 337,
     "metadata": {},
     "output_type": "execute_result"
    }
   ],
   "source": [
    "random.uniform(a=0,b=100)"
   ]
  },
  {
   "cell_type": "code",
   "execution_count": 339,
   "id": "014c7506-4cd2-4407-8638-f5bbeea54f3f",
   "metadata": {},
   "outputs": [
    {
     "data": {
      "text/plain": [
       "-0.9158100463459947"
      ]
     },
     "execution_count": 339,
     "metadata": {},
     "output_type": "execute_result"
    }
   ],
   "source": [
    "random.gauss(mu=0,sigma=1)"
   ]
  },
  {
   "cell_type": "code",
   "execution_count": null,
   "id": "7e10c88a-8460-432e-8932-7e04d693809a",
   "metadata": {},
   "outputs": [],
   "source": []
  },
  {
   "cell_type": "code",
   "execution_count": null,
   "id": "65ef1c06-c621-4253-8499-913ccf2efae0",
   "metadata": {},
   "outputs": [],
   "source": []
  },
  {
   "cell_type": "code",
   "execution_count": null,
   "id": "9ad2396d-b584-463b-9141-cb3c27b71e9d",
   "metadata": {},
   "outputs": [],
   "source": []
  },
  {
   "cell_type": "code",
   "execution_count": null,
   "id": "516517ef-f727-46df-b664-c2527a63cad5",
   "metadata": {},
   "outputs": [],
   "source": []
  },
  {
   "cell_type": "code",
   "execution_count": null,
   "id": "69b50491-aade-4e7c-81e1-a7e9ad55a33a",
   "metadata": {},
   "outputs": [],
   "source": []
  },
  {
   "cell_type": "code",
   "execution_count": 358,
   "id": "fb3b3ab6-fdd5-44f8-b49b-d3d8c5cb26af",
   "metadata": {},
   "outputs": [
    {
     "ename": "TypeError",
     "evalue": "unsupported operand type(s) for +: 'int' and 'list'",
     "output_type": "error",
     "traceback": [
      "\u001b[0;31m---------------------------------------------------------------------------\u001b[0m",
      "\u001b[0;31mTypeError\u001b[0m                                 Traceback (most recent call last)",
      "Cell \u001b[0;32mIn[358], line 7\u001b[0m\n\u001b[1;32m      3\u001b[0m z \u001b[38;5;241m=\u001b[39m \u001b[38;5;241m3\u001b[39m\n\u001b[1;32m      5\u001b[0m result_one  \u001b[38;5;241m=\u001b[39m y \u001b[38;5;241m+\u001b[39m z\n\u001b[0;32m----> 7\u001b[0m result_two \u001b[38;5;241m=\u001b[39m y \u001b[38;5;241m+\u001b[39m x\n",
      "\u001b[0;31mTypeError\u001b[0m: unsupported operand type(s) for +: 'int' and 'list'"
     ]
    }
   ],
   "source": [
    "x = [1,2,3]\n",
    "y = 2\n",
    "z = 3\n",
    "\n",
    "result_one  = y + z\n",
    "\n",
    "result_two = y + x"
   ]
  },
  {
   "cell_type": "code",
   "execution_count": 359,
   "id": "45f9dbcf-b945-4f6c-b4ea-309c872454c3",
   "metadata": {},
   "outputs": [],
   "source": [
    "import pdb"
   ]
  },
  {
   "cell_type": "code",
   "execution_count": 364,
   "id": "03919dd7-25a6-410c-8d00-008da0b3e6a3",
   "metadata": {},
   "outputs": [
    {
     "name": "stdout",
     "output_type": "stream",
     "text": [
      "--Return--\n",
      "None\n",
      "> \u001b[0;32m/tmp/ipykernel_147/460120828.py\u001b[0m(6)\u001b[0;36m<module>\u001b[0;34m()\u001b[0m\n",
      "\u001b[0;32m      3 \u001b[0;31m\u001b[0mz\u001b[0m \u001b[0;34m=\u001b[0m \u001b[0;36m3\u001b[0m\u001b[0;34m\u001b[0m\u001b[0;34m\u001b[0m\u001b[0m\n",
      "\u001b[0m\u001b[0;32m      4 \u001b[0;31m\u001b[0;34m\u001b[0m\u001b[0m\n",
      "\u001b[0m\u001b[0;32m      5 \u001b[0;31m\u001b[0mresult_one\u001b[0m  \u001b[0;34m=\u001b[0m \u001b[0my\u001b[0m \u001b[0;34m+\u001b[0m \u001b[0mz\u001b[0m\u001b[0;34m\u001b[0m\u001b[0;34m\u001b[0m\u001b[0m\n",
      "\u001b[0m\u001b[0;32m----> 6 \u001b[0;31m\u001b[0mpdb\u001b[0m\u001b[0;34m.\u001b[0m\u001b[0mset_trace\u001b[0m\u001b[0;34m(\u001b[0m\u001b[0;34m)\u001b[0m\u001b[0;34m\u001b[0m\u001b[0;34m\u001b[0m\u001b[0m\n",
      "\u001b[0m\u001b[0;32m      7 \u001b[0;31m\u001b[0mresult_two\u001b[0m \u001b[0;34m=\u001b[0m \u001b[0my\u001b[0m \u001b[0;34m+\u001b[0m \u001b[0mx\u001b[0m\u001b[0;34m\u001b[0m\u001b[0;34m\u001b[0m\u001b[0m\n",
      "\u001b[0m\n"
     ]
    },
    {
     "name": "stdin",
     "output_type": "stream",
     "text": [
      "ipdb>  x\n"
     ]
    },
    {
     "name": "stdout",
     "output_type": "stream",
     "text": [
      "[1, 2, 3]\n"
     ]
    },
    {
     "name": "stdin",
     "output_type": "stream",
     "text": [
      "ipdb>  y\n"
     ]
    },
    {
     "name": "stdout",
     "output_type": "stream",
     "text": [
      "2\n"
     ]
    },
    {
     "name": "stdin",
     "output_type": "stream",
     "text": [
      "ipdb>  z\n"
     ]
    },
    {
     "name": "stdout",
     "output_type": "stream",
     "text": [
      "3\n"
     ]
    },
    {
     "name": "stdin",
     "output_type": "stream",
     "text": [
      "ipdb>  result_one\n"
     ]
    },
    {
     "name": "stdout",
     "output_type": "stream",
     "text": [
      "5\n"
     ]
    },
    {
     "name": "stdin",
     "output_type": "stream",
     "text": [
      "ipdb>  result_two\n"
     ]
    },
    {
     "name": "stdout",
     "output_type": "stream",
     "text": [
      "*** NameError: name 'result_two' is not defined\n"
     ]
    },
    {
     "name": "stdin",
     "output_type": "stream",
     "text": [
      "ipdb>  y + x\n"
     ]
    },
    {
     "name": "stdout",
     "output_type": "stream",
     "text": [
      "*** TypeError: unsupported operand type(s) for +: 'int' and 'list'\n"
     ]
    },
    {
     "name": "stdin",
     "output_type": "stream",
     "text": [
      "ipdb>  q\n"
     ]
    }
   ],
   "source": [
    "x = [1,2,3]\n",
    "y = 2\n",
    "z = 3\n",
    "\n",
    "result_one  = y + z\n",
    "pdb.set_trace()\n",
    "result_two = y + x"
   ]
  },
  {
   "cell_type": "code",
   "execution_count": null,
   "id": "e33cf2e6-7e48-4499-b454-0b5a5438acdd",
   "metadata": {},
   "outputs": [],
   "source": []
  },
  {
   "cell_type": "code",
   "execution_count": null,
   "id": "0e1d8b70-832a-48fa-a937-733387c781ca",
   "metadata": {},
   "outputs": [],
   "source": []
  },
  {
   "cell_type": "code",
   "execution_count": null,
   "id": "bddb45dd-3421-4918-96dc-ea1cbf153878",
   "metadata": {},
   "outputs": [],
   "source": []
  },
  {
   "cell_type": "code",
   "execution_count": null,
   "id": "279b1d8c-7d20-4759-bee5-6b621bd18544",
   "metadata": {},
   "outputs": [],
   "source": []
  },
  {
   "cell_type": "code",
   "execution_count": 372,
   "id": "e7aa5b67-a7b7-4c43-b5e0-0024b1458d75",
   "metadata": {},
   "outputs": [],
   "source": [
    "text = \"The agents phone number is 405-333-2342. Call soon!\""
   ]
  },
  {
   "cell_type": "code",
   "execution_count": 374,
   "id": "0ed1cdd6-d3ed-4a50-a1da-32ebe713f472",
   "metadata": {},
   "outputs": [
    {
     "data": {
      "text/plain": [
       "True"
      ]
     },
     "execution_count": 374,
     "metadata": {},
     "output_type": "execute_result"
    }
   ],
   "source": [
    "'phone' in text"
   ]
  },
  {
   "cell_type": "code",
   "execution_count": 376,
   "id": "05ad4424-e892-43f5-a76e-8295614971ce",
   "metadata": {},
   "outputs": [],
   "source": [
    "import re"
   ]
  },
  {
   "cell_type": "code",
   "execution_count": 378,
   "id": "8a41c144-7319-4af4-ab41-00c3ff16d6f6",
   "metadata": {},
   "outputs": [],
   "source": [
    "pattern = 'phone'"
   ]
  },
  {
   "cell_type": "code",
   "execution_count": 382,
   "id": "e1d2334d-7beb-48de-a913-ba2a2579925e",
   "metadata": {},
   "outputs": [
    {
     "data": {
      "text/plain": [
       "<re.Match object; span=(11, 16), match='phone'>"
      ]
     },
     "execution_count": 382,
     "metadata": {},
     "output_type": "execute_result"
    }
   ],
   "source": [
    "re.search(pattern,text)"
   ]
  },
  {
   "cell_type": "code",
   "execution_count": 384,
   "id": "26ca31a3-3d4e-4f87-902a-eb3ef944ee90",
   "metadata": {},
   "outputs": [],
   "source": [
    "pattern = 'NOT IN TEXT'"
   ]
  },
  {
   "cell_type": "code",
   "execution_count": 388,
   "id": "cb352598-059b-4ee3-8f76-3be83c8251bf",
   "metadata": {},
   "outputs": [],
   "source": [
    "re.search(pattern,text)"
   ]
  },
  {
   "cell_type": "code",
   "execution_count": 390,
   "id": "de241894-ea2e-4c4b-a60b-f42bb5be8a80",
   "metadata": {},
   "outputs": [],
   "source": [
    "pattern = 'phone' "
   ]
  },
  {
   "cell_type": "code",
   "execution_count": 392,
   "id": "5ee4d21f-3f9c-4ac0-a4f2-0e4c429132c2",
   "metadata": {},
   "outputs": [],
   "source": [
    "match = re.search(pattern, text)"
   ]
  },
  {
   "cell_type": "code",
   "execution_count": 394,
   "id": "1c374bc2-11df-47c4-9729-603197719f7b",
   "metadata": {},
   "outputs": [
    {
     "data": {
      "text/plain": [
       "(11, 16)"
      ]
     },
     "execution_count": 394,
     "metadata": {},
     "output_type": "execute_result"
    }
   ],
   "source": [
    "match.span()"
   ]
  },
  {
   "cell_type": "code",
   "execution_count": 396,
   "id": "e27cff99-3fb6-4528-9335-20837f704278",
   "metadata": {},
   "outputs": [
    {
     "data": {
      "text/plain": [
       "11"
      ]
     },
     "execution_count": 396,
     "metadata": {},
     "output_type": "execute_result"
    }
   ],
   "source": [
    "match.start()"
   ]
  },
  {
   "cell_type": "code",
   "execution_count": 398,
   "id": "80edb621-1d8e-42ab-a7b4-e48fe42b01ae",
   "metadata": {},
   "outputs": [
    {
     "data": {
      "text/plain": [
       "16"
      ]
     },
     "execution_count": 398,
     "metadata": {},
     "output_type": "execute_result"
    }
   ],
   "source": [
    "match.end()"
   ]
  },
  {
   "cell_type": "code",
   "execution_count": 400,
   "id": "43158ccd-9dfc-483d-81f2-f4043b7b8c44",
   "metadata": {},
   "outputs": [],
   "source": [
    "text = 'my phone once, my phone twice'"
   ]
  },
  {
   "cell_type": "code",
   "execution_count": 402,
   "id": "002ce098-10a7-4811-9ef9-9a8554b9bc36",
   "metadata": {},
   "outputs": [],
   "source": [
    "match = re.search('phone', text)"
   ]
  },
  {
   "cell_type": "code",
   "execution_count": 404,
   "id": "3ce4cebb-df7c-4cfe-9af9-72fd18c31951",
   "metadata": {},
   "outputs": [
    {
     "data": {
      "text/plain": [
       "<re.Match object; span=(3, 8), match='phone'>"
      ]
     },
     "execution_count": 404,
     "metadata": {},
     "output_type": "execute_result"
    }
   ],
   "source": [
    "match"
   ]
  },
  {
   "cell_type": "code",
   "execution_count": 406,
   "id": "524ba92b-a572-4d71-9ab2-f8351dd220e6",
   "metadata": {},
   "outputs": [],
   "source": [
    "matches = re.findall('phone', text)"
   ]
  },
  {
   "cell_type": "code",
   "execution_count": 408,
   "id": "1f5f4c4f-ce56-4c83-adda-57567deccadb",
   "metadata": {},
   "outputs": [
    {
     "data": {
      "text/plain": [
       "['phone', 'phone']"
      ]
     },
     "execution_count": 408,
     "metadata": {},
     "output_type": "execute_result"
    }
   ],
   "source": [
    "matches"
   ]
  },
  {
   "cell_type": "code",
   "execution_count": 410,
   "id": "e361e7e6-7b01-460b-892f-73c60ca89fb7",
   "metadata": {},
   "outputs": [
    {
     "data": {
      "text/plain": [
       "2"
      ]
     },
     "execution_count": 410,
     "metadata": {},
     "output_type": "execute_result"
    }
   ],
   "source": [
    "len(matches)"
   ]
  },
  {
   "cell_type": "code",
   "execution_count": 414,
   "id": "97d273a9-2779-4371-8050-c622d9bc6d04",
   "metadata": {},
   "outputs": [
    {
     "name": "stdout",
     "output_type": "stream",
     "text": [
      "(3, 8)\n",
      "(18, 23)\n"
     ]
    }
   ],
   "source": [
    "for match in re.finditer('phone', text):\n",
    "    print(match.span())"
   ]
  },
  {
   "cell_type": "code",
   "execution_count": 418,
   "id": "23a3348e-f9d1-4a9e-bc5c-dfee1441345a",
   "metadata": {},
   "outputs": [
    {
     "name": "stdout",
     "output_type": "stream",
     "text": [
      "phone\n",
      "phone\n"
     ]
    }
   ],
   "source": [
    "for match in re.finditer('phone', text):\n",
    "    print(match.group())"
   ]
  },
  {
   "cell_type": "code",
   "execution_count": 6,
   "id": "7ec7567c-2f0a-4d83-8892-f3aa4ac7a4b8",
   "metadata": {},
   "outputs": [],
   "source": [
    "import re"
   ]
  },
  {
   "cell_type": "code",
   "execution_count": 7,
   "id": "cfbeed1f-9f28-4b98-aaa4-538cc53029ca",
   "metadata": {},
   "outputs": [],
   "source": [
    "text = 'My phone number is 408-222-3213'"
   ]
  },
  {
   "cell_type": "code",
   "execution_count": 9,
   "id": "6fdcbf43-2ae1-42f8-80e4-450cc31f80ec",
   "metadata": {},
   "outputs": [],
   "source": [
    "phone = re.search('\\d\\d\\d-\\d\\d\\d-\\d\\d\\d\\d',text)"
   ]
  },
  {
   "cell_type": "code",
   "execution_count": 12,
   "id": "1323d620-dd58-44b4-ae36-929ed5b5b8d7",
   "metadata": {},
   "outputs": [
    {
     "data": {
      "text/plain": [
       "<re.Match object; span=(19, 31), match='408-222-3213'>"
      ]
     },
     "execution_count": 12,
     "metadata": {},
     "output_type": "execute_result"
    }
   ],
   "source": [
    "phone"
   ]
  },
  {
   "cell_type": "code",
   "execution_count": 14,
   "id": "1493da92-bf54-4162-8756-3bc61b2d7acf",
   "metadata": {},
   "outputs": [
    {
     "data": {
      "text/plain": [
       "'408-222-3213'"
      ]
     },
     "execution_count": 14,
     "metadata": {},
     "output_type": "execute_result"
    }
   ],
   "source": [
    "phone.group()"
   ]
  },
  {
   "cell_type": "code",
   "execution_count": 20,
   "id": "346ed013-ea12-49b4-95c0-9e28685634e5",
   "metadata": {},
   "outputs": [],
   "source": [
    "phone = re.search(r'\\d{3}-\\d{3}-\\d{4}',text)"
   ]
  },
  {
   "cell_type": "code",
   "execution_count": 21,
   "id": "2b9ec944-7f53-4458-93b4-342158a5b319",
   "metadata": {},
   "outputs": [
    {
     "data": {
      "text/plain": [
       "<re.Match object; span=(19, 31), match='408-222-3213'>"
      ]
     },
     "execution_count": 21,
     "metadata": {},
     "output_type": "execute_result"
    }
   ],
   "source": [
    "phone"
   ]
  },
  {
   "cell_type": "code",
   "execution_count": 25,
   "id": "d9676622-7f99-49ac-b3ed-e22aa91530d8",
   "metadata": {},
   "outputs": [],
   "source": [
    "phone_pattern = re.compile(r'(\\d{3})-(\\d{3})-(\\d{4})')"
   ]
  },
  {
   "cell_type": "code",
   "execution_count": 27,
   "id": "b94fc28a-e29c-4aa5-8a88-6ddc03ab338d",
   "metadata": {},
   "outputs": [],
   "source": [
    "results = re.search(phone_pattern,text)"
   ]
  },
  {
   "cell_type": "code",
   "execution_count": 29,
   "id": "2bda1448-5166-48c7-9b03-b8e7358a8e31",
   "metadata": {},
   "outputs": [
    {
     "data": {
      "text/plain": [
       "'408-222-3213'"
      ]
     },
     "execution_count": 29,
     "metadata": {},
     "output_type": "execute_result"
    }
   ],
   "source": [
    "results.group()"
   ]
  },
  {
   "cell_type": "code",
   "execution_count": 31,
   "id": "5a360df6-751e-41f8-8808-d24a6b83b6f4",
   "metadata": {},
   "outputs": [
    {
     "data": {
      "text/plain": [
       "'408'"
      ]
     },
     "execution_count": 31,
     "metadata": {},
     "output_type": "execute_result"
    }
   ],
   "source": [
    "results.group(1)"
   ]
  },
  {
   "cell_type": "code",
   "execution_count": 33,
   "id": "0194921f-f7ab-4f94-b198-32792d1bf55e",
   "metadata": {},
   "outputs": [
    {
     "data": {
      "text/plain": [
       "'222'"
      ]
     },
     "execution_count": 33,
     "metadata": {},
     "output_type": "execute_result"
    }
   ],
   "source": [
    "results.group(2)"
   ]
  },
  {
   "cell_type": "code",
   "execution_count": 35,
   "id": "9298dc03-1567-4ec1-bbd7-3ed4eadaf22e",
   "metadata": {},
   "outputs": [
    {
     "data": {
      "text/plain": [
       "'3213'"
      ]
     },
     "execution_count": 35,
     "metadata": {},
     "output_type": "execute_result"
    }
   ],
   "source": [
    "results.group(3)"
   ]
  },
  {
   "cell_type": "code",
   "execution_count": null,
   "id": "7a34e098-6d45-47a6-94e3-b2b43b6cb95f",
   "metadata": {},
   "outputs": [],
   "source": []
  },
  {
   "cell_type": "code",
   "execution_count": 43,
   "id": "229b0df1-e0cd-49a9-98b0-602b91f25448",
   "metadata": {},
   "outputs": [],
   "source": [
    "re.search(r'cat','The dog is here')"
   ]
  },
  {
   "cell_type": "code",
   "execution_count": 44,
   "id": "5db3aeb1-5907-4c03-a6c0-a5c47e8bcfcb",
   "metadata": {},
   "outputs": [
    {
     "data": {
      "text/plain": [
       "<re.Match object; span=(4, 7), match='dog'>"
      ]
     },
     "execution_count": 44,
     "metadata": {},
     "output_type": "execute_result"
    }
   ],
   "source": [
    "re.search(r'cat|dog','The dog is here')"
   ]
  },
  {
   "cell_type": "code",
   "execution_count": 47,
   "id": "05d2506a-1521-417d-8496-2ba61e951e24",
   "metadata": {},
   "outputs": [
    {
     "data": {
      "text/plain": [
       "['at', 'at', 'at']"
      ]
     },
     "execution_count": 47,
     "metadata": {},
     "output_type": "execute_result"
    }
   ],
   "source": [
    "re.findall(r'at', 'The cat in the hat sat there.')"
   ]
  },
  {
   "cell_type": "code",
   "execution_count": 49,
   "id": "70427638-891c-4514-89bd-1769c27d88e0",
   "metadata": {},
   "outputs": [
    {
     "data": {
      "text/plain": [
       "['cat', 'hat', 'sat']"
      ]
     },
     "execution_count": 49,
     "metadata": {},
     "output_type": "execute_result"
    }
   ],
   "source": [
    "re.findall(r'.at', 'The cat in the hat sat there.')"
   ]
  },
  {
   "cell_type": "code",
   "execution_count": 51,
   "id": "d9ceb028-9eb0-4390-b3f5-938c42266612",
   "metadata": {},
   "outputs": [
    {
     "data": {
      "text/plain": [
       "['e cat', 'e hat', 'splat']"
      ]
     },
     "execution_count": 51,
     "metadata": {},
     "output_type": "execute_result"
    }
   ],
   "source": [
    "re.findall(r'...at', 'The cat in the hat went splat.')"
   ]
  },
  {
   "cell_type": "code",
   "execution_count": 55,
   "id": "8237ae8f-7d27-491d-b867-e56bd83be326",
   "metadata": {},
   "outputs": [
    {
     "data": {
      "text/plain": [
       "['1']"
      ]
     },
     "execution_count": 55,
     "metadata": {},
     "output_type": "execute_result"
    }
   ],
   "source": [
    "re.findall(r'^\\d', '1 is a number')"
   ]
  },
  {
   "cell_type": "code",
   "execution_count": 57,
   "id": "21627df3-e0a2-4f8d-9a82-8c296fb0ebde",
   "metadata": {},
   "outputs": [
    {
     "data": {
      "text/plain": [
       "[]"
      ]
     },
     "execution_count": 57,
     "metadata": {},
     "output_type": "execute_result"
    }
   ],
   "source": [
    "re.findall(r'^\\d', 'the 1 is a number')"
   ]
  },
  {
   "cell_type": "code",
   "execution_count": 59,
   "id": "46dc0112-d83c-460e-a47a-d9e6d5cca752",
   "metadata": {},
   "outputs": [
    {
     "data": {
      "text/plain": [
       "[]"
      ]
     },
     "execution_count": 59,
     "metadata": {},
     "output_type": "execute_result"
    }
   ],
   "source": [
    "re.findall(r'\\d$', 'the 1 is a number')"
   ]
  },
  {
   "cell_type": "code",
   "execution_count": 61,
   "id": "1c0b76f0-6578-486a-8f28-167fcc599ecc",
   "metadata": {},
   "outputs": [
    {
     "data": {
      "text/plain": [
       "['2']"
      ]
     },
     "execution_count": 61,
     "metadata": {},
     "output_type": "execute_result"
    }
   ],
   "source": [
    "re.findall(r'\\d$', 'the number is 2')"
   ]
  },
  {
   "cell_type": "code",
   "execution_count": null,
   "id": "cf108e24-eca3-4b75-94b2-049a842ff6aa",
   "metadata": {},
   "outputs": [],
   "source": []
  },
  {
   "cell_type": "code",
   "execution_count": null,
   "id": "3549acff-7e81-4d4e-98bb-82d04af46236",
   "metadata": {},
   "outputs": [],
   "source": []
  },
  {
   "cell_type": "code",
   "execution_count": 65,
   "id": "afa4b87c-3002-4a26-81a3-3dac56726c73",
   "metadata": {},
   "outputs": [],
   "source": [
    "phrase = \"there are 3 numbers 34 inside 5 this sentence\""
   ]
  },
  {
   "cell_type": "code",
   "execution_count": 71,
   "id": "166e6c58-b677-4b4a-80a6-79802d43645c",
   "metadata": {},
   "outputs": [],
   "source": [
    "pattern = r'[^\\d]+'"
   ]
  },
  {
   "cell_type": "code",
   "execution_count": 72,
   "id": "775d690b-4231-43bc-be0b-aa46bc4c5aa5",
   "metadata": {},
   "outputs": [
    {
     "data": {
      "text/plain": [
       "['there are ', ' numbers ', ' inside ', ' this sentence']"
      ]
     },
     "execution_count": 72,
     "metadata": {},
     "output_type": "execute_result"
    }
   ],
   "source": [
    "re.findall(pattern,phrase)"
   ]
  },
  {
   "cell_type": "code",
   "execution_count": 76,
   "id": "cbc40b84-679b-410f-a57a-d887ae6864a0",
   "metadata": {},
   "outputs": [],
   "source": [
    "test_phrase = 'This is a string! But it has punctuations. How can we remove it?'"
   ]
  },
  {
   "cell_type": "code",
   "execution_count": 82,
   "id": "8d89531b-3e9a-45c2-89fb-bd04d1def8f0",
   "metadata": {},
   "outputs": [],
   "source": [
    "clean = re.findall('[^!.? ]+', test_phrase)"
   ]
  },
  {
   "cell_type": "code",
   "execution_count": 86,
   "id": "348509a4-d6b1-4c6f-81a0-379dab564cdf",
   "metadata": {},
   "outputs": [
    {
     "data": {
      "text/plain": [
       "'This is a string But it has punctuations How can we remove it'"
      ]
     },
     "execution_count": 86,
     "metadata": {},
     "output_type": "execute_result"
    }
   ],
   "source": [
    "' '.join(clean)"
   ]
  },
  {
   "cell_type": "code",
   "execution_count": 88,
   "id": "7ca80e51-f1cc-46c6-8e0c-3e1fee220b0f",
   "metadata": {},
   "outputs": [],
   "source": [
    "test = \"only find the hypen-words in this sentence. But you dont have how long-ish they are\""
   ]
  },
  {
   "cell_type": "code",
   "execution_count": 92,
   "id": "c35f9576-9c6d-4b15-8e93-0e289d658c7c",
   "metadata": {},
   "outputs": [
    {
     "data": {
      "text/plain": [
       "['only',\n",
       " 'find',\n",
       " 'the',\n",
       " 'hypen',\n",
       " 'words',\n",
       " 'in',\n",
       " 'this',\n",
       " 'sentence',\n",
       " 'But',\n",
       " 'you',\n",
       " 'dont',\n",
       " 'have',\n",
       " 'how',\n",
       " 'long',\n",
       " 'ish',\n",
       " 'they',\n",
       " 'are']"
      ]
     },
     "execution_count": 92,
     "metadata": {},
     "output_type": "execute_result"
    }
   ],
   "source": [
    "pattern = r'[\\w]+'\n",
    "re.findall(pattern,test)"
   ]
  },
  {
   "cell_type": "code",
   "execution_count": 94,
   "id": "1cd45b76-460d-4586-ae99-d838c3460382",
   "metadata": {},
   "outputs": [
    {
     "data": {
      "text/plain": [
       "['hypen-words', 'long-ish']"
      ]
     },
     "execution_count": 94,
     "metadata": {},
     "output_type": "execute_result"
    }
   ],
   "source": [
    "pattern = r'[\\w]+-[\\w]+'\n",
    "re.findall(pattern,test)"
   ]
  },
  {
   "cell_type": "code",
   "execution_count": 98,
   "id": "7186750e-7a5f-4847-b1a7-efa2bb089bff",
   "metadata": {},
   "outputs": [],
   "source": [
    "text = \"would you like some catfish?\"\n",
    "texttwo = \"would you like to take a catnap?\"\n",
    "textthree = \"have you seen this caterpillar?\""
   ]
  },
  {
   "cell_type": "code",
   "execution_count": 100,
   "id": "5095b3fb-1645-48fe-b77e-98acafc41cbd",
   "metadata": {},
   "outputs": [
    {
     "data": {
      "text/plain": [
       "<re.Match object; span=(19, 30), match='caterpillar'>"
      ]
     },
     "execution_count": 100,
     "metadata": {},
     "output_type": "execute_result"
    }
   ],
   "source": [
    "re.search(r\"cat(fish|nap|erpillar)\",textthree)"
   ]
  },
  {
   "cell_type": "code",
   "execution_count": 102,
   "id": "e4dbe061-e476-4072-bddb-adea69a24b2e",
   "metadata": {},
   "outputs": [
    {
     "data": {
      "text/plain": [
       "<re.Match object; span=(25, 31), match='catnap'>"
      ]
     },
     "execution_count": 102,
     "metadata": {},
     "output_type": "execute_result"
    }
   ],
   "source": [
    "re.search(r\"cat(fish|nap|erpillar)\",texttwo)"
   ]
  },
  {
   "cell_type": "code",
   "execution_count": 104,
   "id": "51e89ed1-d4ef-4ad7-a57a-d6b956ed50b6",
   "metadata": {},
   "outputs": [
    {
     "data": {
      "text/plain": [
       "<re.Match object; span=(20, 27), match='catfish'>"
      ]
     },
     "execution_count": 104,
     "metadata": {},
     "output_type": "execute_result"
    }
   ],
   "source": [
    "re.search(r\"cat(fish|nap|erpillar)\",text)"
   ]
  },
  {
   "cell_type": "code",
   "execution_count": null,
   "id": "975d91ac-53b6-405d-b2db-fcb6fe4a333d",
   "metadata": {},
   "outputs": [],
   "source": []
  },
  {
   "cell_type": "code",
   "execution_count": null,
   "id": "cb16153a-34a7-45e4-8012-adec6602c69d",
   "metadata": {},
   "outputs": [],
   "source": []
  },
  {
   "cell_type": "code",
   "execution_count": null,
   "id": "a9f89964-1296-49cd-85de-431228d5518f",
   "metadata": {},
   "outputs": [],
   "source": []
  },
  {
   "cell_type": "code",
   "execution_count": 123,
   "id": "724398c9-c87f-4acd-8da1-ee097d6034b0",
   "metadata": {},
   "outputs": [],
   "source": [
    "def func_one(n):\n",
    "    return[str(num) for num in range(n)]"
   ]
  },
  {
   "cell_type": "code",
   "execution_count": 127,
   "id": "0166db0c-5cb2-4a4c-a19b-8dd19fbeb755",
   "metadata": {},
   "outputs": [
    {
     "data": {
      "text/plain": [
       "['0', '1', '2', '3', '4', '5', '6', '7', '8', '9']"
      ]
     },
     "execution_count": 127,
     "metadata": {},
     "output_type": "execute_result"
    }
   ],
   "source": [
    "func_one(10)"
   ]
  },
  {
   "cell_type": "code",
   "execution_count": 129,
   "id": "eb1cc78d-a68a-446f-925b-3b95c89394e1",
   "metadata": {},
   "outputs": [],
   "source": [
    "def func_two(n):\n",
    "    return list(map(str,range(n)))"
   ]
  },
  {
   "cell_type": "code",
   "execution_count": 133,
   "id": "5b99ecaf-482a-46d0-8e7f-721daaadb662",
   "metadata": {},
   "outputs": [
    {
     "data": {
      "text/plain": [
       "['0', '1', '2', '3', '4', '5', '6', '7', '8', '9']"
      ]
     },
     "execution_count": 133,
     "metadata": {},
     "output_type": "execute_result"
    }
   ],
   "source": [
    "func_two(10)"
   ]
  },
  {
   "cell_type": "code",
   "execution_count": 135,
   "id": "b8dc9cea-09f6-4be4-9cc3-31d45a1b15b8",
   "metadata": {},
   "outputs": [],
   "source": [
    "import time"
   ]
  },
  {
   "cell_type": "code",
   "execution_count": 150,
   "id": "0625b0d3-8345-46eb-bfcf-c6279b170613",
   "metadata": {},
   "outputs": [
    {
     "name": "stdout",
     "output_type": "stream",
     "text": [
      "5.4836273193359375e-05\n"
     ]
    }
   ],
   "source": [
    "#current time before\n",
    "start_time = time.time()\n",
    "#run code\n",
    "result = func_one(100)\n",
    "#current time after running code\n",
    "end_time = time.time()\n",
    "#elapsed time\n",
    "elapsed_time = end_time - start_time\n",
    "\n",
    "print(elapsed_time)"
   ]
  },
  {
   "cell_type": "code",
   "execution_count": 152,
   "id": "a59be5e4-dbac-4b83-b7ba-34020ae926c4",
   "metadata": {},
   "outputs": [
    {
     "name": "stdout",
     "output_type": "stream",
     "text": [
      "6.365776062011719e-05\n"
     ]
    }
   ],
   "source": [
    "#current time before\n",
    "start_time = time.time()\n",
    "#run code\n",
    "result = func_two(100)\n",
    "#current time after running code\n",
    "end_time = time.time()\n",
    "#elapsed time\n",
    "elapsed_time = end_time - start_time\n",
    "\n",
    "print(elapsed_time)"
   ]
  },
  {
   "cell_type": "code",
   "execution_count": null,
   "id": "2ba944e2-d85f-4ec5-92bb-d1d22fc479cf",
   "metadata": {},
   "outputs": [],
   "source": []
  },
  {
   "cell_type": "code",
   "execution_count": null,
   "id": "f10a9473-c8de-4ec5-983b-a87c774c8d63",
   "metadata": {},
   "outputs": [],
   "source": []
  },
  {
   "cell_type": "code",
   "execution_count": 171,
   "id": "7b6f0e44-2f75-424b-a0f0-461b21b42cdd",
   "metadata": {},
   "outputs": [],
   "source": [
    "import timeit"
   ]
  },
  {
   "cell_type": "code",
   "execution_count": 172,
   "id": "3bb2ae10-3b0d-495b-8d0b-23f1d27aaa6d",
   "metadata": {},
   "outputs": [],
   "source": [
    "stmt = '''\n",
    "func_one(100)\n",
    "'''"
   ]
  },
  {
   "cell_type": "code",
   "execution_count": 173,
   "id": "e7c7bfce-b4bd-48e3-ba44-530fc784ecbf",
   "metadata": {},
   "outputs": [],
   "source": [
    "setup = '''\n",
    "def func_one(n):\n",
    "    return[str(num) for num in range(n)]\n",
    "'''"
   ]
  },
  {
   "cell_type": "code",
   "execution_count": 174,
   "id": "495d2644-e7d9-4f78-8e16-5f66c93dc189",
   "metadata": {},
   "outputs": [
    {
     "data": {
      "text/plain": [
       "1.6656400540086906"
      ]
     },
     "execution_count": 174,
     "metadata": {},
     "output_type": "execute_result"
    }
   ],
   "source": [
    "timeit.timeit(stmt,setup,number=100000)"
   ]
  },
  {
   "cell_type": "code",
   "execution_count": 176,
   "id": "4fd804e4-41c5-439d-87a0-a538e1d73d5e",
   "metadata": {},
   "outputs": [],
   "source": [
    "stmt2 = '''\n",
    "func_two(100)\n",
    "'''"
   ]
  },
  {
   "cell_type": "code",
   "execution_count": 177,
   "id": "9559b740-d6c3-49c9-a9d7-353b30e84ff8",
   "metadata": {},
   "outputs": [],
   "source": [
    "setup = '''\n",
    "def func_two(n):\n",
    "    return list(map(str,range(n)))\n",
    "'''"
   ]
  },
  {
   "cell_type": "code",
   "execution_count": 179,
   "id": "7a3e9175-a220-4e92-ae2f-72f413798ddc",
   "metadata": {},
   "outputs": [
    {
     "data": {
      "text/plain": [
       "1.4364383639767766"
      ]
     },
     "execution_count": 179,
     "metadata": {},
     "output_type": "execute_result"
    }
   ],
   "source": [
    "timeit.timeit(stmt2,setup,number=100000)"
   ]
  },
  {
   "cell_type": "code",
   "execution_count": 185,
   "id": "8bcc4d15-2077-4264-92a1-c53e1449a97f",
   "metadata": {},
   "outputs": [
    {
     "name": "stdout",
     "output_type": "stream",
     "text": [
      "1.12 ms ± 113 µs per loop (mean ± std. dev. of 7 runs, 1,000 loops each)\n"
     ]
    }
   ],
   "source": [
    "%%timeit\n",
    "func_one(10000)"
   ]
  },
  {
   "cell_type": "code",
   "execution_count": 187,
   "id": "85716cdf-1936-4353-8b09-a60ed5d7bc76",
   "metadata": {},
   "outputs": [
    {
     "name": "stdout",
     "output_type": "stream",
     "text": [
      "1.29 ms ± 196 µs per loop (mean ± std. dev. of 7 runs, 1,000 loops each)\n"
     ]
    }
   ],
   "source": [
    "%%timeit\n",
    "func_two(10000)"
   ]
  },
  {
   "cell_type": "code",
   "execution_count": null,
   "id": "2c7b27e9-4d1e-493e-8f0a-2774e2e69b87",
   "metadata": {},
   "outputs": [],
   "source": []
  },
  {
   "cell_type": "code",
   "execution_count": null,
   "id": "33d130d9-1a36-4b3f-a317-6afae25fd57b",
   "metadata": {},
   "outputs": [],
   "source": []
  },
  {
   "cell_type": "code",
   "execution_count": 193,
   "id": "b06ac101-5905-411e-bbf9-3aba287c0c6a",
   "metadata": {},
   "outputs": [],
   "source": [
    "f = open('fileone.txt','w+')\n",
    "f.write('one file')\n",
    "f.close()\n",
    "\n",
    "f = open('filetwo.txt','w+')\n",
    "f.write('two file')\n",
    "f.close()"
   ]
  },
  {
   "cell_type": "code",
   "execution_count": 5,
   "id": "0b98362b-1f56-465e-bc1e-fab9e28cf4b0",
   "metadata": {},
   "outputs": [],
   "source": [
    "import zipfile"
   ]
  },
  {
   "cell_type": "code",
   "execution_count": 6,
   "id": "1cf669cf-9a89-474c-83d8-f2a3e619f16b",
   "metadata": {},
   "outputs": [],
   "source": [
    "com_file = zipfile.ZipFile('comp_file.zip','w')"
   ]
  },
  {
   "cell_type": "code",
   "execution_count": 8,
   "id": "43e87081-dfbe-4910-bf6d-048df82eb544",
   "metadata": {},
   "outputs": [],
   "source": [
    "com_file.write('fileone.txt',compress_type=zipfile.ZIP_DEFLATED)"
   ]
  },
  {
   "cell_type": "code",
   "execution_count": 9,
   "id": "5389f9b6-b7eb-41e2-8686-7c9203c71ef1",
   "metadata": {},
   "outputs": [],
   "source": [
    "com_file.write('filetwo.txt',compress_type=zipfile.ZIP_DEFLATED)"
   ]
  },
  {
   "cell_type": "code",
   "execution_count": 11,
   "id": "7a337b59-d0ef-4f31-952c-34795dcc2ce7",
   "metadata": {},
   "outputs": [],
   "source": [
    "com_file.close()"
   ]
  },
  {
   "cell_type": "code",
   "execution_count": null,
   "id": "34da7186-89bf-4f22-8860-73a7d6144753",
   "metadata": {},
   "outputs": [],
   "source": []
  },
  {
   "cell_type": "code",
   "execution_count": 16,
   "id": "a5569ae4-abab-44aa-9d51-638504fe1d5c",
   "metadata": {},
   "outputs": [],
   "source": [
    "zip_obj = zipfile.ZipFile('comp_file.zip','r')"
   ]
  },
  {
   "cell_type": "code",
   "execution_count": 18,
   "id": "fd957834-840b-429f-88e0-9b460015df00",
   "metadata": {},
   "outputs": [],
   "source": [
    "zip_obj.extractall('extracted_content')"
   ]
  },
  {
   "cell_type": "code",
   "execution_count": 20,
   "id": "2ba9551b-4f69-4a3c-a6ae-7a63f3dc46b2",
   "metadata": {},
   "outputs": [
    {
     "name": "stdout",
     "output_type": "stream",
     "text": [
      "total 8\n",
      "-rw-rw-r-- 1 e9b0d056-ec96-4b16-80e9-3651ad51973d registered_users 8 Oct 17 07:23 fileone.txt\n",
      "-rw-rw-r-- 1 e9b0d056-ec96-4b16-80e9-3651ad51973d registered_users 8 Oct 17 07:23 filetwo.txt\n"
     ]
    }
   ],
   "source": [
    "ls -l extracted_content"
   ]
  },
  {
   "cell_type": "code",
   "execution_count": 24,
   "id": "dc740b2f-d42b-4804-b701-8bba7873cfd4",
   "metadata": {},
   "outputs": [],
   "source": [
    "import shutil"
   ]
  },
  {
   "cell_type": "code",
   "execution_count": 28,
   "id": "d8d56ac2-0b2e-4d74-8b11-a076137f9f6f",
   "metadata": {},
   "outputs": [],
   "source": [
    "dir_to_zip = 'extracted_content'"
   ]
  },
  {
   "cell_type": "code",
   "execution_count": 30,
   "id": "83c92682-9277-4972-bdc3-c6e4e12ecac8",
   "metadata": {},
   "outputs": [],
   "source": [
    "output_filename = 'example'"
   ]
  },
  {
   "cell_type": "code",
   "execution_count": 32,
   "id": "cf137d98-ed58-4453-9dd0-a8cdc1bb1392",
   "metadata": {},
   "outputs": [
    {
     "data": {
      "text/plain": [
       "'/home/e9b0d056-ec96-4b16-80e9-3651ad51973d/example.zip'"
      ]
     },
     "execution_count": 32,
     "metadata": {},
     "output_type": "execute_result"
    }
   ],
   "source": [
    "shutil.make_archive(output_filename,'zip',dir_to_zip)"
   ]
  },
  {
   "cell_type": "code",
   "execution_count": 34,
   "id": "bfe962a5-b8a4-435b-8508-2f1e7b082fed",
   "metadata": {},
   "outputs": [],
   "source": [
    "shutil.unpack_archive('example.zip','final_unzip','zip')"
   ]
  },
  {
   "cell_type": "code",
   "execution_count": null,
   "id": "b9123d0d-38fd-4c08-be84-a6e366b732e3",
   "metadata": {},
   "outputs": [],
   "source": []
  },
  {
   "cell_type": "code",
   "execution_count": null,
   "id": "8af2b12d-4b41-4a65-afde-a87fc2d99a4e",
   "metadata": {},
   "outputs": [],
   "source": []
  },
  {
   "cell_type": "code",
   "execution_count": null,
   "id": "4cf543d7-a77f-4571-8702-8d498bd15db8",
   "metadata": {},
   "outputs": [],
   "source": []
  },
  {
   "cell_type": "code",
   "execution_count": null,
   "id": "6d98412f-4e69-447c-81f2-41e1b2d3c3f2",
   "metadata": {},
   "outputs": [],
   "source": []
  },
  {
   "cell_type": "code",
   "execution_count": null,
   "id": "a3c0ad28-016a-47a7-8031-4ee39a6d59ad",
   "metadata": {},
   "outputs": [],
   "source": []
  },
  {
   "cell_type": "code",
   "execution_count": null,
   "id": "4fcf9634-17a1-466b-b814-1326c0f1415f",
   "metadata": {},
   "outputs": [],
   "source": []
  },
  {
   "cell_type": "code",
   "execution_count": 42,
   "id": "6b521075-5dce-4bf2-b54a-e5043f4760eb",
   "metadata": {},
   "outputs": [],
   "source": [
    "import shutil"
   ]
  },
  {
   "cell_type": "code",
   "execution_count": 46,
   "id": "b80aadf1-6cbe-414d-acb6-edff63d64684",
   "metadata": {},
   "outputs": [],
   "source": [
    "shutil.unpack_archive('unzip_me_for_instructions.zip', '' ,'zip')"
   ]
  },
  {
   "cell_type": "code",
   "execution_count": 50,
   "id": "876426a9-f43e-46fe-9cb2-a4140e6f3f53",
   "metadata": {},
   "outputs": [
    {
     "name": "stdout",
     "output_type": "stream",
     "text": [
      "Good work on unzipping the file!\n",
      "You should now see 5 folders, each with a lot of random .txt files.\n",
      "Within one of these text files is a telephone number formated ###-###-#### \n",
      "Use the Python os module and regular expressions to iterate through each file, open it, and search for a telephone number.\n",
      "Good luck!\n"
     ]
    }
   ],
   "source": [
    "with open('extracted_content/Instructions.txt') as f:\n",
    "    content = f.read()\n",
    "    print(content)"
   ]
  },
  {
   "cell_type": "code",
   "execution_count": 52,
   "id": "e18efd4b-a1f2-4ed2-ad85-821f54c49e4b",
   "metadata": {},
   "outputs": [],
   "source": [
    "import re"
   ]
  },
  {
   "cell_type": "code",
   "execution_count": 54,
   "id": "a43435ad-bc43-4d0f-8cbe-c031a68db748",
   "metadata": {},
   "outputs": [],
   "source": [
    "pattern = r'\\d{3}-\\d{3}-\\d{4}'"
   ]
  },
  {
   "cell_type": "code",
   "execution_count": 60,
   "id": "7b2542fe-5437-4503-9dfd-7551dcdb0c6e",
   "metadata": {},
   "outputs": [],
   "source": [
    "test_string = 'here is a phone number 123-123-1234'"
   ]
  },
  {
   "cell_type": "code",
   "execution_count": 62,
   "id": "1b20acfb-65c7-4859-b32e-295998c52b86",
   "metadata": {},
   "outputs": [
    {
     "data": {
      "text/plain": [
       "['123-123-1234']"
      ]
     },
     "execution_count": 62,
     "metadata": {},
     "output_type": "execute_result"
    }
   ],
   "source": [
    "re.findall(pattern,test_string)"
   ]
  },
  {
   "cell_type": "code",
   "execution_count": 104,
   "id": "8fd4d4f5-ae2d-43e5-a1b3-319773be37df",
   "metadata": {},
   "outputs": [],
   "source": [
    "def search(file,pattern= r'\\d{3}-\\d{3}-\\d{4}'):\n",
    "    f = open(file,'r')\n",
    "    text = f.read()\n",
    "    if re.search(pattern,text):\n",
    "        return re.search(pattern,text)\n",
    "    else:\n",
    "        return ''"
   ]
  },
  {
   "cell_type": "code",
   "execution_count": 105,
   "id": "f3c375f3-4c9b-4a0c-9453-96e7e9b3dccb",
   "metadata": {},
   "outputs": [],
   "source": [
    "import os"
   ]
  },
  {
   "cell_type": "code",
   "execution_count": 106,
   "id": "71a7044f-bdfe-41a9-a955-75f5fe3cbe8c",
   "metadata": {},
   "outputs": [],
   "source": [
    "results = []"
   ]
  },
  {
   "cell_type": "code",
   "execution_count": 110,
   "id": "0a48fe49-b294-4541-bb54-0953f7d1131b",
   "metadata": {},
   "outputs": [],
   "source": [
    "for folder, sub_folders, files in os.walk('extracted_content'):\n",
    "    for f in files:\n",
    "        full_path = folder + \"/\" + f\n",
    "        \n",
    "        results.append(search(full_path))"
   ]
  },
  {
   "cell_type": "code",
   "execution_count": 111,
   "id": "f89fe457-8101-4c50-a479-886cfb8e435d",
   "metadata": {},
   "outputs": [
    {
     "data": {
      "text/plain": [
       "['',\n",
       " '',\n",
       " '',\n",
       " '',\n",
       " '',\n",
       " '',\n",
       " '',\n",
       " '',\n",
       " '',\n",
       " '',\n",
       " '',\n",
       " '',\n",
       " '',\n",
       " '',\n",
       " '',\n",
       " '',\n",
       " '',\n",
       " '',\n",
       " '',\n",
       " '',\n",
       " '',\n",
       " '',\n",
       " '',\n",
       " '',\n",
       " '',\n",
       " '',\n",
       " '',\n",
       " '',\n",
       " '',\n",
       " '',\n",
       " '',\n",
       " '',\n",
       " '',\n",
       " '',\n",
       " '',\n",
       " '',\n",
       " '',\n",
       " '',\n",
       " '',\n",
       " '',\n",
       " '',\n",
       " '',\n",
       " '',\n",
       " '',\n",
       " '',\n",
       " '',\n",
       " '',\n",
       " '',\n",
       " '',\n",
       " '',\n",
       " '',\n",
       " '',\n",
       " '',\n",
       " '',\n",
       " '',\n",
       " '',\n",
       " '',\n",
       " '',\n",
       " '',\n",
       " '',\n",
       " '',\n",
       " '',\n",
       " '',\n",
       " '',\n",
       " '',\n",
       " '',\n",
       " '',\n",
       " '',\n",
       " '',\n",
       " '',\n",
       " '',\n",
       " '',\n",
       " '',\n",
       " '',\n",
       " '',\n",
       " '',\n",
       " '',\n",
       " <re.Match object; span=(1062, 1074), match='719-266-2837'>,\n",
       " '',\n",
       " '',\n",
       " '',\n",
       " '',\n",
       " '',\n",
       " '',\n",
       " '',\n",
       " '',\n",
       " '',\n",
       " '',\n",
       " '',\n",
       " '',\n",
       " '',\n",
       " '',\n",
       " '',\n",
       " '',\n",
       " '',\n",
       " '',\n",
       " '',\n",
       " '',\n",
       " '',\n",
       " '',\n",
       " '',\n",
       " '',\n",
       " '',\n",
       " '',\n",
       " '',\n",
       " '',\n",
       " '',\n",
       " '',\n",
       " '',\n",
       " '',\n",
       " '',\n",
       " '',\n",
       " '',\n",
       " '',\n",
       " '',\n",
       " '',\n",
       " '',\n",
       " '',\n",
       " '',\n",
       " '',\n",
       " '',\n",
       " '',\n",
       " '']"
      ]
     },
     "execution_count": 111,
     "metadata": {},
     "output_type": "execute_result"
    }
   ],
   "source": [
    "results"
   ]
  },
  {
   "cell_type": "code",
   "execution_count": 115,
   "id": "452a7de1-e1af-4f83-b11d-a481d95c0dd0",
   "metadata": {},
   "outputs": [
    {
     "name": "stdout",
     "output_type": "stream",
     "text": [
      "719-266-2837\n"
     ]
    }
   ],
   "source": [
    "for r in results:\n",
    "    if r != '':\n",
    "        print(r.group())"
   ]
  },
  {
   "cell_type": "code",
   "execution_count": null,
   "id": "ce11832c-88a8-45e8-ac21-54c359851342",
   "metadata": {},
   "outputs": [],
   "source": []
  }
 ],
 "metadata": {
  "kernelspec": {
   "display_name": "anaconda-panel-2023.05-py310",
   "language": "python",
   "name": "conda-env-anaconda-panel-2023.05-py310-py"
  },
  "language_info": {
   "codemirror_mode": {
    "name": "ipython",
    "version": 3
   },
   "file_extension": ".py",
   "mimetype": "text/x-python",
   "name": "python",
   "nbconvert_exporter": "python",
   "pygments_lexer": "ipython3",
   "version": "3.11.4"
  }
 },
 "nbformat": 4,
 "nbformat_minor": 5
}
