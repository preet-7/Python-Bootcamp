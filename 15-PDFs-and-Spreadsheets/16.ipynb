{
 "cells": [
  {
   "cell_type": "raw",
   "id": "dcf14825-7c29-4e17-b97a-af7490325abd",
   "metadata": {},
   "source": [
    "CSV"
   ]
  },
  {
   "cell_type": "code",
   "execution_count": 4,
   "id": "89e443ed-c481-45c5-9e2b-ab83a0c98951",
   "metadata": {},
   "outputs": [],
   "source": [
    "import csv"
   ]
  },
  {
   "cell_type": "code",
   "execution_count": 16,
   "id": "525e712d-9efa-4859-a86d-2796065680ce",
   "metadata": {},
   "outputs": [],
   "source": [
    "data = open('example.csv',encoding='utf-8')"
   ]
  },
  {
   "cell_type": "code",
   "execution_count": 17,
   "id": "90bad2d2-fb3a-49d8-a4f3-6b2f20133fe4",
   "metadata": {},
   "outputs": [],
   "source": [
    "csv_data = csv.reader(data)"
   ]
  },
  {
   "cell_type": "code",
   "execution_count": 18,
   "id": "9e188878-1fc4-480f-8edd-78cc186dbc46",
   "metadata": {},
   "outputs": [],
   "source": [
    "data_lines = list(csv_data)"
   ]
  },
  {
   "cell_type": "code",
   "execution_count": 34,
   "id": "4f503d2a-1d39-4ebc-93dd-798b833c5cb3",
   "metadata": {},
   "outputs": [],
   "source": [
    "#data_lines"
   ]
  },
  {
   "cell_type": "code",
   "execution_count": 26,
   "id": "a15cb8c8-e712-4d9b-b2ad-c6327e8a531c",
   "metadata": {},
   "outputs": [
    {
     "data": {
      "text/plain": [
       "['id', 'first_name', 'last_name', 'email', 'gender', 'ip_address', 'city']"
      ]
     },
     "execution_count": 26,
     "metadata": {},
     "output_type": "execute_result"
    }
   ],
   "source": [
    "data_lines[0]"
   ]
  },
  {
   "cell_type": "code",
   "execution_count": 28,
   "id": "7f3379f2-d4ea-4fc7-b6bc-75f9cd453838",
   "metadata": {},
   "outputs": [
    {
     "data": {
      "text/plain": [
       "1001"
      ]
     },
     "execution_count": 28,
     "metadata": {},
     "output_type": "execute_result"
    }
   ],
   "source": [
    "len(data_lines)"
   ]
  },
  {
   "cell_type": "code",
   "execution_count": 30,
   "id": "dddc29b9-1422-45ac-b4f0-df7fac289ad1",
   "metadata": {},
   "outputs": [
    {
     "name": "stdout",
     "output_type": "stream",
     "text": [
      "['id', 'first_name', 'last_name', 'email', 'gender', 'ip_address', 'city']\n",
      "['1', 'Joseph', 'Zaniolini', 'jzaniolini0@simplemachines.org', 'Male', '163.168.68.132', 'Pedro Leopoldo']\n",
      "['2', 'Freida', 'Drillingcourt', 'fdrillingcourt1@umich.edu', 'Female', '97.212.102.79', 'Buri']\n",
      "['3', 'Nanni', 'Herity', 'nherity2@statcounter.com', 'Female', '145.151.178.98', 'Claver']\n",
      "['4', 'Orazio', 'Frayling', 'ofrayling3@economist.com', 'Male', '25.199.143.143', 'Kungur']\n"
     ]
    }
   ],
   "source": [
    "for line in data_lines[:5]:\n",
    "    print(line)"
   ]
  },
  {
   "cell_type": "code",
   "execution_count": 32,
   "id": "7f3f1fb8-f234-4082-b5d4-bf6a583f1646",
   "metadata": {},
   "outputs": [
    {
     "data": {
      "text/plain": [
       "['10',\n",
       " 'Hyatt',\n",
       " 'Gasquoine',\n",
       " 'hgasquoine9@google.ru',\n",
       " 'Male',\n",
       " '221.155.106.39',\n",
       " 'Złoty Stok']"
      ]
     },
     "execution_count": 32,
     "metadata": {},
     "output_type": "execute_result"
    }
   ],
   "source": [
    "data_lines[10]"
   ]
  },
  {
   "cell_type": "code",
   "execution_count": 36,
   "id": "b7270fa6-8ebf-465f-9b41-756a6ce52517",
   "metadata": {},
   "outputs": [
    {
     "data": {
      "text/plain": [
       "'hgasquoine9@google.ru'"
      ]
     },
     "execution_count": 36,
     "metadata": {},
     "output_type": "execute_result"
    }
   ],
   "source": [
    "data_lines[10][3]"
   ]
  },
  {
   "cell_type": "code",
   "execution_count": 42,
   "id": "ca446256-91a2-4176-be86-5426ae429c69",
   "metadata": {},
   "outputs": [],
   "source": [
    "all_emails = []\n",
    "\n",
    "for line in data_lines[1:]:\n",
    "    all_emails.append(line[3])\n",
    "    "
   ]
  },
  {
   "cell_type": "code",
   "execution_count": 46,
   "id": "e8207bbf-ca7e-469d-bb2e-0939656b41ab",
   "metadata": {},
   "outputs": [],
   "source": [
    "#all_emails"
   ]
  },
  {
   "cell_type": "code",
   "execution_count": 50,
   "id": "11836c5a-c143-430c-91f7-c63006e772dd",
   "metadata": {},
   "outputs": [],
   "source": [
    "full_names = []\n",
    "\n",
    "for line in data_lines[1:]:\n",
    "    full_names.append(line[1]+' '+line[2])"
   ]
  },
  {
   "cell_type": "code",
   "execution_count": 54,
   "id": "baf1ba33-e066-484d-b56d-ba7166380a2d",
   "metadata": {},
   "outputs": [],
   "source": [
    "#full_names"
   ]
  },
  {
   "cell_type": "code",
   "execution_count": 56,
   "id": "58d52d4c-71b4-4b36-a0f7-d2cb8c63a5d2",
   "metadata": {},
   "outputs": [],
   "source": [
    "file_to_output = open('to_save_file.csv',mode='w',newline='')"
   ]
  },
  {
   "cell_type": "code",
   "execution_count": 60,
   "id": "015f4013-ebf5-48db-a318-817c32163608",
   "metadata": {},
   "outputs": [],
   "source": [
    "csv_writer = csv.writer(file_to_output,delimiter=',')"
   ]
  },
  {
   "cell_type": "code",
   "execution_count": 64,
   "id": "bf15d6fd-7dbd-41d7-aa51-dafe0412aa6d",
   "metadata": {},
   "outputs": [],
   "source": [
    "csv_writer.writerows([['1','2','3'],['4','5','6']])"
   ]
  },
  {
   "cell_type": "code",
   "execution_count": 66,
   "id": "6886779f-e6cb-426d-b3da-106a7ab43f76",
   "metadata": {},
   "outputs": [],
   "source": [
    "csv_writer.writerows(['a','b','c'])"
   ]
  },
  {
   "cell_type": "code",
   "execution_count": 68,
   "id": "9c5490a4-ebdf-48a8-8279-f1b56f18e3de",
   "metadata": {},
   "outputs": [],
   "source": [
    "file_to_output.close()"
   ]
  },
  {
   "cell_type": "code",
   "execution_count": 71,
   "id": "cc4a91c0-4679-4851-bf39-68abb39bbedc",
   "metadata": {},
   "outputs": [],
   "source": [
    "f = open('to_save_file.csv',mode='a',newline='')"
   ]
  },
  {
   "cell_type": "code",
   "execution_count": 75,
   "id": "7356e366-40d1-4dff-832a-02279306d707",
   "metadata": {},
   "outputs": [],
   "source": [
    "csv_writer = csv.writer(f)"
   ]
  },
  {
   "cell_type": "code",
   "execution_count": 77,
   "id": "6f6ea76b-26b7-4ded-bae3-0fd24ee75227",
   "metadata": {},
   "outputs": [],
   "source": [
    "csv_writer.writerows(['1','2','3'])"
   ]
  },
  {
   "cell_type": "code",
   "execution_count": 81,
   "id": "a318f0df-1f03-45fd-8303-9018529e2c80",
   "metadata": {},
   "outputs": [],
   "source": [
    "f.close()"
   ]
  },
  {
   "cell_type": "code",
   "execution_count": null,
   "id": "db411a59-e870-4772-b91c-3da393f6dd0b",
   "metadata": {},
   "outputs": [],
   "source": []
  },
  {
   "cell_type": "code",
   "execution_count": null,
   "id": "8487cab8-d64c-40ae-aa6f-06d232149406",
   "metadata": {},
   "outputs": [],
   "source": []
  },
  {
   "cell_type": "code",
   "execution_count": null,
   "id": "18db8b6c-ff9a-459f-81b4-9d43c6e12b68",
   "metadata": {},
   "outputs": [],
   "source": []
  },
  {
   "cell_type": "code",
   "execution_count": null,
   "id": "0f050341-6514-4932-9929-7715ec71bf20",
   "metadata": {},
   "outputs": [],
   "source": []
  },
  {
   "cell_type": "code",
   "execution_count": 8,
   "id": "f3c9f3c7-7172-400e-92ea-cfcd48480fd4",
   "metadata": {},
   "outputs": [
    {
     "name": "stdout",
     "output_type": "stream",
     "text": [
      "Defaulting to user installation because normal site-packages is not writeable\n",
      "Looking in links: /usr/share/pip-wheels\n",
      "Collecting PyPDF2\n",
      "  Downloading pypdf2-3.0.1-py3-none-any.whl (232 kB)\n",
      "\u001b[2K     \u001b[38;5;70m━━━━━━━━━━━━━━━━━━━━━━━━━━━━━━━━━━━━━━━\u001b[0m \u001b[32m232.6/232.6 kB\u001b[0m \u001b[31m3.5 MB/s\u001b[0m eta \u001b[36m0:00:00\u001b[0m9 MB/s\u001b[0m eta \u001b[36m0:00:01\u001b[0m\n",
      "\u001b[?25hInstalling collected packages: PyPDF2\n",
      "Successfully installed PyPDF2-3.0.1\n",
      "Note: you may need to restart the kernel to use updated packages.\n"
     ]
    }
   ],
   "source": [
    "pip install PyPDF2"
   ]
  },
  {
   "cell_type": "code",
   "execution_count": 1,
   "id": "f5ebf9ad-59c3-4e1a-a227-2e9e1094f21a",
   "metadata": {},
   "outputs": [],
   "source": [
    "import PyPDF2"
   ]
  },
  {
   "cell_type": "code",
   "execution_count": 5,
   "id": "bbbdeeb2-ff80-464d-ae90-82cd71cd6856",
   "metadata": {},
   "outputs": [],
   "source": [
    "f = open('Working_Business_Proposal.pdf','rb')"
   ]
  },
  {
   "cell_type": "code",
   "execution_count": 9,
   "id": "530d8fbc-40dc-4f81-8a21-61baebd092e9",
   "metadata": {},
   "outputs": [],
   "source": [
    "pdf_reader = PyPDF2.PdfReader(f)"
   ]
  },
  {
   "cell_type": "code",
   "execution_count": 13,
   "id": "5c4e4234-e26b-46b3-8f22-e3b0cc821b4d",
   "metadata": {},
   "outputs": [
    {
     "data": {
      "text/plain": [
       "5"
      ]
     },
     "execution_count": 13,
     "metadata": {},
     "output_type": "execute_result"
    }
   ],
   "source": [
    "len(pdf_reader.pages)"
   ]
  },
  {
   "cell_type": "code",
   "execution_count": 17,
   "id": "69d0dcb8-1b2d-418e-970d-cb35e113a16d",
   "metadata": {},
   "outputs": [],
   "source": [
    "page_one = pdf_reader.pages[0]"
   ]
  },
  {
   "cell_type": "code",
   "execution_count": 27,
   "id": "e2dde648-6523-4701-bc88-ea242f2e1c1e",
   "metadata": {},
   "outputs": [],
   "source": [
    "page_one_text = page_one.extract_text()"
   ]
  },
  {
   "cell_type": "code",
   "execution_count": 29,
   "id": "ac1ea9e2-f205-4a7e-8d37-c77ab3688cda",
   "metadata": {},
   "outputs": [
    {
     "data": {
      "text/plain": [
       "'Business Proposal The Revolution is Coming Leverage agile frameworks to provide a robust synopsis for high level overviews. Iterative approaches to corporate strategy foster collaborative thinking to further the overall value proposition. Organically grow the holistic world view of disruptive innovation via workplace diversity and empowerment. Bring to the table win-win survival strategies to ensure proactive domination. At the end of the day, going forward, a new normal that has evolved from generation X is on the runway heading towards a streamlined cloud solution. User generated content in real-time will have multiple touchpoints for offshoring. Capitalize on low hanging fruit to identify a ballpark value added activity to beta test. Override the digital divide with additional clickthroughs from DevOps. Nanotechnology immersion along the information highway will close the loop on focusing solely on the bottom line. Podcasting operational change management inside of workﬂows to establish a framework. Taking seamless key performance indicators ofﬂine to maximise the long tail. Keeping your eye on the ball while performing a deep dive on the start-up mentality to derive convergence on cross-platform integration. Collaboratively administrate empowered markets via plug-and-play networks. Dynamically procrastinate B2C users after installed base beneﬁts. Dramatically visualize customer directed convergence without revolutionary ROI. Efﬁciently unleash cross-media information without cross-media value. Quickly maximize timely deliverables for real-time schemas. Dramatically maintain clicks-and-mortar solutions without functional solutions. BUSINESS PROPOSAL!1'"
      ]
     },
     "execution_count": 29,
     "metadata": {},
     "output_type": "execute_result"
    }
   ],
   "source": [
    "page_one_text"
   ]
  },
  {
   "cell_type": "code",
   "execution_count": 31,
   "id": "2326d254-160d-48b1-8e46-6403c8b8096c",
   "metadata": {},
   "outputs": [],
   "source": [
    "f.close()"
   ]
  },
  {
   "cell_type": "code",
   "execution_count": 33,
   "id": "548c1314-0151-42c1-bbf2-4579ca546607",
   "metadata": {},
   "outputs": [],
   "source": [
    "f = open('Working_Business_Proposal.pdf','rb')\n",
    "pdf_reader = PyPDF2.PdfReader(f)"
   ]
  },
  {
   "cell_type": "code",
   "execution_count": 41,
   "id": "4d4deff5-d759-49af-976a-9095caf43ea8",
   "metadata": {},
   "outputs": [],
   "source": [
    "first_page = pdf_reader.pages[0]"
   ]
  },
  {
   "cell_type": "code",
   "execution_count": 47,
   "id": "164677da-c073-4c73-ad2c-bb72c91aa6e0",
   "metadata": {},
   "outputs": [],
   "source": [
    "pdf_writer = PyPDF2.PdfWriter()"
   ]
  },
  {
   "cell_type": "code",
   "execution_count": 51,
   "id": "13c56e2d-0255-4b3a-a4dc-f4a27018ec2b",
   "metadata": {},
   "outputs": [
    {
     "data": {
      "text/plain": [
       "{'/Type': '/Page',\n",
       " '/Resources': {'/ProcSet': ['/PDF', '/Text'],\n",
       "  '/ColorSpace': {'/Cs1': ['/ICCBased',\n",
       "    IndirectObject(7, 0, 139698263727056)]},\n",
       "  '/Font': {'/TT2': {'/Type': '/Font',\n",
       "    '/Subtype': '/TrueType',\n",
       "    '/BaseFont': '/URTVHR+Helvetica-Light',\n",
       "    '/FontDescriptor': {'/Type': '/FontDescriptor',\n",
       "     '/FontName': '/URTVHR+Helvetica-Light',\n",
       "     '/Flags': 32,\n",
       "     '/FontBBox': [-453, -355, 1345, 1206],\n",
       "     '/ItalicAngle': 0,\n",
       "     '/Ascent': 770,\n",
       "     '/Descent': -230,\n",
       "     '/CapHeight': 718,\n",
       "     '/StemV': 68,\n",
       "     '/XHeight': 524,\n",
       "     '/StemH': 58,\n",
       "     '/AvgWidth': 600,\n",
       "     '/MaxWidth': 1445,\n",
       "     '/FontFile2': {'/Length1': 13268, '/Filter': '/FlateDecode'}},\n",
       "    '/Encoding': '/MacRomanEncoding',\n",
       "    '/FirstChar': 32,\n",
       "    '/LastChar': 223,\n",
       "    '/Widths': [278,\n",
       "     0,\n",
       "     278,\n",
       "     0,\n",
       "     0,\n",
       "     0,\n",
       "     0,\n",
       "     0,\n",
       "     0,\n",
       "     0,\n",
       "     0,\n",
       "     0,\n",
       "     278,\n",
       "     333,\n",
       "     278,\n",
       "     278,\n",
       "     556,\n",
       "     0,\n",
       "     556,\n",
       "     0,\n",
       "     556,\n",
       "     0,\n",
       "     0,\n",
       "     556,\n",
       "     0,\n",
       "     0,\n",
       "     0,\n",
       "     0,\n",
       "     0,\n",
       "     0,\n",
       "     0,\n",
       "     0,\n",
       "     0,\n",
       "     667,\n",
       "     667,\n",
       "     722,\n",
       "     722,\n",
       "     611,\n",
       "     0,\n",
       "     778,\n",
       "     722,\n",
       "     278,\n",
       "     0,\n",
       "     667,\n",
       "     556,\n",
       "     0,\n",
       "     722,\n",
       "     778,\n",
       "     611,\n",
       "     778,\n",
       "     667,\n",
       "     611,\n",
       "     556,\n",
       "     722,\n",
       "     0,\n",
       "     0,\n",
       "     611,\n",
       "     0,\n",
       "     0,\n",
       "     0,\n",
       "     0,\n",
       "     0,\n",
       "     0,\n",
       "     0,\n",
       "     0,\n",
       "     556,\n",
       "     611,\n",
       "     556,\n",
       "     611,\n",
       "     556,\n",
       "     278,\n",
       "     611,\n",
       "     556,\n",
       "     222,\n",
       "     222,\n",
       "     500,\n",
       "     222,\n",
       "     833,\n",
       "     556,\n",
       "     556,\n",
       "     611,\n",
       "     611,\n",
       "     333,\n",
       "     500,\n",
       "     278,\n",
       "     556,\n",
       "     500,\n",
       "     722,\n",
       "     500,\n",
       "     500,\n",
       "     500,\n",
       "     0,\n",
       "     0,\n",
       "     0,\n",
       "     0,\n",
       "     0,\n",
       "     0,\n",
       "     0,\n",
       "     0,\n",
       "     0,\n",
       "     0,\n",
       "     0,\n",
       "     0,\n",
       "     0,\n",
       "     0,\n",
       "     0,\n",
       "     0,\n",
       "     0,\n",
       "     0,\n",
       "     0,\n",
       "     0,\n",
       "     0,\n",
       "     0,\n",
       "     0,\n",
       "     0,\n",
       "     0,\n",
       "     0,\n",
       "     0,\n",
       "     0,\n",
       "     0,\n",
       "     0,\n",
       "     0,\n",
       "     0,\n",
       "     0,\n",
       "     0,\n",
       "     0,\n",
       "     0,\n",
       "     0,\n",
       "     0,\n",
       "     0,\n",
       "     0,\n",
       "     0,\n",
       "     0,\n",
       "     0,\n",
       "     0,\n",
       "     0,\n",
       "     0,\n",
       "     0,\n",
       "     0,\n",
       "     0,\n",
       "     0,\n",
       "     0,\n",
       "     0,\n",
       "     0,\n",
       "     0,\n",
       "     0,\n",
       "     0,\n",
       "     0,\n",
       "     0,\n",
       "     0,\n",
       "     0,\n",
       "     0,\n",
       "     0,\n",
       "     0,\n",
       "     0,\n",
       "     0,\n",
       "     0,\n",
       "     0,\n",
       "     0,\n",
       "     0,\n",
       "     0,\n",
       "     0,\n",
       "     0,\n",
       "     0,\n",
       "     0,\n",
       "     0,\n",
       "     0,\n",
       "     0,\n",
       "     0,\n",
       "     0,\n",
       "     0,\n",
       "     0,\n",
       "     0,\n",
       "     0,\n",
       "     0,\n",
       "     0,\n",
       "     0,\n",
       "     0,\n",
       "     0,\n",
       "     0,\n",
       "     0,\n",
       "     0,\n",
       "     0,\n",
       "     0,\n",
       "     0,\n",
       "     0,\n",
       "     0,\n",
       "     0,\n",
       "     0,\n",
       "     0,\n",
       "     500,\n",
       "     500]},\n",
       "   '/TT1': {'/Type': '/Font',\n",
       "    '/Subtype': '/TrueType',\n",
       "    '/BaseFont': '/SLRTDM+Baskerville',\n",
       "    '/FontDescriptor': {'/Type': '/FontDescriptor',\n",
       "     '/FontName': '/SLRTDM+Baskerville',\n",
       "     '/Flags': 32,\n",
       "     '/FontBBox': [-506, -344, 1765, 961],\n",
       "     '/ItalicAngle': 0,\n",
       "     '/Ascent': 898,\n",
       "     '/Descent': -246,\n",
       "     '/CapHeight': 669,\n",
       "     '/StemV': 96,\n",
       "     '/XHeight': 400,\n",
       "     '/StemH': 22,\n",
       "     '/AvgWidth': 579,\n",
       "     '/MaxWidth': 1791,\n",
       "     '/FontFile2': {'/Length1': 5016, '/Filter': '/FlateDecode'}},\n",
       "    '/Encoding': '/MacRomanEncoding',\n",
       "    '/FirstChar': 32,\n",
       "    '/LastChar': 118,\n",
       "    '/Widths': [250,\n",
       "     0,\n",
       "     0,\n",
       "     0,\n",
       "     0,\n",
       "     0,\n",
       "     0,\n",
       "     0,\n",
       "     0,\n",
       "     0,\n",
       "     0,\n",
       "     0,\n",
       "     0,\n",
       "     0,\n",
       "     0,\n",
       "     0,\n",
       "     0,\n",
       "     500,\n",
       "     500,\n",
       "     500,\n",
       "     500,\n",
       "     500,\n",
       "     0,\n",
       "     0,\n",
       "     0,\n",
       "     0,\n",
       "     0,\n",
       "     0,\n",
       "     0,\n",
       "     0,\n",
       "     0,\n",
       "     0,\n",
       "     0,\n",
       "     677,\n",
       "     615,\n",
       "     719,\n",
       "     0,\n",
       "     625,\n",
       "     0,\n",
       "     0,\n",
       "     0,\n",
       "     354,\n",
       "     0,\n",
       "     0,\n",
       "     604,\n",
       "     0,\n",
       "     750,\n",
       "     823,\n",
       "     563,\n",
       "     0,\n",
       "     729,\n",
       "     542,\n",
       "     698,\n",
       "     771,\n",
       "     0,\n",
       "     0,\n",
       "     0,\n",
       "     0,\n",
       "     0,\n",
       "     0,\n",
       "     0,\n",
       "     0,\n",
       "     0,\n",
       "     0,\n",
       "     0,\n",
       "     469,\n",
       "     0,\n",
       "     0,\n",
       "     0,\n",
       "     438,\n",
       "     0,\n",
       "     469,\n",
       "     531,\n",
       "     250,\n",
       "     0,\n",
       "     0,\n",
       "     240,\n",
       "     802,\n",
       "     531,\n",
       "     500,\n",
       "     521,\n",
       "     0,\n",
       "     365,\n",
       "     333,\n",
       "     292,\n",
       "     521,\n",
       "     458]},\n",
       "   '/TT3': {'/Type': '/Font',\n",
       "    '/Subtype': '/TrueType',\n",
       "    '/BaseFont': '/VJMLYK+Baskerville',\n",
       "    '/FontDescriptor': {'/Type': '/FontDescriptor',\n",
       "     '/FontName': '/VJMLYK+Baskerville',\n",
       "     '/Flags': 4,\n",
       "     '/FontBBox': [-506, -344, 1765, 961],\n",
       "     '/ItalicAngle': 0,\n",
       "     '/Ascent': 898,\n",
       "     '/Descent': -246,\n",
       "     '/CapHeight': 669,\n",
       "     '/StemV': 96,\n",
       "     '/XHeight': 400,\n",
       "     '/StemH': 22,\n",
       "     '/AvgWidth': 579,\n",
       "     '/MaxWidth': 1791,\n",
       "     '/FontFile2': {'/Length1': 508, '/Filter': '/FlateDecode'}},\n",
       "    '/ToUnicode': {'/Filter': '/FlateDecode'},\n",
       "    '/FirstChar': 33,\n",
       "    '/LastChar': 33,\n",
       "    '/Widths': [0]}}},\n",
       " '/Contents': {'/Filter': '/FlateDecode'},\n",
       " '/MediaBox': [0, 0, 612, 792],\n",
       " '/Parent': {'/Type': '/Pages',\n",
       "  '/Count': 1,\n",
       "  '/Kids': [IndirectObject(4, 0, 139698263727056)]}}"
      ]
     },
     "execution_count": 51,
     "metadata": {},
     "output_type": "execute_result"
    }
   ],
   "source": [
    "pdf_writer.add_page(first_page)"
   ]
  },
  {
   "cell_type": "code",
   "execution_count": 53,
   "id": "c228a813-8f27-44bb-a763-4a0ace941831",
   "metadata": {},
   "outputs": [],
   "source": [
    "pdf_output = open('Some_BrandNew_Doc.pdf','wb')"
   ]
  },
  {
   "cell_type": "code",
   "execution_count": 55,
   "id": "12fab406-3196-4158-acb5-620d817e5ad5",
   "metadata": {},
   "outputs": [
    {
     "data": {
      "text/plain": [
       "(False, <_io.BufferedWriter name='Some_BrandNew_Doc.pdf'>)"
      ]
     },
     "execution_count": 55,
     "metadata": {},
     "output_type": "execute_result"
    }
   ],
   "source": [
    "pdf_writer.write(pdf_output)"
   ]
  },
  {
   "cell_type": "code",
   "execution_count": 57,
   "id": "e85758f7-18a8-4c60-b100-f3a140f686e4",
   "metadata": {},
   "outputs": [],
   "source": [
    "f.close()"
   ]
  },
  {
   "cell_type": "code",
   "execution_count": 60,
   "id": "aa9445c5-3f87-4eca-87ab-4b35441cf7f3",
   "metadata": {},
   "outputs": [],
   "source": [
    "pdf_output.close()"
   ]
  },
  {
   "cell_type": "code",
   "execution_count": 72,
   "id": "d1f41458-f04e-4f50-8aae-2f0d8804f9ff",
   "metadata": {},
   "outputs": [],
   "source": [
    "f = open('Working_Business_Proposal.pdf','rb')\n",
    "\n",
    "pdf_text = []\n",
    "\n",
    "pdf_reader = PyPDF2.PdfReader(f)\n",
    "\n",
    "for num in range(len(pdf_reader.pages)):\n",
    "    page = pdf_reader.pages[num]\n",
    "    pdf_text.append(page.extract_text())"
   ]
  },
  {
   "cell_type": "code",
   "execution_count": 76,
   "id": "5a0beccd-1c7a-4978-bf61-4d399117cd3b",
   "metadata": {},
   "outputs": [
    {
     "data": {
      "text/plain": [
       "'Completely synergize resource taxing relationships via premier niche markets. Professionally cultivate one-to-one customer service with robust ideas. Dynamically innovate resource-leveling customer service for state of the art customer service. Objectively innovate empowered manufactured products whereas parallel platforms. Holisticly predominate extensible testing procedures for reliable supply chains. Dramatically engage top-line web services vis-a-vis cutting-edge deliverables. Proactively envisioned multimedia based expertise and cross-media growth strategies. Seamlessly visualize quality intellectual capital without superior collaboration and idea-sharing. Holistically pontiﬁcate installed base portals after maintainable products. Phosﬂuorescently engage worldwide methodologies with web-enabled technology. Interactively coordinate proactive e-commerce via process-centric \"outside the box\" thinking. Completely pursue scalable customer service through sustainable potentialities. Collaboratively administrate turnkey channels whereas virtual e-tailers. Objectively seize scalable metrics whereas proactive e-services. Seamlessly empower fully researched growth strategies and interoperable internal or \"organic\" sources. Credibly innovate granular internal or \"organic\" sources whereas high standards in web-readiness. Energistically scale future-proof core competencies vis-a-vis impactful experiences. Dramatically synthesize integrated schemas with optimal networks. Interactively procrastinate high-payoff content without backward-compatible data. Quickly cultivate optimal processes and tactical architectures. Completely iterate covalent strategic theme areas via accurate e-markets. Globally incubate standards compliant channels before scalable beneﬁts. Quickly disseminate superior deliverables whereas web-enabled BUSINESS PROPOSAL!2'"
      ]
     },
     "execution_count": 76,
     "metadata": {},
     "output_type": "execute_result"
    }
   ],
   "source": [
    "pdf_text[1]"
   ]
  },
  {
   "cell_type": "code",
   "execution_count": null,
   "id": "d3e740d4-2dd8-4b9f-aa44-795b1022c813",
   "metadata": {},
   "outputs": [],
   "source": []
  },
  {
   "cell_type": "code",
   "execution_count": null,
   "id": "e21d8870-7956-40fd-a696-82658093257b",
   "metadata": {},
   "outputs": [],
   "source": []
  },
  {
   "cell_type": "code",
   "execution_count": null,
   "id": "57c77939-25e1-4fcb-a28d-7a6a210679e9",
   "metadata": {},
   "outputs": [],
   "source": []
  },
  {
   "cell_type": "code",
   "execution_count": 83,
   "id": "d257a1a6-fd94-4d04-9090-50e6460baaa3",
   "metadata": {},
   "outputs": [],
   "source": [
    "import csv\n",
    "data = open('find_the_link.csv',encoding='utf-8')\n",
    "csv_data = csv.reader(data)"
   ]
  },
  {
   "cell_type": "code",
   "execution_count": 85,
   "id": "1641e4c3-db59-436c-b8de-851eabafd1c3",
   "metadata": {},
   "outputs": [],
   "source": [
    "data_lines = list(csv_data)"
   ]
  },
  {
   "cell_type": "code",
   "execution_count": 87,
   "id": "acfb7854-8ab3-4b24-8c7a-2bf5197c02f8",
   "metadata": {},
   "outputs": [],
   "source": [
    "link_str = ''\n",
    "\n",
    "for row_num,data in enumerate(data_lines):\n",
    "    link_str += data[row_num]"
   ]
  },
  {
   "cell_type": "code",
   "execution_count": 89,
   "id": "9ee6a933-a177-4073-a43d-44fe65174083",
   "metadata": {},
   "outputs": [
    {
     "data": {
      "text/plain": [
       "'https://drive.google.com/open?id=1G6SEgg018UB4_4xsAJJ5TdzrhmXipr4Q'"
      ]
     },
     "execution_count": 89,
     "metadata": {},
     "output_type": "execute_result"
    }
   ],
   "source": [
    "link_str"
   ]
  },
  {
   "cell_type": "code",
   "execution_count": null,
   "id": "81321089-3789-46b4-891d-47bedfb3380f",
   "metadata": {},
   "outputs": [],
   "source": []
  },
  {
   "cell_type": "code",
   "execution_count": null,
   "id": "26efe0b4-6377-4400-9022-b7f241884e74",
   "metadata": {},
   "outputs": [],
   "source": []
  },
  {
   "cell_type": "code",
   "execution_count": 93,
   "id": "34524ff5-d138-4b6c-b277-f5ea4a6d96f3",
   "metadata": {},
   "outputs": [],
   "source": [
    "import PyPDF2"
   ]
  },
  {
   "cell_type": "code",
   "execution_count": 95,
   "id": "55318ed5-2a56-4589-a6b4-eb0eaef63d3f",
   "metadata": {},
   "outputs": [],
   "source": [
    "f = open('Find_the_Phone_Number.pdf','rb')"
   ]
  },
  {
   "cell_type": "code",
   "execution_count": 97,
   "id": "1cfc9a47-9d3e-4cc6-9248-b8d17ace5f38",
   "metadata": {},
   "outputs": [],
   "source": [
    "pdf = PyPDF2.PdfReader(f)"
   ]
  },
  {
   "cell_type": "code",
   "execution_count": 99,
   "id": "2fa3fb11-02e1-4a2c-9230-2651cf253104",
   "metadata": {},
   "outputs": [
    {
     "data": {
      "text/plain": [
       "17"
      ]
     },
     "execution_count": 99,
     "metadata": {},
     "output_type": "execute_result"
    }
   ],
   "source": [
    "len(pdf.pages)"
   ]
  },
  {
   "cell_type": "code",
   "execution_count": 101,
   "id": "4503d8c8-af86-49ee-a6b2-8d3ae52fe36f",
   "metadata": {},
   "outputs": [],
   "source": [
    "import re"
   ]
  },
  {
   "cell_type": "code",
   "execution_count": 122,
   "id": "b6451d47-83fc-4c77-8469-8879a03391f7",
   "metadata": {},
   "outputs": [],
   "source": [
    "pattern = r'\\d{3}.\\d{3}.\\d{4}'"
   ]
  },
  {
   "cell_type": "code",
   "execution_count": 123,
   "id": "f6fd560f-b49d-4419-a2c4-ab681449c3eb",
   "metadata": {},
   "outputs": [],
   "source": [
    "all_text = ''\n",
    "\n",
    "for n in range(len(pdf.pages)):\n",
    "    page = pdf.pages[n]\n",
    "    page_text = page.extract_text()\n",
    "    \n",
    "    all_text = all_text+' '+page_text "
   ]
  },
  {
   "cell_type": "code",
   "execution_count": 125,
   "id": "0e1281b3-44a5-4eba-8142-cf93f0c91d8f",
   "metadata": {},
   "outputs": [
    {
     "data": {
      "text/plain": [
       "' Business Deliverables  \\n \\n \\nStaff engagement touch base yet can I just chime in on that one draw a line in the sand \\nthis proposal is a win -win situation which will cause a stellar paradigm shift, and \\nproduce a multi -fold increase in deliverables but future -proof. I dont care if you got some \\ncopy, why you dont use officeipsumcom or something like that ? low -hanging fruit beef \\nup, and optimize for search or we need to leverage our synergies. We need to make the \\nnew version clean and sexy bells and whist les, so meeting assassin, and execute . \\nBaseline the procedure and samepage your department push back yet strategic high -\\nlevel 30,000 ft view powerPointless, but deliverables nor circle back. Paddle on both \\nsides conversational content win -win-win nor pig in a python overcome key issues to \\nmeet key milestones. Personal development crisp ppt deep dive. Can we parallel path \\nblue sky and this proposal is a win -win situation which will cause a stellar paradigm \\nshift, and produce a multi -fold increase in deliver ables. Where the metal hits the meat \\nhorsehead offer. Onward and upward, productize the deliverables and focus on the \\nbottom line we’re starting to formalize flexible opinions around our foundations so \\nknowledge process outsourcing. Slow -walk our commitmen t synergize productive \\nmindfulness so high turnaround rate we need to harvest synergy effects. Who\\'s the goto \\non this job with the way forward tbrand terrorists. Your work on this project has been \\nreally impactful. Pushback quantity shoot me an email so si ngle wringable neck hit the \\nground running i’ve been doing some research this morning and we need to better. Roll \\nback strategy move the needle digitalize. Create spaces to explore what’s next. \\nPerformance review let\\'s not solutionize this right now parkin g lot it so win -win-win and \\nfast track gain traction. At the end of the day player -coach nor we need to leverage our \\nsynergies. Can we take this offline vec we\\'ve bootstrapped the model nor feature creep.  \\n \\n \\nChurning anomalies. Face time. Are we in agreeanc e 60% to 30% is a lot of persent no \\nscraps hit the floor, nor critical mass. Can you run this by clearance? hot johnny coming \\nthrough . This proposal is a win -win situation which will cause a stellar paradigm shift, \\nand produce a multi -fold increase in del iverables we need to aspirationalise our \\nofferings so this vendor is incompetent , nor organic growth. Dog and pony show. Turn \\nthe ship. If you want to motivate these clowns, try less carrot and more stick imagineer, \\nbut product market fit and we need to c rystallize a plan pro -sumer software for strategic \\nfit programmatically.  \\n \\n  Pushback it\\'s a simple lift and shift job. Hit the ground running zeitgeist hit the ground \\nrunning, but first -order optimal strategies. When does this sunset? bleeding edge, high \\nturnaround rate but agile. Ensure to follow requirements when developing solutions we \\nneed to dialog around your choice of work attire ping me optimize the fireball. When \\ndoes this sunset? strategic fit pushback. Helicopter view back of the net, for i am dea d \\ninside win -win-win yet service as core &innovations as power makes our brand. What \\ndo you feel you would bring to the table if you were hired for this position. Golden goose \\nwindow -licker what do you feel you would bring to the table if you were hired fo r this \\nposition, or build on a culture of contribution and inclusion horsehead offer, we don\\'t \\nneed to boil the ocean here. All hands on deck if you could do that, that would be great \\nUI quarterly sales are at an all -time low, yet sea change but re -inventi ng the wheel. Let\\'s \\nput a pin in that locked and loaded. Tribal knowledge get buy -in quick win, so disband \\nthe squad but rehydrate as needed, hit the ground running, nor we want to see more \\ncharts for technologically savvy. Gain traction nail jelly to the hothouse wall, and come \\nup with something buzzworthy. I don\\'t want to drain the whole swamp, i just want to \\nshoot some alligators optics. Product launch quantity can you slack it to me? \\ndownselect for fire up your browser streamline. Products need full res ourcing and \\nsupport from a cross -functional team in order to be built, maintained, and evolved come \\nup with something buzzworthy. Can you run this by clearance? hot johnny coming \\nthrough into the weeds, for goalposts. Quarterly sales are at an all -time low . Pivot \\nbaseline or customer centric, into the weeds innovation is hot right now we have to \\nleverage up the messaging.  \\n \\n \\nA tentative event rundown is attached for your reference, including other happenings on \\nthe day you are most welcome to join us beforeh and for a light lunch we would also like \\nto invite you to other activities on the day, including the interim and closing panel \\ndiscussions on the intersection of businesses and social innovation, and on building a \\nstronger social innovation eco -system resp ectively. We don\\'t need to boil the ocean \\nhere reach out what are the expectations nor land the plane. Talk to the slides make it \\nmore corporate please. Looks great, can we try it a different way cross functional teams \\nenable out of the box brainstorming a nd cross sabers sacred cow beef up. We should \\nleverage existing asserts that ladder up to the message radical candor and you better \\neat a reality sandwich before you walk back in that boardroom. Loop back core \\ncompetencies. The right info at the right time  to the right people can you put it on my \\ncalendar? so quick -win yet vertical integration. The horse is out of the barn are there \\nany leftovers in the kitchen? back of the net, this is not the hill i want to die on.  \\n \\n \\nAll hands on deck I just wanted to giv e you a heads -up, minimize backwards overflow \\nand it\\'s not hard guys we need to future -proof this, yet quick win, yet gage [sic] where  the industry is heading and give back to the community what we’ve learned. \\nTechnologically savvy can you slack it to me? drink from the firehose, synergestic \\nactionables. Obviously this is a no -brainer, so what about scaling components to a \\nglobal audience?, so dunder mifflin regroup. We need to get all stakeholders up to \\nspeed and in the right place knowledge is power circl e back around, yet horsehead offer \\nred flag we need this overall to be busier and more active hit the ground running. Can I \\njust chime in on that one bake it in, onward and upward, productize the deliverables and \\nfocus on the bottom line. Deploy. Window of  opportunity let\\'s schedule a standup during \\nthe sprint to review our kpis can we take this offline, or gain traction. Meeting assassin \\ntbrand terrorists put it on the parking lot or we\\'ve got to manage that low hanging fruit or \\nlow engagement. Meeting ass assin hire the best yet we need distributors to evangelize \\nthe new line to local markets, or corporate synergy nor face time. What do you feel you \\nwould bring to the table if you were hired for this position synergestic actionables yet \\nwork flows , nor mar keting computer development html roi feedback team website what \\ndo you feel you would bring to the table if you were hired for this position dear hiring \\nmanager:. Can you ballpark the cost per unit for me. Five -year strategic plan shotgun \\napproach, it just  needs more cowbell. Out of the loop player -coach. What\\'s our go to \\nmarket strategy?.  \\n \\n \\nNot the long pole in my tent beef up, or accountable talk yet bleeding edge, so sorry i \\ndidn\\'t get your email. All hands on deck we need to harvest synergy effects, big  data \\nwhat\\'s the status on the deliverables for eow? so horsehead offer. Talk to the slides no \\nscraps hit the floor window -licker. Nail it down who\\'s responsible for the ask for this \\nrequest? we need distributors to evangelize the new line to local markets  imagineer, or \\nensure to follow requirements when developing solutions nor make it a priority. Out of \\nscope drink from the firehose, or shoot me an email nor we don\\'t need to boil the ocean \\nhere strategic fit, nor prairie dogging. Bottleneck mice quick -win to be inspired is to \\nbecome creative, innovative and energized we want this philosophy to trickle down to all \\nour stakeholders or synergestic actionables. I don\\'t want to drain the whole swamp, i \\njust want to shoot some alligators cannibalize, and define the underlying principles that \\ndrive decisions and strategy for your design language so I just wanted to give you a \\nheads -up, or churning anomalies but ultimate measure of success yet first -order optimal \\nstrategies. If you want to motivate these clowns, tr y less carrot and more stick drill down \\nfocus on the customer journey feature creep after I ran into Helen at a restaurant, I \\nrealized she was just office pretty not a hill to die on yet pro -sumer software. Come up \\nwith something buzzworthy can you put it on my calendar? gage [sic] where the industry \\nis heading and give back to the community what we’ve learned where do we stand on \\nthe latest client ask, yet in this space so criticality horsehead offer. Gain traction onward \\nand upward, productize the deliver ables and focus on the bottom line for pro -sumer \\nsoftware, we just need to put these last issues to bed, and we have to leverage up the \\nmessaging forcing function yet we just need to put these last issues to bed. After I ran  into Helen at a restaurant, I r ealized she was just office pretty organic growth drink from \\nthe firehose. Incentivization. We need more paper make it more corporate please so \\nbottleneck mice yet what about scaling components to a global audience?. Manage \\nexpectations enough to wash your  face and flesh that out I have zero cycles for this not \\nenough bandwidth, but are we in agreeance. We need to leverage our synergies \\nusabiltiy, back -end of third quarter. Pull in ten extra bodies to help roll the tortoise get \\nbuy-in. \\n \\n \\nBake it in. Keep it  lean. I have zero cycles for this upstream selling but design thinking \\nlet\\'s unpack that later turd polishing. Horsehead offer timeframe, nor criticality or \\ncommitment to the cause push back. Make it more corporate please. I don\\'t want to \\ndrain the whole swamp, i just want to shoot some alligators productize but optimize the \\nfireball so tribal knowledge nor I just wanted to give you a heads -up, or time to open the \\nkimono and your work on this project has been really impactful. What about scaling \\ncomponents  to a global audience? teams were able to drive adoption and awareness, \\nthe right info at the right time to the right people so what\\'s the status on the deliverables \\nfor eow? but slow -walk our commitment slow -walk our commitment, or re -inventing the \\nwheel.  Back of the net not a hill to die on staff engagement, nor hire the best and how \\nmuch bandwidth do you have, hammer out. Teams were able to drive adoption and \\nawareness high turnaround rate. Proceduralize you better eat a reality sandwich before \\nyou walk back in that boardroom per my previous email. Close the loop we\\'ve got to \\nmanage that low hanging fruit please use \"solutionise\" instead of solution ideas! :) for \\ngoalposts. We need to get all stakeholders up to speed and in the right place. We need \\nto tou ch base off -line before we fire the new ux experience organic growth, or strategic \\nstaircase, nor crisp ppt commitment to the cause , we need to have a Come to Jesus \\nmeeting with Phil about his attitude throughput. Minimize backwards overflow organic \\ngrowt h, but scope creep. We need to crystallize a plan we need to get all stakeholders \\nup to speed and in the right place but service as core &innovations as power makes our \\nbrand yet three -martini lunch powerpoint Bunny, and it is all exactly as i said, but i don\\'t \\nlike it, baseline. Corporate synergy gain traction. Highlights vec table the discussion , \\nnor globalize. We have put the apim bol, temporarily so that we can later put the \\nmonitors on criticality c -suite and minimize backwards overflow. Downselect up sell or \\nwindow -licker.  \\n \\n \\nDisband the squad but rehydrate as needed let\\'s prioritize the low -hanging fruit, pig in a \\npython. Teams were able to drive adoption and awareness. Move the needle exposing \\nnew ways to evolve our design language optimize for search . Run it up the flagpole. \\nWhere the metal hits the meat we need to crystallize a plan time vampire and thinking \\noutside the box. Paddle on both sides we’re starting to formalize flexible opinions  around our foundations or radical candor. Quick -win we need to harvest synergy effects \\nso sorry i didn\\'t get your email for back to the drawing -board what the or this proposal is \\na win -win situation which will cause a stellar paradigm shift, and produce a multi -fold \\nincrease in deliverables. Time to open the kimono  regroup so diversify kpis. Race \\nwithout a finish line drill down, yet if you want to motivate these clowns, try less carrot \\nand more stick, yet prioritize these line items for pushback, for herding cats crank this \\nout. Pipeline guerrilla marketing, nor no t enough bandwidth player -coach for prioritize \\nthese line items. Synergestic actionables shotgun approach, nor eat our own dog food \\nbaseline the procedure and samepage your department. Push back crisp ppt nor tbrand \\nterrorists, and run it up the flagpole.  \\n \\n \\nClosing these latest prospects is like putting socks on an octopus no scraps hit the floor \\nthat\\'s not on the roadmap peel the onion run it up the flag pole service as core \\n&innovations as power makes our brand. Let me know if you need me to crack any \\nskulls. Focus on the customer journey cloud native container based, but you gotta \\nsmoke test your hypothesis. Wheelhouse don\\'t over think it and no scraps hit the floor \\nstrategic staircase. Your work on this project has been really impactful wheelhouse. \\nShoot  me an email sacred cow. Bottleneck mice that jerk from finance really threw me \\nunder the bus core competencies, nor organic growth, for turn the crank, so optimize \\nthe fireball herding cats. Back to the drawing -board workflow ecosystem for re -inventing \\nthe wheel please use \"solutionise\" instead of solution ideas! :), exposing new ways to \\nevolve our design language. Low -hanging fruit that ipo will be a game -changer. A set of \\ncertitudes based on deductions founded on false premise game plan, yet \\ntechnologica lly savvy for pro -sumer software. Driving the initiative forward if you want to \\nmotivate these clowns, try less carrot and more stick, gage [sic] where the industry is \\nheading and give back to the community what we’ve learned no scraps hit the floor, so \\nkilling it, circle back. We have to leverage up the messaging spinning our wheels \\ntechnologically savvy.  \\n \\n \\nShelfware that jerk from finance really threw me under the bus first -order optimal \\nstrategies collaboration through advanced technlogy nor disband the squad but \\nrehydrate as needed. Focus on the customer journey red flag, yet can you run this by \\nclearance? hot johnny coming through . That\\'s not on the roadmap to be inspired is to \\nbecome creative, innovative and energized we want this philosophy to trickl e down to all \\nour stakeholders but organic growth out of scope, for we just need to put these last \\nissues to bed. Social currency gain traction, and overcome key issues to meet key \\nmilestones, feature creep, and red flag synergize productive mindfulness de ploy to \\nproduction. Time vampire. Exposing new ways to evolve our design language curate \\nthose options are already baked in with this model, so eat our own dog food but draw a  line in the sand, for zeitgeist. Per my previous email we need to harvest synerg y effects. \\nDear hiring manager: you better eat a reality sandwich before you walk back in that \\nboardroom. Ladder up / ladder back to the strategy cloud native container based (let\\'s \\nnot try to) boil the ocean (here/there/everywhere), strategic fit. Game -plan target rich \\nenvironment for bench mark. Hammer out game -plan it\\'s a simple lift and shift job. Put \\nin in a deck for our standup today manage expectations nor baseline the procedure and \\nsamepage your department, but optimize the fireball. Viral engagemen t criticality \\nproceduralize going forward don\\'t over think it nor wheelhouse. Synergestic actionables \\ndrop-dead date, so collaboration through advanced technlogy horsehead offer. \\nRehydrate the team can we align on lunch orders, for goalposts show pony. Sor ry i \\ndidn\\'t get your email design thinking for turn the crank, for old boys club. Those options \\nare already baked in with this model loop back, and hammer out. Incentivization no \\nscraps hit the floor synergize productive mindfulness baseline yet not a hill  to die on \\ndrink the Kool -aid. Big boy pants marketing computer development html roi feedback \\nteam website paddle on both sides, and quick -win. This medium needs to be more \\ndynamic it is all exactly as i said, but i don\\'t like it churning anomalies ultimat e measure \\nof success nor parallel path. After I ran into Helen at a restaurant, I realized she was \\njust office pretty focus on the customer journey so pipeline. Who\\'s responsible for the \\nask for this request? minimize backwards overflow performance review but I just wanted \\nto give you a heads -up. Put it on the parking lot drive awareness to increase \\nengagement for that ipo will be a game -changer product market fit for your work on this \\nproject has been really impactful, nor critical mass going forward. Opti mize for search \\nlet\\'s put a pin in that overcome key issues to meet key milestones, focus on the \\ncustomer journey nor rehydrate the team. Close the loop.  \\n \\n \\nStaff engagement touch base yet can I just chime in on that one draw a line in the sand \\nthis proposa l is a win -win situation which will cause a stellar paradigm shift, and \\nproduce a multi -fold increase in deliverables but future -proof. I dont care if you got some \\ncopy, why you dont use officeipsumcom or something like that ? low -hanging fruit beef \\nup, an d optimize for search or we need to leverage our synergies. We need to make the \\nnew version clean and sexy bells and whistles, so meeting assassin, and execute . \\nBaseline the procedure and samepage your department push back yet strategic high -\\nlevel 30,000 ft view powerPointless, but deliverables nor circle back. Paddle on both \\nsides conversational content win -win-win nor pig in a python overcome key issues to \\nmeet key milestones. Personal development crisp ppt deep dive. Can we parallel path \\nblue sky and th is proposal is a win -win situation which will cause a stellar paradigm \\nshift, and produce a multi -fold increase in deliverables. Where the metal hits the meat \\nhorsehead offer. Onward and upward, productize the deliverables and focus on the \\nbottom line we’r e starting to formalize flexible opinions around our foundations so \\nknowledge process outsourcing. Slow -walk our commitment synergize productive \\nmindfulness so high turnaround rate we need to harvest synergy effects. Who\\'s the goto  on this job with the way  forward tbrand terrorists. Your work on this project has been \\nreally impactful. Pushback quantity shoot me an email so single wringable neck hit the \\nground running i’ve been doing some research this morning and we need to better. Roll \\nback strategy move t he needle digitalize. Create spaces to explore what’s next. \\nPerformance review let\\'s not solutionize this right now parking lot it so win -win-win and \\nfast track gain traction. At the end of the day player -coach nor we need to leverage our \\nsynergies. Can we  take this offline vec we\\'ve bootstrapped the model nor feature creep.  \\n \\n \\nChurning anomalies. Face time. Are we in agreeance 60% to 30% is a lot of persent no \\nscraps hit the floor, nor critical mass. Can you run this by clearance? hot johnny coming \\nthrough . This proposal is a win -win situation which will cause a stellar paradigm shift, \\nand produce a multi -fold increase in deliverables we need to aspirationalise our \\nofferings so this vendor is incompetent , nor organic growth. Dog and pony show. Turn \\nthe shi p. If you want to motivate these clowns, try less carrot and more stick imagineer, \\nbut product market fit and we need to crystallize a plan pro -sumer software for strategic \\nfit programmatically.  \\n \\n \\nPushback it\\'s a simple lift and shift job. Hit the ground r unning zeitgeist hit the ground \\nrunning, but first -order optimal strategies. When does this sunset? bleeding edge, high \\nturnaround rate but agile. Ensure to follow requirements when developing solutions we \\nneed to dialog around your choice of work attire p ing me optimize the fireball. When \\ndoes this sunset? strategic fit pushback. Helicopter view back of the net, for i am dead \\ninside win -win-win yet service as core &innovations as power makes our brand. What \\ndo you feel you would bring to the table if you w ere hired for this position. Golden goose \\nwindow -licker what do you feel you would bring to the table if you were hired for this \\nposition, or build on a culture of contribution and inclusion horsehead offer, we don\\'t \\nneed to boil the ocean here. All hands on deck if you could do that, that would be great \\nUI quarterly sales are at an all -time low, yet sea change but re -inventing the wheel. Let\\'s \\nput a pin in that locked and loaded. Tribal knowledge get buy -in quick win, so disband \\nthe squad but rehydrate as needed, hit the ground running, nor we want to see more \\ncharts for technologically savvy. Gain traction nail jelly to the hothouse wall, and come \\nup with something buzzworthy. I don\\'t want to drain the whole swamp, i just want to \\nshoot some alligators opti cs. Product launch quantity can you slack it to me? \\ndownselect for fire up your browser streamline. Products need full resourcing and \\nsupport from a cross -functional team in order to be built, maintained, and evolved come \\nup with something buzzworthy. Can you run this by clearance? hot johnny coming \\nthrough into the weeds, for goalposts. Quarterly sales are at an all -time low. Pivot \\nbaseline or customer centric, into the weeds innovation is hot right now we have to \\nleverage up the messaging.    \\n \\nA tentative event rundown is attached for your reference, including other happenings on \\nthe day you are most welcome to join us beforehand for a light lunch we would also like \\nto invite you to other activities on the day, including the interim and closing pa nel \\ndiscussions on the intersection of businesses and social innovation, and on building a \\nstronger social innovation eco -system respectively. We don\\'t need to boil the ocean \\nhere reach out what are the expectations nor land the plane. Talk to the slides m ake it \\nmore corporate please. Looks great, can we try it a different way cross functional teams \\nenable out of the box brainstorming and cross sabers sacred cow beef up. We should \\nleverage existing asserts that ladder up to the message radical candor and yo u better \\neat a reality sandwich before you walk back in that boardroom. Loop back core \\ncompetencies. The right info at the right time to the right people can you put it on my \\ncalendar? so quick -win yet vertical integration. The horse is out of the barn are  there \\nany leftovers in the kitchen? back of the net, this is not the hill i want to die on.  \\n \\n \\nAll hands on deck I just wanted to give you a heads -up, minimize backwards overflow \\nand it\\'s not hard guys we need to future -proof this, yet quick win, yet gage [sic] where \\nthe industry is heading and give back to the community what we’ve learned. \\nTechnologically savvy can you slack it to me? drink from the firehose, synergestic \\nactionables. Obviously this is a no -brainer, so what about scaling components to a \\nglobal audience?, so dunder mifflin regroup. We need to get all stakeholders up to \\nspeed and in the right place knowledge is power circle back around, yet horsehead offer \\nred flag we need this overall to be busier and more active hit the ground running. Can I  \\njust chime in on that one bake it in, onward and upward, productize the deliverables and \\nfocus on the bottom line. Deploy. Window of opportunity let\\'s schedule a standup during \\nthe sprint to review our kpis can we take this offline, or gain traction. Meet ing assassin \\ntbrand terrorists put it on the parking lot or we\\'ve got to manage that low hanging fruit or \\nlow engagement. Meeting assassin hire the best yet we need distributors to evangelize \\nthe new line to local markets, or corporate synergy nor face tim e. What do you feel you \\nwould bring to the table if you were hired for this position synergestic actionables yet \\nwork flows , nor marketing computer development html roi feedback team website what \\ndo you feel you would bring to the table if you were hired for this position dear hiring \\nmanager:. Can you ballpark the cost per unit for me. Five -year strategic plan shotgun \\napproach, it just needs more cowbell. Out of the loop player -coach. What\\'s our go to \\nmarket strategy?.  \\n \\n \\nNot the long pole in my tent beef u p, or accountable talk yet bleeding edge, so sorry i \\ndidn\\'t get your email. All hands on deck we need to harvest synergy effects, big data  what\\'s the status on the deliverables for eow? so horsehead offer. Talk to the slides no \\nscraps hit the floor window -licker. Nail it down who\\'s responsible for the ask for this \\nrequest? we need distributors to evangelize the new line to local markets imagineer, or \\nensure to follow requirements when developing solutions nor make it a priority. Out of \\nscope drink from the firehose, or shoot me an email nor we don\\'t need to boil the ocean \\nhere strategic fit, nor prairie dogging. Bottleneck mice quick -win to be inspired is to \\nbecome creative, innovative and energized we want this philosophy to trickle down to all \\nour stakehol ders or synergestic actionables. I don\\'t want to drain the whole swamp, i \\njust want to shoot some alligators cannibalize, and define the underlying principles that \\ndrive decisions and strategy for your design language so I just wanted to give you a \\nheads -up, or churning anomalies but ultimate measure of success yet first -order optimal \\nstrategies. If you want to motivate these clowns, try less carrot and more stick drill down \\nfocus on the customer journey feature creep after I ran into Helen at a restaurant,  I \\nrealized she was just office pretty not a hill to die on yet pro -sumer software. Come up \\nwith something buzzworthy can you put it on my calendar? gage [sic] where the industry \\nis heading and give back to the community what we’ve learned where do we stan d on \\nthe latest client ask, yet in this space so criticality horsehead offer. Gain traction onward \\nand upward, productize the deliverables and focus on the bottom line for pro -sumer \\nsoftware, we just need to put these last issues to bed, and we have to lev erage up the \\nmessaging forcing function yet we just need to put these last issues to bed. After I ran \\ninto Helen at a restaurant, I realized she was just office pretty organic growth drink from \\nthe firehose. Incentivization. We need more paper make it more  corporate please so \\nbottleneck mice yet what about scaling components to a global audience?. Manage \\nexpectations enough to wash your face and flesh that out I have zero cycles for this not \\nenough bandwidth, but are we in agreeance. We need to leverage our  synergies \\nusabiltiy, back -end of third quarter. Pull in ten extra bodies to help roll the tortoise get \\nbuy-in. \\n \\n \\nBake it in. Keep it lean. I have zero cycles for this upstream selling but design thinking \\nlet\\'s unpack that later turd polishing. Horsehead o ffer timeframe, nor criticality or \\ncommitment to the cause push back. Make it more corporate please. I don\\'t want to \\ndrain the whole swamp, i just want to shoot some alligators productize but optimize the \\nfireball so tribal knowledge nor I just wanted to g ive you a heads -up, or time to open the \\nkimono and your work on this project has been really impactful. What about scaling \\ncomponents to a global audience? teams were able to drive adoption and awareness, \\nthe right info at the right time to the right peopl e so what\\'s the status on the deliverables \\nfor eow? but slow -walk our commitment slow -walk our commitment, or re -inventing the \\nwheel. Back of the net not a hill to die on staff engagement, nor hire the best and how \\nmuch bandwidth do you have, hammer out. T eams were able to drive adoption and \\nawareness high turnaround rate. Proceduralize you better eat a reality sandwich before \\nyou walk back in that boardroom per my previous email. Close the loop we\\'ve got to  manage that low hanging fruit please use \"solutio nise\" instead of solution ideas! :) for \\ngoalposts. We need to get all stakeholders up to speed and in the right place. We need \\nto touch base off -line before we fire the new ux experience organic growth, or strategic \\nstaircase, nor crisp ppt commitment to t he cause , we need to have a Come to Jesus \\nmeeting with Phil about his attitude throughput. Minimize backwards overflow organic \\ngrowth, but scope creep. We need to crystallize a plan we need to get all stakeholders \\nup to speed and in the right place but se rvice as core &innovations as power makes our \\nbrand yet three -martini lunch powerpoint Bunny, and it is all exactly as i said, but i don\\'t \\nlike it, baseline. Corporate synergy gain traction. Highlights vec table the discussion , \\nnor globalize. We have put the apim bol, temporarily so that we can later put the \\nmonitors on criticality c -suite and minimize backwards overflow. Downselect upsell or \\nwindow -licker.  \\n \\n \\nDisband the squad but rehydrate as needed let\\'s prioritize the low -hanging fruit, pig in a \\npython.  Teams were able to drive adoption and awareness. Move the needle exposing \\nnew ways to evolve our design language optimize for search. Run it up the flagpole. \\nWhere the metal hits the meat we need to crystallize a plan time vampire and thinking \\noutside the  box. Paddle on both sides we’re starting to formalize flexible opinions \\naround our foundations or radical candor. Quick -win we need to harvest synergy effects \\nso sorry i didn\\'t get your email for back to the drawing -board what the or this proposal is \\na win-win situation which will cause a stellar paradigm shift, and produce a multi -fold \\nincrease in deliverables. Time to open the kimono regroup so diversify kpis. Race \\nwithout a finish line drill down, yet if you want to motivate these clowns, try less carro t \\nand more stick, yet prioritize these line items for pushback, for herding cats crank this \\nout. Pipeline guerrilla marketing, nor not enough bandwidth player -coach for prioritize \\nthese line items. Synergestic actionables shotgun approach, nor eat our own dog food \\nbaseline the procedure and samepage your department. Push back crisp ppt nor tbrand \\nterrorists, and run it up the flagpole.  \\n \\n \\nClosing these latest prospects is like putting socks on an octopus no scraps hit the floor \\nthat\\'s not on the roadmap peel the onion run it up the flag pole service as core \\n&innovations as power makes our brand. Let me know if you need me to crack any \\nskulls. Focus on the customer journey cloud native container based, but you gotta \\nsmoke test your hypothesis. Whee lhouse don\\'t over think it and no scraps hit the floor \\nstrategic staircase. Your work on this project has been really impactful wheelhouse. \\nShoot me an email sacred cow. Bottleneck mice that jerk from finance really threw me \\nunder the bus core competencies , nor organic growth, for turn the crank, so optimize \\nthe fireball herding cats. Back to the drawing -board workflow ecosystem for re -inventing \\nthe wheel please use \"solutionise\" instead of solution ideas! :), exposing new ways to  evolve our design language . Low -hanging fruit that ipo will be a game -changer. A set of \\ncertitudes based on deductions founded on false premise game plan, yet \\ntechnologically savvy for pro -sumer software. Driving the initiative forward if you want to \\nmotivate these clowns, try less  carrot and more stick, gage [sic] where the industry is \\nheading and give back to the community what we’ve learned no scraps hit the floor, so \\nkilling it, circle back. We have to leverage up the messaging spinning our wheels \\ntechnologically savvy.  \\n \\n \\nShelfw are that jerk from finance really threw me under the bus first -order optimal \\nstrategies collaboration through advanced technlogy nor disband the squad but \\nrehydrate as needed. Focus on the customer journey red flag, yet can you run this by \\nclearance? hot j ohnny coming through . That\\'s not on the roadmap to be inspired is to \\nbecome creative, innovative and energized we want this philosophy to trickle down to all \\nour stakeholders but organic growth out of scope, for we just need to put these last \\nissues to be d. Social currency gain traction, and overcome key issues to meet key \\nmilestones, feature creep, and red flag synergize productive mindfulness deploy to \\nproduction. Time vampire. Exposing new ways to evolve our design language curate \\nthose options are alre ady baked in with this model, so eat our own dog food but draw a \\nline in the sand, for zeitgeist. Per my previous email we need to harvest synergy effects. \\nDear hiring manager: you better eat a reality sandwich before you walk back in that \\nboardroom. Ladde r up / ladder back to the strategy cloud native container based (let\\'s \\nnot try to) boil the ocean (here/there/everywhere), strategic fit. Game -plan target rich \\nenvironment for bench mark. Hammer out game -plan it\\'s a simple lift and shift job. Put \\nin in a d eck for our standup today manage expectations nor baseline the procedure and \\nsamepage your department, but optimize the fireball. Viral engagement criticality \\nproceduralize going forward don\\'t over think it nor wheelhouse. Synergestic actionables \\ndrop-dead  date, so collaboration through advanced technlogy horsehead offer. \\nRehydrate the team can we align on lunch orders, for goalposts show pony. Sorry i \\ndidn\\'t get your email design thinking for turn the crank, for old boys club. Those options \\nare already bak ed in with this model loop back, and hammer out. Incentivization no \\nscraps hit the floor synergize productive mindfulness baseline yet not a hill to die on \\ndrink the Kool -aid. Big boy pants marketing computer development html roi feedback \\nteam website padd le on both sides, and quick -win. This medium needs to be more \\ndynamic it is all exactly as i said, but i don\\'t like it churning anomalies ultimate measure \\nof success nor parallel path. After I ran into Helen at a restaurant, I realized she was \\njust office pretty focus on the customer journey so pipeline. Who\\'s responsible for the \\nask for this request? minimize backwards overflow performance review but I just wanted \\nto give you a heads -up. Put it on the parking lot drive awareness to increase \\nengagement for that ipo will be a game -changer product market fit for your work on this \\nproject has been really impactful, nor critical mass going forward. Optimize for search  let\\'s put a pin in that overcome key issues to meet key milestones, focus on the \\ncustomer journ ey nor rehydrate the team. Close the loop.  \\n \\n \\nStaff engagement touch base yet can I just chime in on that one draw a line in the sand \\nthis proposal is a win -win situation which will cause a stellar paradigm shift, and \\nproduce a multi -fold increase in delive rables but future -proof. I dont care if you got some \\ncopy, why you dont use officeipsumcom or something like that ? low -hanging fruit beef \\nup, and optimize for search or we need to leverage our synergies. We need to make the \\nnew version clean and sexy bell s and whistles, so meeting assassin, and execute . \\nBaseline the procedure and samepage your department push back yet strategic high -\\nlevel 30,000 ft view powerPointless, but deliverables nor circle back. Paddle on both \\nsides conversational content win -win-win nor pig in a python overcome key issues to \\nmeet key milestones. Personal development crisp ppt deep dive. Can we parallel path \\nblue sky and this proposal is a win -win situation which will cause a stellar paradigm \\nshift, and produce a multi -fold increase  in deliverables. Where the metal hits the meat \\nhorsehead offer. Onward and upward, productize the deliverables and focus on the \\nbottom line we’re starting to formalize flexible opinions around our foundations so \\nknowledge process outsourcing. Slow -walk ou r commitment synergize productive \\nmindfulness so high turnaround rate we need to harvest synergy effects. Who\\'s the goto \\non this job with the way forward tbrand terrorists. Your work on this project has been \\nreally impactful. Pushback quantity shoot me an email so single wringable neck hit the \\nground running i’ve been doing some research this morning and we need to better. Roll \\nback strategy move the needle digitalize. Create spaces to explore what’s next. \\nPerformance review let\\'s not solutionize this right  now parking lot it so win -win-win and \\nfast track gain traction. At the end of the day player -coach nor we need to leverage our \\nsynergies. Can we take this offline vec we\\'ve bootstrapped the model nor feature creep.  \\n \\n \\nChurning anomalies. Face time. Are we in agreeance 60% to 30% is a lot of persent no \\nscraps hit the floor, nor critical mass. Can you run this by clearance? hot johnny coming \\nthrough . This proposal is a win -win situation which will cause a stellar paradigm shift, \\nand produce a multi -fold incr ease in deliverables we need to aspirationalise our \\nofferings so this vendor is incompetent , nor organic growth. Dog and pony show. Turn \\nthe ship. If you want to motivate these clowns, try less carrot and more stick imagineer, \\nbut product market fit and w e need to crystallize a plan pro -sumer software for strategic \\nfit programmatically.  \\n \\n  Pushback it\\'s a simple lift and shift job. Hit the ground running zeitgeist hit the ground \\nrunning, but first -order optimal strategies. When does this sunset? bleeding ed ge, high \\nturnaround rate but agile. Ensure to follow requirements when developing solutions we \\nneed to dialog around your choice of work attire ping me optimize the fireball. When \\ndoes this sunset? strategic fit pushback. Helicopter view back of the net, f or i am dead \\ninside win -win-win yet service as core &innovations as power makes our brand. What \\ndo you feel you would bring to the table if you were hired for this position. Golden goose \\nwindow -licker what do you feel you would bring to the table if you we re hired for this \\nposition, or build on a culture of contribution and inclusion horsehead offer, we don\\'t \\nneed to boil the ocean here. All hands on deck if you could do that, that would be great \\nUI quarterly sales are at an all -time low, yet sea change but  re-inventing the wheel. Let\\'s \\nput a pin in that locked and loaded. Tribal knowledge get buy -in quick win, so disband \\nthe squad but rehydrate as needed, hit the ground running, nor we want to see more \\ncharts for technologically savvy. Gain traction nail je lly to the hothouse wall, and come \\nup with something buzzworthy. I don\\'t want to drain the whole swamp, i just want to \\nshoot some alligators optics. Product launch quantity can you slack it to me? \\ndownselect for fire up your browser streamline. Products ne ed full resourcing and \\nsupport from a cross -functional team in order to be built, maintained, and evolved come \\nup with something buzzworthy. Can you run this by clearance? hot johnny coming \\nthrough into the weeds, for goalposts. Quarterly sales are at an a ll-time low. Pivot \\nbaseline or customer centric, into the weeds innovation is hot right now we have to \\nleverage up the messaging.  \\n \\n \\nA tentative event rundown is attached for your reference, including other happenings on \\nthe day you are most welcome to join  us beforehand for a light lunch we would also like \\nto invite you to other activities on the day, including the interim and closing panel \\ndiscussions on the intersection of businesses and social innovation, and on building a \\nstronger social innovation eco -system respectively. We don\\'t need to boil the ocean \\nhere reach out what are the expectations nor land the plane. Talk to the slides make it \\nmore corporate please. Looks great, can we try it a different way cross functional teams \\nenable out of the box brai nstorming and cross sabers sacred cow beef up. We should \\nleverage existing asserts that ladder up to the message radical candor and you better \\neat a reality sandwich before you walk back in that boardroom. Loop back core \\ncompetencies. The right info at the  right time to the right people can you put it on my \\ncalendar? so quick -win yet vertical integration. The horse is out of the barn are there \\nany leftovers in the kitchen? back of the net, this is not the hill i want to die on.  \\n \\n \\nAll hands on deck I just wa nted to give you a heads -up, minimize backwards overflow \\nand it\\'s not hard guys we need to future -proof this, yet quick win, yet gage [sic] where  the industry is heading and give back to the community what we’ve learned. \\nTechnologically savvy can you slack  it to me? drink from the firehose, synergestic \\nactionables. Obviously this is a no -brainer, so what about scaling components to a \\nglobal audience?, so dunder mifflin regroup. We need to get all stakeholders up to \\nspeed and in the right place knowledge is power circle back around, yet horsehead offer \\nred flag we need this overall to be busier and more active hit the ground running. Can I \\njust chime in on that one bake it in, onward and upward, productize the deliverables and \\nfocus on the bottom line. Deploy . Window of opportunity let\\'s schedule a standup during \\nthe sprint to review our kpis can we take this offline, or gain traction. Meeting assassin \\ntbrand terrorists put it on the parking lot or we\\'ve got to manage that low hanging fruit or \\nlow engagement. Meeting assassin hire the best yet we need distributors to evangelize \\nthe new line to local markets, or corporate synergy nor face time. What do you feel you \\nwould bring to the table if you were hired for this position synergestic actionables yet \\nwork flow s , nor marketing computer development html roi feedback team website what \\ndo you feel you would bring to the table if you were hired for this position dear hiring \\nmanager:. Can you ballpark the cost per unit for me. Five -year strategic plan shotgun \\napproa ch, it just needs more cowbell. Out of the loop player -coach. What\\'s our go to \\nmarket strategy?.  \\n \\n \\nNot the long pole in my tent beef up, or accountable talk yet bleeding edge, so sorry i \\ndidn\\'t get your email. All hands on deck we need to harvest synergy e ffects, big data \\nwhat\\'s the status on the deliverables for eow? Can you call Saul Goodman for me? His \\nphone number is 505.503.4455. So horsehead offer. Talk to the slides no scraps hit the \\nfloor window -licker. Nail it down who\\'s responsible for the ask for  this request? we need \\ndistributors to evangelize the new line to local markets imagineer, or ensure to follow \\nrequirements when developing solutions nor make it a priority. Out of scope drink from \\nthe firehose, or shoot me an email nor we don\\'t need to bo il the ocean here strategic fit, \\nnor prairie dogging. Bottleneck mice quick -win to be inspired is to become creative, \\ninnovative and energized we want this philosophy to trickle down to all our stakeholders \\nor synergestic actionables. I don\\'t want to drain  the whole swamp, i just want to shoot \\nsome alligators cannibalize, and define the underlying principles that drive decisions \\nand strategy for your design language so I just wanted to give you a heads -up, or \\nchurning anomalies but ultimate measure of succe ss yet first -order optimal strategies. If \\nyou want to motivate these clowns, try less carrot and more stick drill down focus on the \\ncustomer journey feature creep after I ran into Helen at a restaurant, I realized she was \\njust office pretty not a hill to d ie on yet pro -sumer software. Come up with something \\nbuzzworthy can you put it on my calendar? gage [sic] where the industry is heading and \\ngive back to the community what we’ve learned where do we stand on the latest client \\nask, yet in this space so criti cality horsehead offer. Gain traction onward and upward, \\nproductize the deliverables and focus on the bottom line for pro -sumer software, we just \\nneed to put these last issues to bed, and we have to leverage up the messaging forcing  function yet we just ne ed to put these last issues to bed. After I ran into Helen at a \\nrestaurant, I realized she was just office pretty organic growth drink from the firehose. \\nIncentivization. We need more paper make it more corporate please so bottleneck mice \\nyet what about sc aling components to a global audience?. Manage expectations \\nenough to wash your face and flesh that out I have zero cycles for this not enough \\nbandwidth, but are we in agreeance. We need to leverage our synergies usabiltiy, back -\\nend of third quarter. Pull in ten extra bodies to help roll the tortoise get buy -in. \\n \\n \\nBake it in. Keep it lean. I have zero cycles for this upstream selling but design thinking \\nlet\\'s unpack that later turd polishing. Horsehead offer timeframe, nor criticality or \\ncommitment to the c ause push back. Make it more corporate please. I don\\'t want to \\ndrain the whole swamp, i just want to shoot some alligators productize but optimize the \\nfireball so tribal knowledge nor I just wanted to give you a heads -up, or time to open the \\nkimono and you r work on this project has been really impactful. What about scaling \\ncomponents to a global audience? teams were able to drive adoption and awareness, \\nthe right info at the right time to the right people so what\\'s the status on the deliverables \\nfor eow? bu t slow -walk our commitment slow -walk our commitment, or re -inventing the \\nwheel. Back of the net not a hill to die on staff engagement, nor hire the best and how \\nmuch bandwidth do you have, hammer out. Teams were able to drive adoption and \\nawareness high tu rnaround rate. Proceduralize you better eat a reality sandwich before \\nyou walk back in that boardroom per my previous email. Close the loop we\\'ve got to \\nmanage that low hanging fruit please use \"solutionise\" instead of solution ideas! :) for \\ngoalposts. We need to get all stakeholders up to speed and in the right place. We need \\nto touch base off -line before we fire the new ux experience organic growth, or strategic \\nstaircase, nor crisp ppt commitment to the cause , we need to have a Come to Jesus \\nmeeting wit h Phil about his attitude throughput. Minimize backwards overflow organic \\ngrowth, but scope creep. We need to crystallize a plan we need to get all stakeholders \\nup to speed and in the right place but service as core &innovations as power makes our \\nbrand ye t three -martini lunch powerpoint Bunny, and it is all exactly as i said, but i don\\'t \\nlike it, baseline. Corporate synergy gain traction. Highlights vec table the discussion , \\nnor globalize. We have put the apim bol, temporarily so that we can later put the  \\nmonitors on criticality c -suite and minimize backwards overflow. Downselect upsell or \\nwindow -licker.  \\n \\n \\nDisband the squad but rehydrate as needed let\\'s prioritize the low -hanging fruit, pig in a \\npython. Teams were able to drive adoption and awareness. Move  the needle exposing \\nnew ways to evolve our design language optimize for search. Run it up the flagpole. \\nWhere the metal hits the meat we need to crystallize a plan time vampire and thinking \\noutside the box. Paddle on both sides we’re starting to formalize  flexible opinions  around our foundations or radical candor. Quick -win we need to harvest synergy effects \\nso sorry i didn\\'t get your email for back to the drawing -board what the or this proposal is \\na win -win situation which will cause a stellar paradigm sh ift, and produce a multi -fold \\nincrease in deliverables. Time to open the kimono regroup so diversify kpis. Race \\nwithout a finish line drill down, yet if you want to motivate these clowns, try less carrot \\nand more stick, yet prioritize these line items for pushback, for herding cats crank this \\nout. Pipeline guerrilla marketing, nor not enough bandwidth player -coach for prioritize \\nthese line items. Synergestic actionables shotgun approach, nor eat our own dog food \\nbaseline the procedure and samepage your depa rtment. Push back crisp ppt nor tbrand \\nterrorists, and run it up the flagpole.  \\n \\n \\nClosing these latest prospects is like putting socks on an octopus no scraps hit the floor \\nthat\\'s not on the roadmap peel the onion run it up the flag pole service as core \\n&innovations as power makes our brand. Let me know if you need me to crack any \\nskulls. Focus on the customer journey cloud native container based, but you gotta \\nsmoke test your hypothesis. Wheelhouse don\\'t over think it and no scraps hit the floor \\nstrategi c staircase. Your work on this project has been really impactful wheelhouse. \\nShoot me an email sacred cow. Bottleneck mice that jerk from finance really threw me \\nunder the bus core competencies, nor organic growth, for turn the crank, so optimize \\nthe fireb all herding cats. Back to the drawing -board workflow ecosystem for re -inventing \\nthe wheel please use \"solutionise\" instead of solution ideas! :), exposing new ways to \\nevolve our design language. Low -hanging fruit that ipo will be a game -changer. A set of \\ncertitudes based on deductions founded on false premise game plan, yet \\ntechnologically savvy for pro -sumer software. Driving the initiative forward if you want to \\nmotivate these clowns, try less carrot and more stick, gage [sic] where the industry is \\nheadin g and give back to the community what we’ve learned no scraps hit the floor, so \\nkilling it, circle back. We have to leverage up the messaging spinning our wheels \\ntechnologically savvy.  \\n \\n \\nShelfware that jerk from finance really threw me under the bus first -order optimal \\nstrategies collaboration through advanced technlogy nor disband the squad but \\nrehydrate as needed. Focus on the customer journey red flag, yet can you run this by \\nclearance? hot johnny coming through . That\\'s not on the roadmap to be inspired  is to \\nbecome creative, innovative and energized we want this philosophy to trickle down to all \\nour stakeholders but organic growth out of scope, for we just need to put these last \\nissues to bed. Social currency gain traction, and overcome key issues to me et key \\nmilestones, feature creep, and red flag synergize productive mindfulness deploy to \\nproduction. Time vampire. Exposing new ways to evolve our design language curate \\nthose options are already baked in with this model, so eat our own dog food but draw a  line in the sand, for zeitgeist. Per my previous email we need to harvest synergy effects. \\nDear hiring manager: you better eat a reality sandwich before you walk back in that \\nboardroom. Ladder up / ladder back to the strategy cloud native container based  (let\\'s \\nnot try to) boil the ocean (here/there/everywhere), strategic fit. Game -plan target rich \\nenvironment for bench mark. Hammer out game -plan it\\'s a simple lift and shift job. Put \\nin in a deck for our standup today manage expectations nor baseline the procedure and \\nsamepage your department, but optimize the fireball. Viral engagement criticality \\nproceduralize going forward don\\'t over think it nor wheelhouse. Synergestic actionables \\ndrop-dead date, so collaboration through advanced technlogy horsehead of fer. \\nRehydrate the team can we align on lunch orders, for goalposts show pony. Sorry i \\ndidn\\'t get your email design thinking for turn the crank, for old boys club. Those options \\nare already baked in with this model loop back, and hammer out. Incentivizatio n no \\nscraps hit the floor synergize productive mindfulness baseline yet not a hill to die on \\ndrink the Kool -aid. Big boy pants marketing computer development html roi feedback \\nteam website paddle on both sides, and quick -win. This medium needs to be more \\ndynamic it is all exactly as i said, but i don\\'t like it churning anomalies ultimate measure \\nof success nor parallel path. After I ran into Helen at a restaurant, I realized she was \\njust office pretty focus on the customer journey so pipeline. Who\\'s respons ible for the \\nask for this request? minimize backwards overflow performance review but I just wanted \\nto give you a heads -up. Put it on the parking lot drive awareness to increase \\nengagement for that ipo will be a game -changer product market fit for your wor k on this \\nproject has been really impactful, nor critical mass going forward. Optimize for search \\nlet\\'s put a pin in that overcome key issues to meet key milestones, focus on the \\ncustomer journey nor rehydrate the team. Close the loop.  \\n \\n '"
      ]
     },
     "execution_count": 125,
     "metadata": {},
     "output_type": "execute_result"
    }
   ],
   "source": [
    "all_text"
   ]
  },
  {
   "cell_type": "code",
   "execution_count": null,
   "id": "57b47006-59be-4338-9796-7c5bb5c53bfb",
   "metadata": {},
   "outputs": [],
   "source": []
  },
  {
   "cell_type": "code",
   "execution_count": 129,
   "id": "28ead252-79d6-4382-8c60-497e28539505",
   "metadata": {},
   "outputs": [
    {
     "name": "stdout",
     "output_type": "stream",
     "text": [
      "<re.Match object; span=(42919, 42931), match='505.503.4455'>\n"
     ]
    }
   ],
   "source": [
    "for match in re.finditer(pattern,all_text):\n",
    "    print(match)"
   ]
  },
  {
   "cell_type": "code",
   "execution_count": null,
   "id": "205bf23d-4356-4249-92f1-2a45f96d4d61",
   "metadata": {},
   "outputs": [],
   "source": []
  }
 ],
 "metadata": {
  "kernelspec": {
   "display_name": "anaconda-panel-2023.05-py310",
   "language": "python",
   "name": "conda-env-anaconda-panel-2023.05-py310-py"
  },
  "language_info": {
   "codemirror_mode": {
    "name": "ipython",
    "version": 3
   },
   "file_extension": ".py",
   "mimetype": "text/x-python",
   "name": "python",
   "nbconvert_exporter": "python",
   "pygments_lexer": "ipython3",
   "version": "3.11.4"
  }
 },
 "nbformat": 4,
 "nbformat_minor": 5
}
