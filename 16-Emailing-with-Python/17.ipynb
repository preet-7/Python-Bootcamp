{
 "cells": [
  {
   "cell_type": "code",
   "execution_count": 9,
   "id": "04ed46b8-7086-4e3d-ba65-409637f22041",
   "metadata": {},
   "outputs": [],
   "source": [
    "import smtplib"
   ]
  },
  {
   "cell_type": "code",
   "execution_count": 11,
   "id": "dd5e16de-06e2-4e54-8515-63a3c4126b86",
   "metadata": {},
   "outputs": [],
   "source": [
    "smtp_object = smtplib.SMTP('smtp.gmail.com',587)"
   ]
  },
  {
   "cell_type": "code",
   "execution_count": 13,
   "id": "ce82897f-a567-42f2-bcc2-88f6defa4da5",
   "metadata": {},
   "outputs": [
    {
     "data": {
      "text/plain": [
       "(250,\n",
       " b'smtp.gmail.com at your service, [54.86.101.159]\\nSIZE 35882577\\n8BITMIME\\nSTARTTLS\\nENHANCEDSTATUSCODES\\nPIPELINING\\nCHUNKING\\nSMTPUTF8')"
      ]
     },
     "execution_count": 13,
     "metadata": {},
     "output_type": "execute_result"
    }
   ],
   "source": [
    "smtp_object.ehlo()"
   ]
  },
  {
   "cell_type": "code",
   "execution_count": 15,
   "id": "47667623-c2bc-43bd-9c56-1e2fe33ce164",
   "metadata": {},
   "outputs": [
    {
     "data": {
      "text/plain": [
       "(220, b'2.0.0 Ready to start TLS')"
      ]
     },
     "execution_count": 15,
     "metadata": {},
     "output_type": "execute_result"
    }
   ],
   "source": [
    "smtp_object.starttls()"
   ]
  },
  {
   "cell_type": "code",
   "execution_count": 1,
   "id": "91fed85d-a1fa-448c-af4a-b69604933381",
   "metadata": {},
   "outputs": [],
   "source": [
    "import getpass"
   ]
  },
  {
   "cell_type": "code",
   "execution_count": 2,
   "id": "e9da449d-1420-40d7-9659-fcbc3cb6ef50",
   "metadata": {},
   "outputs": [
    {
     "name": "stdin",
     "output_type": "stream",
     "text": [
      "Password please:  ········\n"
     ]
    }
   ],
   "source": [
    "password = getpass.getpass('Password please: ')"
   ]
  },
  {
   "cell_type": "code",
   "execution_count": 5,
   "id": "64ce8b84-7a84-4f70-868d-34de547abade",
   "metadata": {},
   "outputs": [
    {
     "name": "stdin",
     "output_type": "stream",
     "text": [
      "Email address please: ········\n"
     ]
    }
   ],
   "source": [
    "email = getpass.getpass('Email address please:')"
   ]
  },
  {
   "cell_type": "code",
   "execution_count": 17,
   "id": "8e80c837-5ae7-43b2-8989-830b70989861",
   "metadata": {},
   "outputs": [
    {
     "data": {
      "text/plain": [
       "(235, b'2.7.0 Accepted')"
      ]
     },
     "execution_count": 17,
     "metadata": {},
     "output_type": "execute_result"
    }
   ],
   "source": [
    "smtp_object.login(email,password)"
   ]
  },
  {
   "cell_type": "code",
   "execution_count": 19,
   "id": "5043df66-6b85-471b-bdaf-bc8be65f7ae0",
   "metadata": {},
   "outputs": [
    {
     "name": "stdin",
     "output_type": "stream",
     "text": [
      "enter the subject line:  Python smtp test\n",
      "enter the body message:  hello world\n"
     ]
    },
    {
     "data": {
      "text/plain": [
       "{}"
      ]
     },
     "execution_count": 19,
     "metadata": {},
     "output_type": "execute_result"
    }
   ],
   "source": [
    "from_address = email\n",
    "to_address = email\n",
    "subject = input(\"enter the subject line: \")\n",
    "message = input(\"enter the body message: \")\n",
    "msg = \"Subject: \"+subject+'\\n'+message\n",
    "\n",
    "smtp_object.sendmail(from_address,to_address,msg)"
   ]
  },
  {
   "cell_type": "code",
   "execution_count": 21,
   "id": "1201c36f-9a59-41eb-a530-13441a656101",
   "metadata": {},
   "outputs": [
    {
     "data": {
      "text/plain": [
       "(221,\n",
       " b'2.0.0 closing connection q7-20020ae9e407000000b007759a81d88esm406732qkc.50 - gsmtp')"
      ]
     },
     "execution_count": 21,
     "metadata": {},
     "output_type": "execute_result"
    }
   ],
   "source": [
    "smtp_object.quit()"
   ]
  },
  {
   "cell_type": "code",
   "execution_count": null,
   "id": "1f991769-037b-45c2-b5ba-b55f0b099a17",
   "metadata": {},
   "outputs": [],
   "source": []
  },
  {
   "cell_type": "code",
   "execution_count": null,
   "id": "592eca15-e3d9-44e3-8dde-62c3f69e6080",
   "metadata": {},
   "outputs": [],
   "source": []
  },
  {
   "cell_type": "code",
   "execution_count": 25,
   "id": "1be1d402-175c-4081-93ab-e58f6efccb01",
   "metadata": {},
   "outputs": [],
   "source": [
    "import imaplib"
   ]
  },
  {
   "cell_type": "code",
   "execution_count": 27,
   "id": "06af0e5e-63d7-4620-99b4-3d70a3c664ab",
   "metadata": {},
   "outputs": [],
   "source": [
    "M = imaplib.IMAP4_SSL('imap.gmail.com')"
   ]
  },
  {
   "cell_type": "code",
   "execution_count": 29,
   "id": "b72943af-545c-4ec4-acb6-d7b767580a7b",
   "metadata": {},
   "outputs": [],
   "source": [
    "import getpass"
   ]
  },
  {
   "cell_type": "code",
   "execution_count": 31,
   "id": "10bda13e-0385-40bd-821c-9bc635251397",
   "metadata": {},
   "outputs": [
    {
     "name": "stdin",
     "output_type": "stream",
     "text": [
      "please enter mail address:  ········\n"
     ]
    }
   ],
   "source": [
    "email = getpass.getpass(\"please enter mail address: \")"
   ]
  },
  {
   "cell_type": "code",
   "execution_count": 33,
   "id": "23443224-082a-4f61-a67f-599e48639603",
   "metadata": {},
   "outputs": [
    {
     "name": "stdin",
     "output_type": "stream",
     "text": [
      "Password please:  ········\n"
     ]
    }
   ],
   "source": [
    "password = getpass.getpass('Password please: ')"
   ]
  },
  {
   "cell_type": "code",
   "execution_count": 35,
   "id": "d00bf5e5-b497-4b8d-ab2d-81cf009ec964",
   "metadata": {},
   "outputs": [
    {
     "data": {
      "text/plain": [
       "('OK', [b'preet3.14159@gmail.com authenticated (Success)'])"
      ]
     },
     "execution_count": 35,
     "metadata": {},
     "output_type": "execute_result"
    }
   ],
   "source": [
    "M.login(email,password)"
   ]
  },
  {
   "cell_type": "code",
   "execution_count": 37,
   "id": "a1d307b7-65f9-45b9-802b-0aeabc3eeb04",
   "metadata": {},
   "outputs": [
    {
     "data": {
      "text/plain": [
       "('OK',\n",
       " [b'(\\\\HasNoChildren) \"/\" \"INBOX\"',\n",
       "  b'(\\\\HasChildren \\\\Noselect) \"/\" \"[Gmail]\"',\n",
       "  b'(\\\\All \\\\HasNoChildren) \"/\" \"[Gmail]/All Mail\"',\n",
       "  b'(\\\\Drafts \\\\HasNoChildren) \"/\" \"[Gmail]/Drafts\"',\n",
       "  b'(\\\\HasNoChildren \\\\Important) \"/\" \"[Gmail]/Important\"',\n",
       "  b'(\\\\HasNoChildren \\\\Sent) \"/\" \"[Gmail]/Sent Mail\"',\n",
       "  b'(\\\\HasNoChildren \\\\Junk) \"/\" \"[Gmail]/Spam\"',\n",
       "  b'(\\\\Flagged \\\\HasNoChildren) \"/\" \"[Gmail]/Starred\"',\n",
       "  b'(\\\\HasNoChildren \\\\Trash) \"/\" \"[Gmail]/Trash\"'])"
      ]
     },
     "execution_count": 37,
     "metadata": {},
     "output_type": "execute_result"
    }
   ],
   "source": [
    "M.list()"
   ]
  },
  {
   "cell_type": "code",
   "execution_count": 39,
   "id": "4417fb1d-92d1-4545-9abf-cfaa085ac74b",
   "metadata": {},
   "outputs": [
    {
     "data": {
      "text/plain": [
       "('OK', [b'231'])"
      ]
     },
     "execution_count": 39,
     "metadata": {},
     "output_type": "execute_result"
    }
   ],
   "source": [
    "M.select('inbox')"
   ]
  },
  {
   "cell_type": "code",
   "execution_count": 41,
   "id": "13432e4d-e714-4c23-9199-b8e45b0d2783",
   "metadata": {},
   "outputs": [],
   "source": [
    "typ, data = M.search(None, 'SUBJECT \"Python smtp test\"')"
   ]
  },
  {
   "cell_type": "code",
   "execution_count": 43,
   "id": "469c4de8-4308-4378-861c-e117d45c8eab",
   "metadata": {},
   "outputs": [
    {
     "data": {
      "text/plain": [
       "'OK'"
      ]
     },
     "execution_count": 43,
     "metadata": {},
     "output_type": "execute_result"
    }
   ],
   "source": [
    "typ"
   ]
  },
  {
   "cell_type": "code",
   "execution_count": 45,
   "id": "d29e7d84-1eae-4420-a0af-660b1ef3ec46",
   "metadata": {},
   "outputs": [
    {
     "data": {
      "text/plain": [
       "[b'231']"
      ]
     },
     "execution_count": 45,
     "metadata": {},
     "output_type": "execute_result"
    }
   ],
   "source": [
    "data"
   ]
  },
  {
   "cell_type": "code",
   "execution_count": 47,
   "id": "6cb2d4e6-1826-4ccd-a366-d7fdacbc211b",
   "metadata": {},
   "outputs": [],
   "source": [
    "email_id = data[0]"
   ]
  },
  {
   "cell_type": "code",
   "execution_count": 49,
   "id": "add7776d-f689-48b2-846c-9a98f1eca35e",
   "metadata": {},
   "outputs": [],
   "source": [
    "result, email_data = M.fetch(email_id,'(RFC822)')"
   ]
  },
  {
   "cell_type": "code",
   "execution_count": 51,
   "id": "7771571f-cf48-4948-9381-927357769570",
   "metadata": {},
   "outputs": [
    {
     "data": {
      "text/plain": [
       "[(b'231 (RFC822 {600}',\n",
       "  b'Bcc: preet3.14159@gmail.com\\r\\nReturn-Path: <preet3.14159@gmail.com>\\r\\nReceived: from [127.0.0.1] (ec2-54-86-101-159.compute-1.amazonaws.com. [54.86.101.159])\\r\\n        by smtp.gmail.com with ESMTPSA id q7-20020ae9e407000000b007759a81d88esm406732qkc.50.2023.10.27.02.58.41\\r\\n        for <preet3.14159@gmail.com>\\r\\n        (version=TLS1_3 cipher=TLS_AES_256_GCM_SHA384 bits=256/256);\\r\\n        Fri, 27 Oct 2023 02:58:41 -0700 (PDT)\\r\\nMessage-ID: <653b89d1.e90a0220.66796.2435@mx.google.com>\\r\\nDate: Fri, 27 Oct 2023 02:58:41 -0700 (PDT)\\r\\nFrom: preet3.14159@gmail.com\\r\\nSubject: Python smtp test\\r\\n\\r\\nhello world\\r\\n'),\n",
       " b')']"
      ]
     },
     "execution_count": 51,
     "metadata": {},
     "output_type": "execute_result"
    }
   ],
   "source": [
    "email_data"
   ]
  },
  {
   "cell_type": "code",
   "execution_count": 53,
   "id": "510efc38-4c91-4166-903a-546d7c200525",
   "metadata": {},
   "outputs": [],
   "source": [
    "raw_email = email_data[0][1]"
   ]
  },
  {
   "cell_type": "code",
   "execution_count": 55,
   "id": "d8334167-8b7c-47c8-86b4-5389cfdc7354",
   "metadata": {},
   "outputs": [],
   "source": [
    "raw_email_string = raw_email.decode('utf=8')"
   ]
  },
  {
   "cell_type": "code",
   "execution_count": 57,
   "id": "68ac0787-b92f-40c5-a6d9-e1431bade2e2",
   "metadata": {},
   "outputs": [],
   "source": [
    "import email"
   ]
  },
  {
   "cell_type": "code",
   "execution_count": 61,
   "id": "ada7673e-f670-4e20-8c11-e3903298ce73",
   "metadata": {},
   "outputs": [],
   "source": [
    "email_message = email.message_from_string(raw_email_string)"
   ]
  },
  {
   "cell_type": "code",
   "execution_count": 63,
   "id": "523647db-2a5e-491b-8199-9d62eba08ab9",
   "metadata": {},
   "outputs": [
    {
     "name": "stdout",
     "output_type": "stream",
     "text": [
      "b'hello world\\r\\n'\n"
     ]
    }
   ],
   "source": [
    "for part in email_message.walk():\n",
    "    if part.get_content_type() == 'text/plain':\n",
    "        body = part.get_payload(decode=True)\n",
    "        print(body)"
   ]
  },
  {
   "cell_type": "code",
   "execution_count": null,
   "id": "a274e8ab-d2c5-4f5e-b028-a99fc25137fd",
   "metadata": {},
   "outputs": [],
   "source": []
  }
 ],
 "metadata": {
  "kernelspec": {
   "display_name": "anaconda-2022.05-py39",
   "language": "python",
   "name": "conda-env-anaconda-2022.05-py39-py"
  },
  "language_info": {
   "codemirror_mode": {
    "name": "ipython",
    "version": 3
   },
   "file_extension": ".py",
   "mimetype": "text/x-python",
   "name": "python",
   "nbconvert_exporter": "python",
   "pygments_lexer": "ipython3",
   "version": "3.9.12"
  }
 },
 "nbformat": 4,
 "nbformat_minor": 5
}
